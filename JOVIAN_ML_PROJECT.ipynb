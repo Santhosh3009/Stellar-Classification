{
 "cells": [
  {
   "cell_type": "markdown",
   "metadata": {},
   "source": [
    "# Stellar Classification of Stars\n",
    "\n",
    "In this project, we process a messy dataset and make it ready for classification. We then classify the given stars into dwarfs and giants.\n",
    "\n",
    "We import raw dataset from Kaggle, clean it by removing unnecessary columns, handle missing data, encode data, balance and downsample data.\n",
    "\n",
    "Below is the link of dataset from kaggle\n",
    "\n",
    "\n",
    "https://www.kaggle.com/vinesmsuic/star-categorization-giants-and-dwarfs"
   ]
  },
  {
   "cell_type": "code",
   "execution_count": 1,
   "metadata": {
    "_cell_guid": "b1076dfc-b9ad-4769-8c92-a6c4dae69d19",
    "_uuid": "8f2839f25d086af736a60e9eeb907d3b93b6e0e5"
   },
   "outputs": [],
   "source": [
    "# This Python 3 environment comes with many helpful analytics libraries installed\n",
    "# It is defined by the kaggle/python Docker image: https://github.com/kaggle/docker-python\n",
    "# For example, here's several helpful packages to load\n",
    "\n",
    "import numpy as np # linear algebra\n",
    "import pandas as pd # data processing, CSV file I/O (e.g. pd.read_csv)\n",
    "\n",

   ]
  },
  {
   "cell_type": "code",
   "execution_count": 2,
   "metadata": {
    "_cell_guid": "79c7e3d0-c299-4dcb-8224-4455121ee9b0",
    "_uuid": "d629ff2d2480ee46fbb7e2d37f6b5fab8052498a"
   },
   "outputs": [
    {
     "data": {
      "text/html": [
       "<div>\n",
       "<style scoped>\n",
       "    .dataframe tbody tr th:only-of-type {\n",
       "        vertical-align: middle;\n",
       "    }\n",
       "\n",
       "    .dataframe tbody tr th {\n",
       "        vertical-align: top;\n",
       "    }\n",
       "\n",
       "    .dataframe thead th {\n",
       "        text-align: right;\n",
       "    }\n",
       "</style>\n",
       "<table border=\"1\" class=\"dataframe\">\n",
       "  <thead>\n",
       "    <tr style=\"text-align: right;\">\n",
       "      <th></th>\n",
       "      <th>Unnamed: 0</th>\n",
       "      <th>Vmag</th>\n",
       "      <th>Plx</th>\n",
       "      <th>e_Plx</th>\n",
       "      <th>B-V</th>\n",
       "      <th>SpType</th>\n",
       "    </tr>\n",
       "  </thead>\n",
       "  <tbody>\n",
       "    <tr>\n",
       "      <th>0</th>\n",
       "      <td>0</td>\n",
       "      <td>9.10</td>\n",
       "      <td>3.54</td>\n",
       "      <td>1.39</td>\n",
       "      <td>0.482</td>\n",
       "      <td>F5</td>\n",
       "    </tr>\n",
       "    <tr>\n",
       "      <th>1</th>\n",
       "      <td>1</td>\n",
       "      <td>9.27</td>\n",
       "      <td>21.90</td>\n",
       "      <td>3.10</td>\n",
       "      <td>0.999</td>\n",
       "      <td>K3V</td>\n",
       "    </tr>\n",
       "    <tr>\n",
       "      <th>2</th>\n",
       "      <td>2</td>\n",
       "      <td>6.61</td>\n",
       "      <td>2.81</td>\n",
       "      <td>0.63</td>\n",
       "      <td>-0.019</td>\n",
       "      <td>B9</td>\n",
       "    </tr>\n",
       "    <tr>\n",
       "      <th>3</th>\n",
       "      <td>3</td>\n",
       "      <td>8.06</td>\n",
       "      <td>7.75</td>\n",
       "      <td>0.97</td>\n",
       "      <td>0.370</td>\n",
       "      <td>F0V</td>\n",
       "    </tr>\n",
       "    <tr>\n",
       "      <th>4</th>\n",
       "      <td>4</td>\n",
       "      <td>8.55</td>\n",
       "      <td>2.87</td>\n",
       "      <td>1.11</td>\n",
       "      <td>0.902</td>\n",
       "      <td>G8III</td>\n",
       "    </tr>\n",
       "    <tr>\n",
       "      <th>...</th>\n",
       "      <td>...</td>\n",
       "      <td>...</td>\n",
       "      <td>...</td>\n",
       "      <td>...</td>\n",
       "      <td>...</td>\n",
       "      <td>...</td>\n",
       "    </tr>\n",
       "    <tr>\n",
       "      <th>99994</th>\n",
       "      <td>99994</td>\n",
       "      <td>8.72</td>\n",
       "      <td>3.07</td>\n",
       "      <td>0.87</td>\n",
       "      <td>0.097</td>\n",
       "      <td>B3</td>\n",
       "    </tr>\n",
       "    <tr>\n",
       "      <th>99995</th>\n",
       "      <td>99995</td>\n",
       "      <td>9.25</td>\n",
       "      <td></td>\n",
       "      <td></td>\n",
       "      <td>0.131</td>\n",
       "      <td>A1V</td>\n",
       "    </tr>\n",
       "    <tr>\n",
       "      <th>99996</th>\n",
       "      <td>99996</td>\n",
       "      <td>8.08</td>\n",
       "      <td>1.07</td>\n",
       "      <td>0.68</td>\n",
       "      <td>1.094</td>\n",
       "      <td>G5</td>\n",
       "    </tr>\n",
       "    <tr>\n",
       "      <th>99997</th>\n",
       "      <td>99997</td>\n",
       "      <td>6.98</td>\n",
       "      <td>2.97</td>\n",
       "      <td>0.76</td>\n",
       "      <td>-0.143</td>\n",
       "      <td>B1.5V</td>\n",
       "    </tr>\n",
       "    <tr>\n",
       "      <th>99998</th>\n",
       "      <td>99998</td>\n",
       "      <td>8.51</td>\n",
       "      <td>-1.18</td>\n",
       "      <td>1.34</td>\n",
       "      <td>1.568</td>\n",
       "      <td>K5/M0III</td>\n",
       "    </tr>\n",
       "  </tbody>\n",
       "</table>\n",
       "<p>99999 rows × 6 columns</p>\n",
       "</div>"
      ],
      "text/plain": [
       "       Unnamed: 0   Vmag      Plx   e_Plx     B-V    SpType\n",
       "0               0   9.10     3.54    1.39   0.482        F5\n",
       "1               1   9.27    21.90    3.10   0.999       K3V\n",
       "2               2   6.61     2.81    0.63  -0.019        B9\n",
       "3               3   8.06     7.75    0.97   0.370       F0V\n",
       "4               4   8.55     2.87    1.11   0.902     G8III\n",
       "...           ...    ...      ...     ...     ...       ...\n",
       "99994       99994   8.72     3.07    0.87   0.097        B3\n",
       "99995       99995   9.25                    0.131       A1V\n",
       "99996       99996   8.08     1.07    0.68   1.094        G5\n",
       "99997       99997   6.98     2.97    0.76  -0.143     B1.5V\n",
       "99998       99998   8.51    -1.18    1.34   1.568  K5/M0III\n",
       "\n",
       "[99999 rows x 6 columns]"
      ]
     },
     "execution_count": 2,
     "metadata": {},
     "output_type": "execute_result"
    }
   ],
   "source": [
    "# Use pd.read_csv to read file\n",
    "path = \"Star99999_raw.csv\"\n",
    "raw_data = pd.read_csv(path)\n",
    "\n",
    "raw_data"
   ]
  },
  {
   "cell_type": "code",
   "execution_count": 3,
   "metadata": {},
   "outputs": [
    {
     "data": {
      "text/plain": [
       "Index(['Unnamed: 0', 'Vmag', 'Plx', 'e_Plx', 'B-V', 'SpType'], dtype='object')"
      ]
     },
     "execution_count": 3,
     "metadata": {},
     "output_type": "execute_result"
    }
   ],
   "source": [
    "raw_data.columns"
   ]
  },
  {
   "cell_type": "markdown",
   "metadata": {},
   "source": [
    "* `Vmag` - Visual Apparent Magnitude of the Star \n",
    "* `Plx` - Distance Between the Star and the Earth \n",
    "* `e_Plx` - Standard Error of `Plx` \n",
    "* `B-V` - B-V color index. \n",
    "    * Hot star has a B-V color index ~ 0 or negative, \n",
    "    * Cool star has a B-V color index ~ to 2.0\n",
    "    * Other stars : 0 - 2.0\n",
    "* `SpType` -  [Stellar classification.](https://en.wikipedia.org/wiki/Stellar_classification) (Roman Numerals &gt;IV are giants. Otherwise are dwarfs) \n"
   ]
  },
  {
   "cell_type": "code",
   "execution_count": 4,
   "metadata": {},
   "outputs": [
    {
     "name": "stdout",
     "output_type": "stream",
     "text": [
      "<class 'pandas.core.frame.DataFrame'>\n",
      "RangeIndex: 99999 entries, 0 to 99998\n",
      "Data columns (total 6 columns):\n",
      " #   Column      Non-Null Count  Dtype \n",
      "---  ------      --------------  ----- \n",
      " 0   Unnamed: 0  99999 non-null  int64 \n",
      " 1   Vmag        99999 non-null  object\n",
      " 2   Plx         99999 non-null  object\n",
      " 3   e_Plx       99999 non-null  object\n",
      " 4   B-V         99999 non-null  object\n",
      " 5   SpType      97377 non-null  object\n",
      "dtypes: int64(1), object(5)\n",
      "memory usage: 4.6+ MB\n"
     ]
    }
   ],
   "source": [
    "# Check the DataType of our dataset\n",
    "raw_data.info()"
   ]
  },
  {
   "cell_type": "code",
   "execution_count": 5,
   "metadata": {},
   "outputs": [],
   "source": [
    "# Convert Columns data type to float values\n",
    "raw_data[\"Vmag\"] = pd.to_numeric(raw_data[\"Vmag\"], downcast=\"float\", errors='coerce')\n",
    "raw_data[\"Plx\"] = pd.to_numeric(raw_data[\"Plx\"], downcast=\"float\", errors='coerce')\n",
    "raw_data[\"e_Plx\"] = pd.to_numeric(raw_data[\"e_Plx\"], downcast=\"float\", errors='coerce')\n",
    "raw_data[\"B-V\"] = pd.to_numeric(raw_data[\"B-V\"], downcast=\"float\", errors='coerce')"
   ]
  },
  {
   "cell_type": "markdown",
   "metadata": {},
   "source": [
    "We are converting objects to float value and 'coerce' is used to convert bad non-numeric values to NaN"
   ]
  },
  {
   "cell_type": "code",
   "execution_count": 6,
   "metadata": {},
   "outputs": [],
   "source": [
    "raw_data = raw_data.drop('Unnamed: 0', axis=1)"
   ]
  },
  {
   "cell_type": "code",
   "execution_count": 7,
   "metadata": {},
   "outputs": [
    {
     "name": "stdout",
     "output_type": "stream",
     "text": [
      "<class 'pandas.core.frame.DataFrame'>\n",
      "RangeIndex: 99999 entries, 0 to 99998\n",
      "Data columns (total 5 columns):\n",
      " #   Column  Non-Null Count  Dtype  \n",
      "---  ------  --------------  -----  \n",
      " 0   Vmag    99998 non-null  float32\n",
      " 1   Plx     99768 non-null  float32\n",
      " 2   e_Plx   99768 non-null  float32\n",
      " 3   B-V     98871 non-null  float32\n",
      " 4   SpType  97377 non-null  object \n",
      "dtypes: float32(4), object(1)\n",
      "memory usage: 2.3+ MB\n"
     ]
    }
   ],
   "source": [
    "# Check the DataType of our dataset\n",
    "raw_data.info()"
   ]
  },
  {
   "cell_type": "markdown",
   "metadata": {},
   "source": [
    "## Handling Missing data\n"
   ]
  },
  {
   "cell_type": "code",
   "execution_count": 8,
   "metadata": {},
   "outputs": [
    {
     "data": {
      "text/plain": [
       "Vmag         1\n",
       "Plx        231\n",
       "e_Plx      231\n",
       "B-V       1128\n",
       "SpType    2622\n",
       "dtype: int64"
      ]
     },
     "execution_count": 8,
     "metadata": {},
     "output_type": "execute_result"
    }
   ],
   "source": [
    "# get the number of missing data points per column\n",
    "missing_values_count = raw_data.isnull().sum()\n",
    "\n",
    "missing_values_count"
   ]
  },
  {
   "cell_type": "code",
   "execution_count": 9,
   "metadata": {},
   "outputs": [
    {
     "name": "stdout",
     "output_type": "stream",
     "text": [
      "Percentage Missing: 0.84%\n"
     ]
    }
   ],
   "source": [
    "# how many total missing values do we have?\n",
    "total_cells = np.product(raw_data.shape)\n",
    "total_missing = missing_values_count.sum()\n",
    "\n",
    "# percentage of data that is missing\n",
    "percent_missing = (total_missing/total_cells)\n",
    "print(\"Percentage Missing:\", \"{:.2%}\".format(percent_missing))"
   ]
  },
  {
   "cell_type": "markdown",
   "metadata": {},
   "source": [
    "From the percentage of missing data, since it is so small (only 0.84%), we can just drop the rows.\n",
    "\n",
    "Let's see what will happen if we remove all the rows that contain a missing value."
   ]
  },
  {
   "cell_type": "markdown",
   "metadata": {},
   "source": [
    "## Dropping Missing Data"
   ]
  },
  {
   "cell_type": "code",
   "execution_count": 10,
   "metadata": {},
   "outputs": [
    {
     "data": {
      "text/html": [
       "<div>\n",
       "<style scoped>\n",
       "    .dataframe tbody tr th:only-of-type {\n",
       "        vertical-align: middle;\n",
       "    }\n",
       "\n",
       "    .dataframe tbody tr th {\n",
       "        vertical-align: top;\n",
       "    }\n",
       "\n",
       "    .dataframe thead th {\n",
       "        text-align: right;\n",
       "    }\n",
       "</style>\n",
       "<table border=\"1\" class=\"dataframe\">\n",
       "  <thead>\n",
       "    <tr style=\"text-align: right;\">\n",
       "      <th></th>\n",
       "      <th>Vmag</th>\n",
       "      <th>Plx</th>\n",
       "      <th>e_Plx</th>\n",
       "      <th>B-V</th>\n",
       "      <th>SpType</th>\n",
       "    </tr>\n",
       "  </thead>\n",
       "  <tbody>\n",
       "    <tr>\n",
       "      <th>0</th>\n",
       "      <td>9.10</td>\n",
       "      <td>3.54</td>\n",
       "      <td>1.39</td>\n",
       "      <td>0.482</td>\n",
       "      <td>F5</td>\n",
       "    </tr>\n",
       "    <tr>\n",
       "      <th>1</th>\n",
       "      <td>9.27</td>\n",
       "      <td>21.90</td>\n",
       "      <td>3.10</td>\n",
       "      <td>0.999</td>\n",
       "      <td>K3V</td>\n",
       "    </tr>\n",
       "    <tr>\n",
       "      <th>2</th>\n",
       "      <td>6.61</td>\n",
       "      <td>2.81</td>\n",
       "      <td>0.63</td>\n",
       "      <td>-0.019</td>\n",
       "      <td>B9</td>\n",
       "    </tr>\n",
       "    <tr>\n",
       "      <th>3</th>\n",
       "      <td>8.06</td>\n",
       "      <td>7.75</td>\n",
       "      <td>0.97</td>\n",
       "      <td>0.370</td>\n",
       "      <td>F0V</td>\n",
       "    </tr>\n",
       "    <tr>\n",
       "      <th>4</th>\n",
       "      <td>8.55</td>\n",
       "      <td>2.87</td>\n",
       "      <td>1.11</td>\n",
       "      <td>0.902</td>\n",
       "      <td>G8III</td>\n",
       "    </tr>\n",
       "    <tr>\n",
       "      <th>...</th>\n",
       "      <td>...</td>\n",
       "      <td>...</td>\n",
       "      <td>...</td>\n",
       "      <td>...</td>\n",
       "      <td>...</td>\n",
       "    </tr>\n",
       "    <tr>\n",
       "      <th>99993</th>\n",
       "      <td>7.92</td>\n",
       "      <td>3.93</td>\n",
       "      <td>1.24</td>\n",
       "      <td>0.133</td>\n",
       "      <td>Am...</td>\n",
       "    </tr>\n",
       "    <tr>\n",
       "      <th>99994</th>\n",
       "      <td>8.72</td>\n",
       "      <td>3.07</td>\n",
       "      <td>0.87</td>\n",
       "      <td>0.097</td>\n",
       "      <td>B3</td>\n",
       "    </tr>\n",
       "    <tr>\n",
       "      <th>99996</th>\n",
       "      <td>8.08</td>\n",
       "      <td>1.07</td>\n",
       "      <td>0.68</td>\n",
       "      <td>1.094</td>\n",
       "      <td>G5</td>\n",
       "    </tr>\n",
       "    <tr>\n",
       "      <th>99997</th>\n",
       "      <td>6.98</td>\n",
       "      <td>2.97</td>\n",
       "      <td>0.76</td>\n",
       "      <td>-0.143</td>\n",
       "      <td>B1.5V</td>\n",
       "    </tr>\n",
       "    <tr>\n",
       "      <th>99998</th>\n",
       "      <td>8.51</td>\n",
       "      <td>-1.18</td>\n",
       "      <td>1.34</td>\n",
       "      <td>1.568</td>\n",
       "      <td>K5/M0III</td>\n",
       "    </tr>\n",
       "  </tbody>\n",
       "</table>\n",
       "<p>96742 rows × 5 columns</p>\n",
       "</div>"
      ],
      "text/plain": [
       "       Vmag    Plx  e_Plx    B-V    SpType\n",
       "0      9.10   3.54   1.39  0.482        F5\n",
       "1      9.27  21.90   3.10  0.999       K3V\n",
       "2      6.61   2.81   0.63 -0.019        B9\n",
       "3      8.06   7.75   0.97  0.370       F0V\n",
       "4      8.55   2.87   1.11  0.902     G8III\n",
       "...     ...    ...    ...    ...       ...\n",
       "99993  7.92   3.93   1.24  0.133     Am...\n",
       "99994  8.72   3.07   0.87  0.097        B3\n",
       "99996  8.08   1.07   0.68  1.094        G5\n",
       "99997  6.98   2.97   0.76 -0.143     B1.5V\n",
       "99998  8.51  -1.18   1.34  1.568  K5/M0III\n",
       "\n",
       "[96742 rows x 5 columns]"
      ]
     },
     "execution_count": 10,
     "metadata": {},
     "output_type": "execute_result"
    }
   ],
   "source": [
    "# remove all the rows that contain a missing value\n",
    "# better to store it into a new variable to avoid confusion\n",
    "raw_data_na_dropped = raw_data.dropna() \n",
    "\n",
    "raw_data_na_dropped"
   ]
  },
  {
   "cell_type": "code",
   "execution_count": 11,
   "metadata": {},
   "outputs": [
    {
     "name": "stdout",
     "output_type": "stream",
     "text": [
      "Rows we dropped from original dataset: 3257 \n",
      "\n",
      "Percentage Loss: 3.26%\n"
     ]
    }
   ],
   "source": [
    "# just how much rows did we drop?\n",
    "dropped_rows_count = raw_data.shape[0]-raw_data_na_dropped.shape[0]\n",
    "print(\"Rows we dropped from original dataset: %d \\n\" % dropped_rows_count)\n",
    "\n",
    "# Percentage we dropped\n",
    "percent_dropped = dropped_rows_count/raw_data.shape[0]\n",
    "print(\"Percentage Loss:\", \"{:.2%}\".format(percent_dropped))"
   ]
  },
  {
   "cell_type": "markdown",
   "metadata": {},
   "source": [
    "Lastly, read the statistics and info again."
   ]
  },
  {
   "cell_type": "code",
   "execution_count": 12,
   "metadata": {},
   "outputs": [
    {
     "data": {
      "text/html": [
       "<div>\n",
       "<style scoped>\n",
       "    .dataframe tbody tr th:only-of-type {\n",
       "        vertical-align: middle;\n",
       "    }\n",
       "\n",
       "    .dataframe tbody tr th {\n",
       "        vertical-align: top;\n",
       "    }\n",
       "\n",
       "    .dataframe thead th {\n",
       "        text-align: right;\n",
       "    }\n",
       "</style>\n",
       "<table border=\"1\" class=\"dataframe\">\n",
       "  <thead>\n",
       "    <tr style=\"text-align: right;\">\n",
       "      <th></th>\n",
       "      <th>Vmag</th>\n",
       "      <th>Plx</th>\n",
       "      <th>e_Plx</th>\n",
       "      <th>B-V</th>\n",
       "    </tr>\n",
       "  </thead>\n",
       "  <tbody>\n",
       "    <tr>\n",
       "      <th>count</th>\n",
       "      <td>96742.000000</td>\n",
       "      <td>96742.000000</td>\n",
       "      <td>96742.000000</td>\n",
       "      <td>96742.000000</td>\n",
       "    </tr>\n",
       "    <tr>\n",
       "      <th>mean</th>\n",
       "      <td>8.291918</td>\n",
       "      <td>7.105242</td>\n",
       "      <td>1.264163</td>\n",
       "      <td>0.700663</td>\n",
       "    </tr>\n",
       "    <tr>\n",
       "      <th>std</th>\n",
       "      <td>1.247995</td>\n",
       "      <td>11.145643</td>\n",
       "      <td>1.156202</td>\n",
       "      <td>0.490053</td>\n",
       "    </tr>\n",
       "    <tr>\n",
       "      <th>min</th>\n",
       "      <td>-1.440000</td>\n",
       "      <td>-35.099998</td>\n",
       "      <td>0.380000</td>\n",
       "      <td>-0.400000</td>\n",
       "    </tr>\n",
       "    <tr>\n",
       "      <th>25%</th>\n",
       "      <td>7.610000</td>\n",
       "      <td>2.520000</td>\n",
       "      <td>0.870000</td>\n",
       "      <td>0.342000</td>\n",
       "    </tr>\n",
       "    <tr>\n",
       "      <th>50%</th>\n",
       "      <td>8.400000</td>\n",
       "      <td>4.600000</td>\n",
       "      <td>1.080000</td>\n",
       "      <td>0.605000</td>\n",
       "    </tr>\n",
       "    <tr>\n",
       "      <th>75%</th>\n",
       "      <td>9.070000</td>\n",
       "      <td>8.270000</td>\n",
       "      <td>1.360000</td>\n",
       "      <td>1.072000</td>\n",
       "    </tr>\n",
       "    <tr>\n",
       "      <th>max</th>\n",
       "      <td>13.610000</td>\n",
       "      <td>772.330017</td>\n",
       "      <td>69.070000</td>\n",
       "      <td>5.460000</td>\n",
       "    </tr>\n",
       "  </tbody>\n",
       "</table>\n",
       "</div>"
      ],
      "text/plain": [
       "               Vmag           Plx         e_Plx           B-V\n",
       "count  96742.000000  96742.000000  96742.000000  96742.000000\n",
       "mean       8.291918      7.105242      1.264163      0.700663\n",
       "std        1.247995     11.145643      1.156202      0.490053\n",
       "min       -1.440000    -35.099998      0.380000     -0.400000\n",
       "25%        7.610000      2.520000      0.870000      0.342000\n",
       "50%        8.400000      4.600000      1.080000      0.605000\n",
       "75%        9.070000      8.270000      1.360000      1.072000\n",
       "max       13.610000    772.330017     69.070000      5.460000"
      ]
     },
     "execution_count": 12,
     "metadata": {},
     "output_type": "execute_result"
    }
   ],
   "source": [
    "raw_data_na_dropped.describe()"
   ]
  },
  {
   "cell_type": "code",
   "execution_count": 13,
   "metadata": {},
   "outputs": [],
   "source": [
    "raw_data_na_dropped_reindex = raw_data_na_dropped.reset_index(drop=True)"
   ]
  },
  {
   "cell_type": "code",
   "execution_count": 14,
   "metadata": {},
   "outputs": [
    {
     "name": "stdout",
     "output_type": "stream",
     "text": [
      "<class 'pandas.core.frame.DataFrame'>\n",
      "RangeIndex: 96742 entries, 0 to 96741\n",
      "Data columns (total 5 columns):\n",
      " #   Column  Non-Null Count  Dtype  \n",
      "---  ------  --------------  -----  \n",
      " 0   Vmag    96742 non-null  float32\n",
      " 1   Plx     96742 non-null  float32\n",
      " 2   e_Plx   96742 non-null  float32\n",
      " 3   B-V     96742 non-null  float32\n",
      " 4   SpType  96742 non-null  object \n",
      "dtypes: float32(4), object(1)\n",
      "memory usage: 2.2+ MB\n"
     ]
    }
   ],
   "source": [
    "raw_data_na_dropped_reindex.info()"
   ]
  },
  {
   "cell_type": "markdown",
   "metadata": {},
   "source": [
    "Looks like we have finally cleaned out all the missing values!\n",
    "\n",
    "Finally, we can save our progress to a csv file.\n",
    "* Remember to use `index=False` if you don't want to create separate column of indexes again!\n",
    "\n",
    "https://pandas.pydata.org/pandas-docs/stable/reference/api/pandas.DataFrame.to_csv.html\n",
    "https://stackoverflow.com/questions/20845213/how-to-avoid-python-pandas-creating-an-index-in-a-saved-csv"
   ]
  },
  {
   "cell_type": "markdown",
   "metadata": {},
   "source": [
    "# Appending New Column for Absolute Magnitude(AbsMag)"
   ]
  },
  {
   "cell_type": "markdown",
   "metadata": {},
   "source": [
    "## Finding Absolute Magnitude\n",
    "\n",
    "The absolute magnitude of the stars were generated via the equation:\n",
    "![](https://i.imgur.com/tt1h8bu.png)\n",
    "Where $M$ represents the absolute magnitude `Amag`, \n",
    "$m$ represents the visual apparent magnitude `Vmag`\n",
    "and $p$ represents stellar parallax `Plx`.\n",
    "\n",
    "\n",
    "In this session, we will create a new column `Amag` to store $M$.\n",
    "\n",
    "Things need to be aware:\n",
    "* Taking log of 0 would result in a infinity, which is what we dont want to see\n",
    "  * To fix this: Dropping rows with `Plx` = 0\n",
    "* Taking log of -ve numbers would result complex numbers, which is what we dont want to see too.\n",
    "  * To fix this: Taking Absolute value of `Plx`\n"
   ]
  },
  {
   "cell_type": "code",
   "execution_count": 15,
   "metadata": {},
   "outputs": [
    {
     "data": {
      "text/html": [
       "<div>\n",
       "<style scoped>\n",
       "    .dataframe tbody tr th:only-of-type {\n",
       "        vertical-align: middle;\n",
       "    }\n",
       "\n",
       "    .dataframe tbody tr th {\n",
       "        vertical-align: top;\n",
       "    }\n",
       "\n",
       "    .dataframe thead th {\n",
       "        text-align: right;\n",
       "    }\n",
       "</style>\n",
       "<table border=\"1\" class=\"dataframe\">\n",
       "  <thead>\n",
       "    <tr style=\"text-align: right;\">\n",
       "      <th></th>\n",
       "      <th>Vmag</th>\n",
       "      <th>Plx</th>\n",
       "      <th>e_Plx</th>\n",
       "      <th>B-V</th>\n",
       "      <th>SpType</th>\n",
       "    </tr>\n",
       "  </thead>\n",
       "  <tbody>\n",
       "    <tr>\n",
       "      <th>0</th>\n",
       "      <td>9.10</td>\n",
       "      <td>3.54</td>\n",
       "      <td>1.39</td>\n",
       "      <td>0.482</td>\n",
       "      <td>F5</td>\n",
       "    </tr>\n",
       "    <tr>\n",
       "      <th>1</th>\n",
       "      <td>9.27</td>\n",
       "      <td>21.90</td>\n",
       "      <td>3.10</td>\n",
       "      <td>0.999</td>\n",
       "      <td>K3V</td>\n",
       "    </tr>\n",
       "    <tr>\n",
       "      <th>2</th>\n",
       "      <td>6.61</td>\n",
       "      <td>2.81</td>\n",
       "      <td>0.63</td>\n",
       "      <td>-0.019</td>\n",
       "      <td>B9</td>\n",
       "    </tr>\n",
       "    <tr>\n",
       "      <th>3</th>\n",
       "      <td>8.06</td>\n",
       "      <td>7.75</td>\n",
       "      <td>0.97</td>\n",
       "      <td>0.370</td>\n",
       "      <td>F0V</td>\n",
       "    </tr>\n",
       "    <tr>\n",
       "      <th>4</th>\n",
       "      <td>8.55</td>\n",
       "      <td>2.87</td>\n",
       "      <td>1.11</td>\n",
       "      <td>0.902</td>\n",
       "      <td>G8III</td>\n",
       "    </tr>\n",
       "    <tr>\n",
       "      <th>...</th>\n",
       "      <td>...</td>\n",
       "      <td>...</td>\n",
       "      <td>...</td>\n",
       "      <td>...</td>\n",
       "      <td>...</td>\n",
       "    </tr>\n",
       "    <tr>\n",
       "      <th>96737</th>\n",
       "      <td>7.92</td>\n",
       "      <td>3.93</td>\n",
       "      <td>1.24</td>\n",
       "      <td>0.133</td>\n",
       "      <td>Am...</td>\n",
       "    </tr>\n",
       "    <tr>\n",
       "      <th>96738</th>\n",
       "      <td>8.72</td>\n",
       "      <td>3.07</td>\n",
       "      <td>0.87</td>\n",
       "      <td>0.097</td>\n",
       "      <td>B3</td>\n",
       "    </tr>\n",
       "    <tr>\n",
       "      <th>96739</th>\n",
       "      <td>8.08</td>\n",
       "      <td>1.07</td>\n",
       "      <td>0.68</td>\n",
       "      <td>1.094</td>\n",
       "      <td>G5</td>\n",
       "    </tr>\n",
       "    <tr>\n",
       "      <th>96740</th>\n",
       "      <td>6.98</td>\n",
       "      <td>2.97</td>\n",
       "      <td>0.76</td>\n",
       "      <td>-0.143</td>\n",
       "      <td>B1.5V</td>\n",
       "    </tr>\n",
       "    <tr>\n",
       "      <th>96741</th>\n",
       "      <td>8.51</td>\n",
       "      <td>-1.18</td>\n",
       "      <td>1.34</td>\n",
       "      <td>1.568</td>\n",
       "      <td>K5/M0III</td>\n",
       "    </tr>\n",
       "  </tbody>\n",
       "</table>\n",
       "<p>96742 rows × 5 columns</p>\n",
       "</div>"
      ],
      "text/plain": [
       "       Vmag    Plx  e_Plx    B-V    SpType\n",
       "0      9.10   3.54   1.39  0.482        F5\n",
       "1      9.27  21.90   3.10  0.999       K3V\n",
       "2      6.61   2.81   0.63 -0.019        B9\n",
       "3      8.06   7.75   0.97  0.370       F0V\n",
       "4      8.55   2.87   1.11  0.902     G8III\n",
       "...     ...    ...    ...    ...       ...\n",
       "96737  7.92   3.93   1.24  0.133     Am...\n",
       "96738  8.72   3.07   0.87  0.097        B3\n",
       "96739  8.08   1.07   0.68  1.094        G5\n",
       "96740  6.98   2.97   0.76 -0.143     B1.5V\n",
       "96741  8.51  -1.18   1.34  1.568  K5/M0III\n",
       "\n",
       "[96742 rows x 5 columns]"
      ]
     },
     "execution_count": 15,
     "metadata": {},
     "output_type": "execute_result"
    }
   ],
   "source": [
    "df = raw_data_na_dropped_reindex.copy()\n",
    "df"
   ]
  },
  {
   "cell_type": "code",
   "execution_count": 16,
   "metadata": {},
   "outputs": [
    {
     "data": {
      "text/html": [
       "<div>\n",
       "<style scoped>\n",
       "    .dataframe tbody tr th:only-of-type {\n",
       "        vertical-align: middle;\n",
       "    }\n",
       "\n",
       "    .dataframe tbody tr th {\n",
       "        vertical-align: top;\n",
       "    }\n",
       "\n",
       "    .dataframe thead th {\n",
       "        text-align: right;\n",
       "    }\n",
       "</style>\n",
       "<table border=\"1\" class=\"dataframe\">\n",
       "  <thead>\n",
       "    <tr style=\"text-align: right;\">\n",
       "      <th></th>\n",
       "      <th>Vmag</th>\n",
       "      <th>Plx</th>\n",
       "      <th>e_Plx</th>\n",
       "      <th>B-V</th>\n",
       "      <th>SpType</th>\n",
       "    </tr>\n",
       "  </thead>\n",
       "  <tbody>\n",
       "    <tr>\n",
       "      <th>0</th>\n",
       "      <td>9.10</td>\n",
       "      <td>3.54</td>\n",
       "      <td>1.39</td>\n",
       "      <td>0.482</td>\n",
       "      <td>F5</td>\n",
       "    </tr>\n",
       "    <tr>\n",
       "      <th>1</th>\n",
       "      <td>9.27</td>\n",
       "      <td>21.90</td>\n",
       "      <td>3.10</td>\n",
       "      <td>0.999</td>\n",
       "      <td>K3V</td>\n",
       "    </tr>\n",
       "    <tr>\n",
       "      <th>2</th>\n",
       "      <td>6.61</td>\n",
       "      <td>2.81</td>\n",
       "      <td>0.63</td>\n",
       "      <td>-0.019</td>\n",
       "      <td>B9</td>\n",
       "    </tr>\n",
       "    <tr>\n",
       "      <th>3</th>\n",
       "      <td>8.06</td>\n",
       "      <td>7.75</td>\n",
       "      <td>0.97</td>\n",
       "      <td>0.370</td>\n",
       "      <td>F0V</td>\n",
       "    </tr>\n",
       "    <tr>\n",
       "      <th>4</th>\n",
       "      <td>8.55</td>\n",
       "      <td>2.87</td>\n",
       "      <td>1.11</td>\n",
       "      <td>0.902</td>\n",
       "      <td>G8III</td>\n",
       "    </tr>\n",
       "    <tr>\n",
       "      <th>...</th>\n",
       "      <td>...</td>\n",
       "      <td>...</td>\n",
       "      <td>...</td>\n",
       "      <td>...</td>\n",
       "      <td>...</td>\n",
       "    </tr>\n",
       "    <tr>\n",
       "      <th>96702</th>\n",
       "      <td>7.92</td>\n",
       "      <td>3.93</td>\n",
       "      <td>1.24</td>\n",
       "      <td>0.133</td>\n",
       "      <td>Am...</td>\n",
       "    </tr>\n",
       "    <tr>\n",
       "      <th>96703</th>\n",
       "      <td>8.72</td>\n",
       "      <td>3.07</td>\n",
       "      <td>0.87</td>\n",
       "      <td>0.097</td>\n",
       "      <td>B3</td>\n",
       "    </tr>\n",
       "    <tr>\n",
       "      <th>96704</th>\n",
       "      <td>8.08</td>\n",
       "      <td>1.07</td>\n",
       "      <td>0.68</td>\n",
       "      <td>1.094</td>\n",
       "      <td>G5</td>\n",
       "    </tr>\n",
       "    <tr>\n",
       "      <th>96705</th>\n",
       "      <td>6.98</td>\n",
       "      <td>2.97</td>\n",
       "      <td>0.76</td>\n",
       "      <td>-0.143</td>\n",
       "      <td>B1.5V</td>\n",
       "    </tr>\n",
       "    <tr>\n",
       "      <th>96706</th>\n",
       "      <td>8.51</td>\n",
       "      <td>-1.18</td>\n",
       "      <td>1.34</td>\n",
       "      <td>1.568</td>\n",
       "      <td>K5/M0III</td>\n",
       "    </tr>\n",
       "  </tbody>\n",
       "</table>\n",
       "<p>96707 rows × 5 columns</p>\n",
       "</div>"
      ],
      "text/plain": [
       "       Vmag    Plx  e_Plx    B-V    SpType\n",
       "0      9.10   3.54   1.39  0.482        F5\n",
       "1      9.27  21.90   3.10  0.999       K3V\n",
       "2      6.61   2.81   0.63 -0.019        B9\n",
       "3      8.06   7.75   0.97  0.370       F0V\n",
       "4      8.55   2.87   1.11  0.902     G8III\n",
       "...     ...    ...    ...    ...       ...\n",
       "96702  7.92   3.93   1.24  0.133     Am...\n",
       "96703  8.72   3.07   0.87  0.097        B3\n",
       "96704  8.08   1.07   0.68  1.094        G5\n",
       "96705  6.98   2.97   0.76 -0.143     B1.5V\n",
       "96706  8.51  -1.18   1.34  1.568  K5/M0III\n",
       "\n",
       "[96707 rows x 5 columns]"
      ]
     },
     "execution_count": 16,
     "metadata": {},
     "output_type": "execute_result"
    }
   ],
   "source": [
    "#Dropping rows that `Plx` = 0\n",
    "df = df[df.Plx != 0]\n",
    "\n",
    "#Reindex the dataframe\n",
    "df = df.reset_index(drop=True)\n",
    "\n",
    "df"
   ]
  },
  {
   "cell_type": "markdown",
   "metadata": {},
   "source": [
    "Looks like we successfully dropped all the rows that `Plx` = 0."
   ]
  },
  {
   "cell_type": "code",
   "execution_count": 17,
   "metadata": {},
   "outputs": [
    {
     "data": {
      "text/html": [
       "<div>\n",
       "<style scoped>\n",
       "    .dataframe tbody tr th:only-of-type {\n",
       "        vertical-align: middle;\n",
       "    }\n",
       "\n",
       "    .dataframe tbody tr th {\n",
       "        vertical-align: top;\n",
       "    }\n",
       "\n",
       "    .dataframe thead th {\n",
       "        text-align: right;\n",
       "    }\n",
       "</style>\n",
       "<table border=\"1\" class=\"dataframe\">\n",
       "  <thead>\n",
       "    <tr style=\"text-align: right;\">\n",
       "      <th></th>\n",
       "      <th>Vmag</th>\n",
       "      <th>Plx</th>\n",
       "      <th>e_Plx</th>\n",
       "      <th>B-V</th>\n",
       "      <th>SpType</th>\n",
       "      <th>Amag</th>\n",
       "    </tr>\n",
       "  </thead>\n",
       "  <tbody>\n",
       "    <tr>\n",
       "      <th>0</th>\n",
       "      <td>9.10</td>\n",
       "      <td>3.54</td>\n",
       "      <td>1.39</td>\n",
       "      <td>0.482</td>\n",
       "      <td>F5</td>\n",
       "      <td>16.845016</td>\n",
       "    </tr>\n",
       "    <tr>\n",
       "      <th>1</th>\n",
       "      <td>9.27</td>\n",
       "      <td>21.90</td>\n",
       "      <td>3.10</td>\n",
       "      <td>0.999</td>\n",
       "      <td>K3V</td>\n",
       "      <td>20.972221</td>\n",
       "    </tr>\n",
       "    <tr>\n",
       "      <th>2</th>\n",
       "      <td>6.61</td>\n",
       "      <td>2.81</td>\n",
       "      <td>0.63</td>\n",
       "      <td>-0.019</td>\n",
       "      <td>B9</td>\n",
       "      <td>13.853531</td>\n",
       "    </tr>\n",
       "    <tr>\n",
       "      <th>3</th>\n",
       "      <td>8.06</td>\n",
       "      <td>7.75</td>\n",
       "      <td>0.97</td>\n",
       "      <td>0.370</td>\n",
       "      <td>F0V</td>\n",
       "      <td>17.506508</td>\n",
       "    </tr>\n",
       "    <tr>\n",
       "      <th>4</th>\n",
       "      <td>8.55</td>\n",
       "      <td>2.87</td>\n",
       "      <td>1.11</td>\n",
       "      <td>0.902</td>\n",
       "      <td>G8III</td>\n",
       "      <td>15.839410</td>\n",
       "    </tr>\n",
       "    <tr>\n",
       "      <th>...</th>\n",
       "      <td>...</td>\n",
       "      <td>...</td>\n",
       "      <td>...</td>\n",
       "      <td>...</td>\n",
       "      <td>...</td>\n",
       "      <td>...</td>\n",
       "    </tr>\n",
       "    <tr>\n",
       "      <th>96702</th>\n",
       "      <td>7.92</td>\n",
       "      <td>3.93</td>\n",
       "      <td>1.24</td>\n",
       "      <td>0.133</td>\n",
       "      <td>Am...</td>\n",
       "      <td>15.891963</td>\n",
       "    </tr>\n",
       "    <tr>\n",
       "      <th>96703</th>\n",
       "      <td>8.72</td>\n",
       "      <td>3.07</td>\n",
       "      <td>0.87</td>\n",
       "      <td>0.097</td>\n",
       "      <td>B3</td>\n",
       "      <td>16.155693</td>\n",
       "    </tr>\n",
       "    <tr>\n",
       "      <th>96704</th>\n",
       "      <td>8.08</td>\n",
       "      <td>1.07</td>\n",
       "      <td>0.68</td>\n",
       "      <td>1.094</td>\n",
       "      <td>G5</td>\n",
       "      <td>13.226919</td>\n",
       "    </tr>\n",
       "    <tr>\n",
       "      <th>96705</th>\n",
       "      <td>6.98</td>\n",
       "      <td>2.97</td>\n",
       "      <td>0.76</td>\n",
       "      <td>-0.143</td>\n",
       "      <td>B1.5V</td>\n",
       "      <td>14.343782</td>\n",
       "    </tr>\n",
       "    <tr>\n",
       "      <th>96706</th>\n",
       "      <td>8.51</td>\n",
       "      <td>-1.18</td>\n",
       "      <td>1.34</td>\n",
       "      <td>1.568</td>\n",
       "      <td>K5/M0III</td>\n",
       "      <td>13.869411</td>\n",
       "    </tr>\n",
       "  </tbody>\n",
       "</table>\n",
       "<p>96707 rows × 6 columns</p>\n",
       "</div>"
      ],
      "text/plain": [
       "       Vmag    Plx  e_Plx    B-V    SpType       Amag\n",
       "0      9.10   3.54   1.39  0.482        F5  16.845016\n",
       "1      9.27  21.90   3.10  0.999       K3V  20.972221\n",
       "2      6.61   2.81   0.63 -0.019        B9  13.853531\n",
       "3      8.06   7.75   0.97  0.370       F0V  17.506508\n",
       "4      8.55   2.87   1.11  0.902     G8III  15.839410\n",
       "...     ...    ...    ...    ...       ...        ...\n",
       "96702  7.92   3.93   1.24  0.133     Am...  15.891963\n",
       "96703  8.72   3.07   0.87  0.097        B3  16.155693\n",
       "96704  8.08   1.07   0.68  1.094        G5  13.226919\n",
       "96705  6.98   2.97   0.76 -0.143     B1.5V  14.343782\n",
       "96706  8.51  -1.18   1.34  1.568  K5/M0III  13.869411\n",
       "\n",
       "[96707 rows x 6 columns]"
      ]
     },
     "execution_count": 17,
     "metadata": {},
     "output_type": "execute_result"
    }
   ],
   "source": [
    "#Implement the equation\n",
    "df[\"Amag\"] = df[\"Vmag\"] + 5* (np.log10(abs(df[\"Plx\"]))+1)\n",
    "\n",
    "df"
   ]
  },
  {
   "cell_type": "code",
   "execution_count": 18,
   "metadata": {},
   "outputs": [
    {
     "name": "stdout",
     "output_type": "stream",
     "text": [
      "<class 'pandas.core.frame.DataFrame'>\n",
      "RangeIndex: 96707 entries, 0 to 96706\n",
      "Data columns (total 6 columns):\n",
      " #   Column  Non-Null Count  Dtype  \n",
      "---  ------  --------------  -----  \n",
      " 0   Vmag    96707 non-null  float32\n",
      " 1   Plx     96707 non-null  float32\n",
      " 2   e_Plx   96707 non-null  float32\n",
      " 3   B-V     96707 non-null  float32\n",
      " 4   SpType  96707 non-null  object \n",
      " 5   Amag    96707 non-null  float32\n",
      "dtypes: float32(5), object(1)\n",
      "memory usage: 2.6+ MB\n"
     ]
    }
   ],
   "source": [
    "df.info()"
   ]
  },
  {
   "cell_type": "code",
   "execution_count": 19,
   "metadata": {},
   "outputs": [
    {
     "data": {
      "text/html": [
       "<div>\n",
       "<style scoped>\n",
       "    .dataframe tbody tr th:only-of-type {\n",
       "        vertical-align: middle;\n",
       "    }\n",
       "\n",
       "    .dataframe tbody tr th {\n",
       "        vertical-align: top;\n",
       "    }\n",
       "\n",
       "    .dataframe thead th {\n",
       "        text-align: right;\n",
       "    }\n",
       "</style>\n",
       "<table border=\"1\" class=\"dataframe\">\n",
       "  <thead>\n",
       "    <tr style=\"text-align: right;\">\n",
       "      <th></th>\n",
       "      <th>Vmag</th>\n",
       "      <th>Plx</th>\n",
       "      <th>e_Plx</th>\n",
       "      <th>B-V</th>\n",
       "      <th>Amag</th>\n",
       "    </tr>\n",
       "  </thead>\n",
       "  <tbody>\n",
       "    <tr>\n",
       "      <th>count</th>\n",
       "      <td>96707.000000</td>\n",
       "      <td>96707.000000</td>\n",
       "      <td>96707.000000</td>\n",
       "      <td>96707.000000</td>\n",
       "      <td>96707.000000</td>\n",
       "    </tr>\n",
       "    <tr>\n",
       "      <th>mean</th>\n",
       "      <td>8.291762</td>\n",
       "      <td>7.107813</td>\n",
       "      <td>1.264152</td>\n",
       "      <td>0.700663</td>\n",
       "      <td>16.480989</td>\n",
       "    </tr>\n",
       "    <tr>\n",
       "      <th>std</th>\n",
       "      <td>1.247954</td>\n",
       "      <td>11.146737</td>\n",
       "      <td>1.156387</td>\n",
       "      <td>0.490001</td>\n",
       "      <td>2.451171</td>\n",
       "    </tr>\n",
       "    <tr>\n",
       "      <th>min</th>\n",
       "      <td>-1.440000</td>\n",
       "      <td>-35.099998</td>\n",
       "      <td>0.380000</td>\n",
       "      <td>-0.400000</td>\n",
       "      <td>-0.350000</td>\n",
       "    </tr>\n",
       "    <tr>\n",
       "      <th>25%</th>\n",
       "      <td>7.610000</td>\n",
       "      <td>2.520000</td>\n",
       "      <td>0.870000</td>\n",
       "      <td>0.342000</td>\n",
       "      <td>15.157670</td>\n",
       "    </tr>\n",
       "    <tr>\n",
       "      <th>50%</th>\n",
       "      <td>8.400000</td>\n",
       "      <td>4.600000</td>\n",
       "      <td>1.080000</td>\n",
       "      <td>0.605000</td>\n",
       "      <td>16.447716</td>\n",
       "    </tr>\n",
       "    <tr>\n",
       "      <th>75%</th>\n",
       "      <td>9.070000</td>\n",
       "      <td>8.270000</td>\n",
       "      <td>1.360000</td>\n",
       "      <td>1.072000</td>\n",
       "      <td>18.016191</td>\n",
       "    </tr>\n",
       "    <tr>\n",
       "      <th>max</th>\n",
       "      <td>13.610000</td>\n",
       "      <td>772.330017</td>\n",
       "      <td>69.070000</td>\n",
       "      <td>5.460000</td>\n",
       "      <td>30.449015</td>\n",
       "    </tr>\n",
       "  </tbody>\n",
       "</table>\n",
       "</div>"
      ],
      "text/plain": [
       "               Vmag           Plx         e_Plx           B-V          Amag\n",
       "count  96707.000000  96707.000000  96707.000000  96707.000000  96707.000000\n",
       "mean       8.291762      7.107813      1.264152      0.700663     16.480989\n",
       "std        1.247954     11.146737      1.156387      0.490001      2.451171\n",
       "min       -1.440000    -35.099998      0.380000     -0.400000     -0.350000\n",
       "25%        7.610000      2.520000      0.870000      0.342000     15.157670\n",
       "50%        8.400000      4.600000      1.080000      0.605000     16.447716\n",
       "75%        9.070000      8.270000      1.360000      1.072000     18.016191\n",
       "max       13.610000    772.330017     69.070000      5.460000     30.449015"
      ]
     },
     "execution_count": 19,
     "metadata": {},
     "output_type": "execute_result"
    }
   ],
   "source": [
    "df.describe()"
   ]
  },
  {
   "cell_type": "markdown",
   "metadata": {},
   "source": [
    "# Column Mapping\n",
    "\n",
    "In this session, we will create a new column `TargetClass` to store whether it is a Giant or Dwarf."
   ]
  },
  {
   "cell_type": "markdown",
   "metadata": {},
   "source": [
    "## Convert SpType into Giants and Dwarf\n",
    "\n",
    "* Roman Numerals >IV are giants. Otherwise are dwarfs\n",
    "\n"
   ]
  },
  {
   "cell_type": "code",
   "execution_count": 20,
   "metadata": {},
   "outputs": [
    {
     "data": {
      "text/plain": [
       "0              F5\n",
       "1             K3V\n",
       "2              B9\n",
       "3             F0V\n",
       "4           G8III\n",
       "           ...   \n",
       "96702       Am...\n",
       "96703          B3\n",
       "96704          G5\n",
       "96705       B1.5V\n",
       "96706    K5/M0III\n",
       "Name: SpType, Length: 96707, dtype: object"
      ]
     },
     "execution_count": 20,
     "metadata": {},
     "output_type": "execute_result"
    }
   ],
   "source": [
    "# Take a look at our SpType column\n",
    "df['SpType']"
   ]
  },
  {
   "cell_type": "code",
   "execution_count": 21,
   "metadata": {},
   "outputs": [
    {
     "data": {
      "text/html": [
       "<div>\n",
       "<style scoped>\n",
       "    .dataframe tbody tr th:only-of-type {\n",
       "        vertical-align: middle;\n",
       "    }\n",
       "\n",
       "    .dataframe tbody tr th {\n",
       "        vertical-align: top;\n",
       "    }\n",
       "\n",
       "    .dataframe thead th {\n",
       "        text-align: right;\n",
       "    }\n",
       "</style>\n",
       "<table border=\"1\" class=\"dataframe\">\n",
       "  <thead>\n",
       "    <tr style=\"text-align: right;\">\n",
       "      <th></th>\n",
       "      <th>Vmag</th>\n",
       "      <th>Plx</th>\n",
       "      <th>e_Plx</th>\n",
       "      <th>B-V</th>\n",
       "      <th>SpType</th>\n",
       "      <th>Amag</th>\n",
       "      <th>TargetClass</th>\n",
       "    </tr>\n",
       "  </thead>\n",
       "  <tbody>\n",
       "    <tr>\n",
       "      <th>0</th>\n",
       "      <td>9.10</td>\n",
       "      <td>3.54</td>\n",
       "      <td>1.39</td>\n",
       "      <td>0.482</td>\n",
       "      <td>F5</td>\n",
       "      <td>16.845016</td>\n",
       "      <td>F5</td>\n",
       "    </tr>\n",
       "    <tr>\n",
       "      <th>1</th>\n",
       "      <td>9.27</td>\n",
       "      <td>21.90</td>\n",
       "      <td>3.10</td>\n",
       "      <td>0.999</td>\n",
       "      <td>K3V</td>\n",
       "      <td>20.972221</td>\n",
       "      <td>K3V</td>\n",
       "    </tr>\n",
       "    <tr>\n",
       "      <th>2</th>\n",
       "      <td>6.61</td>\n",
       "      <td>2.81</td>\n",
       "      <td>0.63</td>\n",
       "      <td>-0.019</td>\n",
       "      <td>B9</td>\n",
       "      <td>13.853531</td>\n",
       "      <td>B9</td>\n",
       "    </tr>\n",
       "    <tr>\n",
       "      <th>3</th>\n",
       "      <td>8.06</td>\n",
       "      <td>7.75</td>\n",
       "      <td>0.97</td>\n",
       "      <td>0.370</td>\n",
       "      <td>F0V</td>\n",
       "      <td>17.506508</td>\n",
       "      <td>F0V</td>\n",
       "    </tr>\n",
       "    <tr>\n",
       "      <th>4</th>\n",
       "      <td>8.55</td>\n",
       "      <td>2.87</td>\n",
       "      <td>1.11</td>\n",
       "      <td>0.902</td>\n",
       "      <td>G8III</td>\n",
       "      <td>15.839410</td>\n",
       "      <td>G8III</td>\n",
       "    </tr>\n",
       "    <tr>\n",
       "      <th>...</th>\n",
       "      <td>...</td>\n",
       "      <td>...</td>\n",
       "      <td>...</td>\n",
       "      <td>...</td>\n",
       "      <td>...</td>\n",
       "      <td>...</td>\n",
       "      <td>...</td>\n",
       "    </tr>\n",
       "    <tr>\n",
       "      <th>96702</th>\n",
       "      <td>7.92</td>\n",
       "      <td>3.93</td>\n",
       "      <td>1.24</td>\n",
       "      <td>0.133</td>\n",
       "      <td>Am...</td>\n",
       "      <td>15.891963</td>\n",
       "      <td>Am...</td>\n",
       "    </tr>\n",
       "    <tr>\n",
       "      <th>96703</th>\n",
       "      <td>8.72</td>\n",
       "      <td>3.07</td>\n",
       "      <td>0.87</td>\n",
       "      <td>0.097</td>\n",
       "      <td>B3</td>\n",
       "      <td>16.155693</td>\n",
       "      <td>B3</td>\n",
       "    </tr>\n",
       "    <tr>\n",
       "      <th>96704</th>\n",
       "      <td>8.08</td>\n",
       "      <td>1.07</td>\n",
       "      <td>0.68</td>\n",
       "      <td>1.094</td>\n",
       "      <td>G5</td>\n",
       "      <td>13.226919</td>\n",
       "      <td>G5</td>\n",
       "    </tr>\n",
       "    <tr>\n",
       "      <th>96705</th>\n",
       "      <td>6.98</td>\n",
       "      <td>2.97</td>\n",
       "      <td>0.76</td>\n",
       "      <td>-0.143</td>\n",
       "      <td>B1.5V</td>\n",
       "      <td>14.343782</td>\n",
       "      <td>B1.5V</td>\n",
       "    </tr>\n",
       "    <tr>\n",
       "      <th>96706</th>\n",
       "      <td>8.51</td>\n",
       "      <td>-1.18</td>\n",
       "      <td>1.34</td>\n",
       "      <td>1.568</td>\n",
       "      <td>K5/M0III</td>\n",
       "      <td>13.869411</td>\n",
       "      <td>K5/M0III</td>\n",
       "    </tr>\n",
       "  </tbody>\n",
       "</table>\n",
       "<p>96707 rows × 7 columns</p>\n",
       "</div>"
      ],
      "text/plain": [
       "       Vmag    Plx  e_Plx    B-V    SpType       Amag TargetClass\n",
       "0      9.10   3.54   1.39  0.482        F5  16.845016          F5\n",
       "1      9.27  21.90   3.10  0.999       K3V  20.972221         K3V\n",
       "2      6.61   2.81   0.63 -0.019        B9  13.853531          B9\n",
       "3      8.06   7.75   0.97  0.370       F0V  17.506508         F0V\n",
       "4      8.55   2.87   1.11  0.902     G8III  15.839410       G8III\n",
       "...     ...    ...    ...    ...       ...        ...         ...\n",
       "96702  7.92   3.93   1.24  0.133     Am...  15.891963       Am...\n",
       "96703  8.72   3.07   0.87  0.097        B3  16.155693          B3\n",
       "96704  8.08   1.07   0.68  1.094        G5  13.226919          G5\n",
       "96705  6.98   2.97   0.76 -0.143     B1.5V  14.343782       B1.5V\n",
       "96706  8.51  -1.18   1.34  1.568  K5/M0III  13.869411    K5/M0III\n",
       "\n",
       "[96707 rows x 7 columns]"
      ]
     },
     "execution_count": 21,
     "metadata": {},
     "output_type": "execute_result"
    }
   ],
   "source": [
    "#Copy the SpType column to a new column called TargetClass\n",
    "df['TargetClass'] = df['SpType']\n",
    "\n",
    "df"
   ]
  },
  {
   "cell_type": "code",
   "execution_count": 22,
   "metadata": {},
   "outputs": [
    {
     "data": {
      "text/plain": [
       "0        9\n",
       "1        1\n",
       "2        9\n",
       "3        1\n",
       "4        0\n",
       "        ..\n",
       "96702    9\n",
       "96703    9\n",
       "96704    9\n",
       "96705    1\n",
       "96706    0\n",
       "Name: TargetClass, Length: 96707, dtype: object"
      ]
     },
     "execution_count": 22,
     "metadata": {},
     "output_type": "execute_result"
    }
   ],
   "source": [
    "#The intuitive approach (Could take a long time if you have a huge dataset)\n",
    "for i in range(len(df['TargetClass'])):\n",
    "    if \"V\" in df.loc[i,'TargetClass']: \n",
    "        if \"VII\" in df.loc[i,'TargetClass']: \n",
    "            df.loc[i,'TargetClass'] = 0 # VII is Dwarf\n",
    "        else:\n",
    "            df.loc[i,'TargetClass'] = 1 # IV, V, VI are Giants\n",
    "    elif \"I\" in df.loc[i,'TargetClass']: \n",
    "        df.loc[i,'TargetClass'] = 0 # I, II, III are Dwarfs\n",
    "    else: \n",
    "        df.loc[i,'TargetClass'] = 9 # None\n",
    "        \n",
    "df['TargetClass']"
   ]
  },
  {
   "cell_type": "markdown",
   "metadata": {},
   "source": [
    "When we use the data to analysis, the label is better in numeric values otherwise we might need to map them."
   ]
  },
  {
   "cell_type": "code",
   "execution_count": 23,
   "metadata": {},
   "outputs": [
    {
     "data": {
      "text/html": [
       "<div>\n",
       "<style scoped>\n",
       "    .dataframe tbody tr th:only-of-type {\n",
       "        vertical-align: middle;\n",
       "    }\n",
       "\n",
       "    .dataframe tbody tr th {\n",
       "        vertical-align: top;\n",
       "    }\n",
       "\n",
       "    .dataframe thead th {\n",
       "        text-align: right;\n",
       "    }\n",
       "</style>\n",
       "<table border=\"1\" class=\"dataframe\">\n",
       "  <thead>\n",
       "    <tr style=\"text-align: right;\">\n",
       "      <th></th>\n",
       "      <th>Vmag</th>\n",
       "      <th>Plx</th>\n",
       "      <th>e_Plx</th>\n",
       "      <th>B-V</th>\n",
       "      <th>SpType</th>\n",
       "      <th>Amag</th>\n",
       "      <th>TargetClass</th>\n",
       "    </tr>\n",
       "  </thead>\n",
       "  <tbody>\n",
       "    <tr>\n",
       "      <th>count</th>\n",
       "      <td>96707.000000</td>\n",
       "      <td>96707.000000</td>\n",
       "      <td>96707.000000</td>\n",
       "      <td>96707.000000</td>\n",
       "      <td>96707</td>\n",
       "      <td>96707.000000</td>\n",
       "      <td>96707.0</td>\n",
       "    </tr>\n",
       "    <tr>\n",
       "      <th>unique</th>\n",
       "      <td>NaN</td>\n",
       "      <td>NaN</td>\n",
       "      <td>NaN</td>\n",
       "      <td>NaN</td>\n",
       "      <td>3703</td>\n",
       "      <td>NaN</td>\n",
       "      <td>3.0</td>\n",
       "    </tr>\n",
       "    <tr>\n",
       "      <th>top</th>\n",
       "      <td>NaN</td>\n",
       "      <td>NaN</td>\n",
       "      <td>NaN</td>\n",
       "      <td>NaN</td>\n",
       "      <td>K0</td>\n",
       "      <td>NaN</td>\n",
       "      <td>9.0</td>\n",
       "    </tr>\n",
       "    <tr>\n",
       "      <th>freq</th>\n",
       "      <td>NaN</td>\n",
       "      <td>NaN</td>\n",
       "      <td>NaN</td>\n",
       "      <td>NaN</td>\n",
       "      <td>7321</td>\n",
       "      <td>NaN</td>\n",
       "      <td>49210.0</td>\n",
       "    </tr>\n",
       "    <tr>\n",
       "      <th>mean</th>\n",
       "      <td>8.291762</td>\n",
       "      <td>7.107813</td>\n",
       "      <td>1.264152</td>\n",
       "      <td>0.700663</td>\n",
       "      <td>NaN</td>\n",
       "      <td>16.480989</td>\n",
       "      <td>NaN</td>\n",
       "    </tr>\n",
       "    <tr>\n",
       "      <th>std</th>\n",
       "      <td>1.247954</td>\n",
       "      <td>11.146737</td>\n",
       "      <td>1.156387</td>\n",
       "      <td>0.490001</td>\n",
       "      <td>NaN</td>\n",
       "      <td>2.451171</td>\n",
       "      <td>NaN</td>\n",
       "    </tr>\n",
       "    <tr>\n",
       "      <th>min</th>\n",
       "      <td>-1.440000</td>\n",
       "      <td>-35.099998</td>\n",
       "      <td>0.380000</td>\n",
       "      <td>-0.400000</td>\n",
       "      <td>NaN</td>\n",
       "      <td>-0.350000</td>\n",
       "      <td>NaN</td>\n",
       "    </tr>\n",
       "    <tr>\n",
       "      <th>25%</th>\n",
       "      <td>7.610000</td>\n",
       "      <td>2.520000</td>\n",
       "      <td>0.870000</td>\n",
       "      <td>0.342000</td>\n",
       "      <td>NaN</td>\n",
       "      <td>15.157670</td>\n",
       "      <td>NaN</td>\n",
       "    </tr>\n",
       "    <tr>\n",
       "      <th>50%</th>\n",
       "      <td>8.400000</td>\n",
       "      <td>4.600000</td>\n",
       "      <td>1.080000</td>\n",
       "      <td>0.605000</td>\n",
       "      <td>NaN</td>\n",
       "      <td>16.447716</td>\n",
       "      <td>NaN</td>\n",
       "    </tr>\n",
       "    <tr>\n",
       "      <th>75%</th>\n",
       "      <td>9.070000</td>\n",
       "      <td>8.270000</td>\n",
       "      <td>1.360000</td>\n",
       "      <td>1.072000</td>\n",
       "      <td>NaN</td>\n",
       "      <td>18.016191</td>\n",
       "      <td>NaN</td>\n",
       "    </tr>\n",
       "    <tr>\n",
       "      <th>max</th>\n",
       "      <td>13.610000</td>\n",
       "      <td>772.330017</td>\n",
       "      <td>69.070000</td>\n",
       "      <td>5.460000</td>\n",
       "      <td>NaN</td>\n",
       "      <td>30.449015</td>\n",
       "      <td>NaN</td>\n",
       "    </tr>\n",
       "  </tbody>\n",
       "</table>\n",
       "</div>"
      ],
      "text/plain": [
       "                Vmag           Plx         e_Plx           B-V SpType  \\\n",
       "count   96707.000000  96707.000000  96707.000000  96707.000000  96707   \n",
       "unique           NaN           NaN           NaN           NaN   3703   \n",
       "top              NaN           NaN           NaN           NaN     K0   \n",
       "freq             NaN           NaN           NaN           NaN   7321   \n",
       "mean        8.291762      7.107813      1.264152      0.700663    NaN   \n",
       "std         1.247954     11.146737      1.156387      0.490001    NaN   \n",
       "min        -1.440000    -35.099998      0.380000     -0.400000    NaN   \n",
       "25%         7.610000      2.520000      0.870000      0.342000    NaN   \n",
       "50%         8.400000      4.600000      1.080000      0.605000    NaN   \n",
       "75%         9.070000      8.270000      1.360000      1.072000    NaN   \n",
       "max        13.610000    772.330017     69.070000      5.460000    NaN   \n",
       "\n",
       "                Amag  TargetClass  \n",
       "count   96707.000000      96707.0  \n",
       "unique           NaN          3.0  \n",
       "top              NaN          9.0  \n",
       "freq             NaN      49210.0  \n",
       "mean       16.480989          NaN  \n",
       "std         2.451171          NaN  \n",
       "min        -0.350000          NaN  \n",
       "25%        15.157670          NaN  \n",
       "50%        16.447716          NaN  \n",
       "75%        18.016191          NaN  \n",
       "max        30.449015          NaN  "
      ]
     },
     "execution_count": 23,
     "metadata": {},
     "output_type": "execute_result"
    }
   ],
   "source": [
    "df.describe(include='all')"
   ]
  },
  {
   "cell_type": "markdown",
   "metadata": {},
   "source": [
    "# Balancing Data\n",
    "\n",
    "Balanced Dataset is a dataset where each output class (or target class) is represented by the same number of input samples."
   ]
  },
  {
   "cell_type": "code",
   "execution_count": 24,
   "metadata": {},
   "outputs": [
    {
     "data": {
      "text/plain": [
       "9    49210\n",
       "1    27721\n",
       "0    19776\n",
       "Name: TargetClass, dtype: int64"
      ]
     },
     "execution_count": 24,
     "metadata": {},
     "output_type": "execute_result"
    }
   ],
   "source": [
    "df['TargetClass'].value_counts()"
   ]
  },
  {
   "cell_type": "code",
   "execution_count": 25,
   "metadata": {},
   "outputs": [
    {
     "name": "stderr",
     "output_type": "stream",
     "text": [
      "D:\\Astro-Pro\\lib\\site-packages\\seaborn\\_decorators.py:36: FutureWarning: Pass the following variable as a keyword arg: x. From version 0.12, the only valid positional argument will be `data`, and passing other arguments without an explicit keyword will result in an error or misinterpretation.\n",
      "  warnings.warn(\n"
     ]
    },
    {
     "data": {
      "text/plain": [
       "<AxesSubplot:xlabel='TargetClass', ylabel='count'>"
      ]
     },
     "execution_count": 25,
     "metadata": {},
     "output_type": "execute_result"
    },
    {
     "data": {
      "image/png": "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\n",
      "text/plain": [
       "<Figure size 432x288 with 1 Axes>"
      ]
     },
     "metadata": {
      "needs_background": "light"
     },
     "output_type": "display_data"
    }
   ],
   "source": [
    "import matplotlib.pyplot as plt # plot graphs\n",
    "import seaborn as sns # plot graphs\n",
    "\n",
    "sns.countplot(df['TargetClass'])"
   ]
  },
  {
   "cell_type": "markdown",
   "metadata": {},
   "source": [
    "We only need the Dwarfs and Giants Record."
   ]
  },
  {
   "cell_type": "code",
   "execution_count": 26,
   "metadata": {},
   "outputs": [
    {
     "data": {
      "text/html": [
       "<div>\n",
       "<style scoped>\n",
       "    .dataframe tbody tr th:only-of-type {\n",
       "        vertical-align: middle;\n",
       "    }\n",
       "\n",
       "    .dataframe tbody tr th {\n",
       "        vertical-align: top;\n",
       "    }\n",
       "\n",
       "    .dataframe thead th {\n",
       "        text-align: right;\n",
       "    }\n",
       "</style>\n",
       "<table border=\"1\" class=\"dataframe\">\n",
       "  <thead>\n",
       "    <tr style=\"text-align: right;\">\n",
       "      <th></th>\n",
       "      <th>Vmag</th>\n",
       "      <th>Plx</th>\n",
       "      <th>e_Plx</th>\n",
       "      <th>B-V</th>\n",
       "      <th>SpType</th>\n",
       "      <th>Amag</th>\n",
       "      <th>TargetClass</th>\n",
       "    </tr>\n",
       "  </thead>\n",
       "  <tbody>\n",
       "    <tr>\n",
       "      <th>0</th>\n",
       "      <td>9.27</td>\n",
       "      <td>21.900000</td>\n",
       "      <td>3.10</td>\n",
       "      <td>0.999</td>\n",
       "      <td>K3V</td>\n",
       "      <td>20.972221</td>\n",
       "      <td>1</td>\n",
       "    </tr>\n",
       "    <tr>\n",
       "      <th>1</th>\n",
       "      <td>8.06</td>\n",
       "      <td>7.750000</td>\n",
       "      <td>0.97</td>\n",
       "      <td>0.370</td>\n",
       "      <td>F0V</td>\n",
       "      <td>17.506508</td>\n",
       "      <td>1</td>\n",
       "    </tr>\n",
       "    <tr>\n",
       "      <th>2</th>\n",
       "      <td>8.55</td>\n",
       "      <td>2.870000</td>\n",
       "      <td>1.11</td>\n",
       "      <td>0.902</td>\n",
       "      <td>G8III</td>\n",
       "      <td>15.839410</td>\n",
       "      <td>0</td>\n",
       "    </tr>\n",
       "    <tr>\n",
       "      <th>3</th>\n",
       "      <td>12.31</td>\n",
       "      <td>18.799999</td>\n",
       "      <td>4.99</td>\n",
       "      <td>1.336</td>\n",
       "      <td>M0V:</td>\n",
       "      <td>23.680790</td>\n",
       "      <td>1</td>\n",
       "    </tr>\n",
       "    <tr>\n",
       "      <th>4</th>\n",
       "      <td>8.59</td>\n",
       "      <td>10.760000</td>\n",
       "      <td>1.10</td>\n",
       "      <td>0.489</td>\n",
       "      <td>F6V</td>\n",
       "      <td>18.749062</td>\n",
       "      <td>1</td>\n",
       "    </tr>\n",
       "    <tr>\n",
       "      <th>...</th>\n",
       "      <td>...</td>\n",
       "      <td>...</td>\n",
       "      <td>...</td>\n",
       "      <td>...</td>\n",
       "      <td>...</td>\n",
       "      <td>...</td>\n",
       "      <td>...</td>\n",
       "    </tr>\n",
       "    <tr>\n",
       "      <th>47492</th>\n",
       "      <td>8.79</td>\n",
       "      <td>0.890000</td>\n",
       "      <td>1.28</td>\n",
       "      <td>1.194</td>\n",
       "      <td>K1III</td>\n",
       "      <td>13.536950</td>\n",
       "      <td>0</td>\n",
       "    </tr>\n",
       "    <tr>\n",
       "      <th>47493</th>\n",
       "      <td>8.00</td>\n",
       "      <td>0.410000</td>\n",
       "      <td>0.92</td>\n",
       "      <td>0.854</td>\n",
       "      <td>F6Iab</td>\n",
       "      <td>11.063919</td>\n",
       "      <td>0</td>\n",
       "    </tr>\n",
       "    <tr>\n",
       "      <th>47494</th>\n",
       "      <td>7.69</td>\n",
       "      <td>6.600000</td>\n",
       "      <td>0.92</td>\n",
       "      <td>1.110</td>\n",
       "      <td>K2III</td>\n",
       "      <td>16.787720</td>\n",
       "      <td>0</td>\n",
       "    </tr>\n",
       "    <tr>\n",
       "      <th>47495</th>\n",
       "      <td>6.98</td>\n",
       "      <td>2.970000</td>\n",
       "      <td>0.76</td>\n",
       "      <td>-0.143</td>\n",
       "      <td>B1.5V</td>\n",
       "      <td>14.343782</td>\n",
       "      <td>1</td>\n",
       "    </tr>\n",
       "    <tr>\n",
       "      <th>47496</th>\n",
       "      <td>8.51</td>\n",
       "      <td>-1.180000</td>\n",
       "      <td>1.34</td>\n",
       "      <td>1.568</td>\n",
       "      <td>K5/M0III</td>\n",
       "      <td>13.869411</td>\n",
       "      <td>0</td>\n",
       "    </tr>\n",
       "  </tbody>\n",
       "</table>\n",
       "<p>47497 rows × 7 columns</p>\n",
       "</div>"
      ],
      "text/plain": [
       "        Vmag        Plx  e_Plx    B-V    SpType       Amag TargetClass\n",
       "0       9.27  21.900000   3.10  0.999       K3V  20.972221           1\n",
       "1       8.06   7.750000   0.97  0.370       F0V  17.506508           1\n",
       "2       8.55   2.870000   1.11  0.902     G8III  15.839410           0\n",
       "3      12.31  18.799999   4.99  1.336      M0V:  23.680790           1\n",
       "4       8.59  10.760000   1.10  0.489       F6V  18.749062           1\n",
       "...      ...        ...    ...    ...       ...        ...         ...\n",
       "47492   8.79   0.890000   1.28  1.194     K1III  13.536950           0\n",
       "47493   8.00   0.410000   0.92  0.854     F6Iab  11.063919           0\n",
       "47494   7.69   6.600000   0.92  1.110     K2III  16.787720           0\n",
       "47495   6.98   2.970000   0.76 -0.143     B1.5V  14.343782           1\n",
       "47496   8.51  -1.180000   1.34  1.568  K5/M0III  13.869411           0\n",
       "\n",
       "[47497 rows x 7 columns]"
      ]
     },
     "execution_count": 26,
     "metadata": {},
     "output_type": "execute_result"
    }
   ],
   "source": [
    "#Dropping rows that `TargetClass` = 9\n",
    "df = df[df.TargetClass != 9] \n",
    "\n",
    "#Reindex the dataframe\n",
    "df = df.reset_index(drop=True)\n",
    "\n",
    "df"
   ]
  },
  {
   "cell_type": "markdown",
   "metadata": {},
   "source": [
    "Since we have so many records, we will just downsample the majority class."
   ]
  },
  {
   "cell_type": "code",
   "execution_count": 27,
   "metadata": {},
   "outputs": [],
   "source": [
    "# Separate the labels\n",
    "df_giants = df[df.TargetClass == 1]\n",
    "df_dwarfs = df[df.TargetClass == 0]"
   ]
  },
  {
   "cell_type": "code",
   "execution_count": 28,
   "metadata": {},
   "outputs": [
    {
     "name": "stdout",
     "output_type": "stream",
     "text": [
      "Giants(1): 27721\n",
      "Dwarfs(0): 19776\n"
     ]
    }
   ],
   "source": [
    "# Numbers of rows of Giants and Dwarfs\n",
    "num_of_giant = df_giants.shape[0]\n",
    "num_of_dwarf = df_dwarfs.shape[0]\n",
    "print(\"Giants(1):\",num_of_giant)\n",
    "print(\"Dwarfs(0):\",num_of_dwarf)"
   ]
  },
  {
   "cell_type": "markdown",
   "metadata": {},
   "source": [
    "To downsample the class, we can just use a loop to loop through the records, but there is a way better approach.\n",
    "\n",
    "Let's import `resample` from `sklearn`."
   ]
  },
  {
   "cell_type": "code",
   "execution_count": 29,
   "metadata": {},
   "outputs": [],
   "source": [
    "from sklearn.utils import resample"
   ]
  },
  {
   "cell_type": "code",
   "execution_count": 30,
   "metadata": {},
   "outputs": [],
   "source": [
    "# Downsample majority class\n",
    "df_giants_downsampled = resample(df_giants, \n",
    "                                 replace=False,    # sample without replacement\n",
    "                                 n_samples=num_of_dwarf,     # to match minority class\n",
    "                                 random_state=1) # reproducible results\n",
    " \n",
    "# Combine minority class with downsampled majority class\n",
    "df_downsampled = pd.concat([df_giants_downsampled, df_dwarfs])"
   ]
  },
  {
   "cell_type": "code",
   "execution_count": 31,
   "metadata": {},
   "outputs": [
    {
     "data": {
      "text/plain": [
       "1    19776\n",
       "0    19776\n",
       "Name: TargetClass, dtype: int64"
      ]
     },
     "execution_count": 31,
     "metadata": {},
     "output_type": "execute_result"
    }
   ],
   "source": [
    "df_downsampled['TargetClass'].value_counts()"
   ]
  },
  {
   "cell_type": "code",
   "execution_count": 32,
   "metadata": {},
   "outputs": [
    {
     "name": "stderr",
     "output_type": "stream",
     "text": [
      "D:\\Astro-Pro\\lib\\site-packages\\seaborn\\_decorators.py:36: FutureWarning: Pass the following variable as a keyword arg: x. From version 0.12, the only valid positional argument will be `data`, and passing other arguments without an explicit keyword will result in an error or misinterpretation.\n",
      "  warnings.warn(\n"
     ]
    },
    {
     "data": {
      "text/plain": [
       "<AxesSubplot:xlabel='TargetClass', ylabel='count'>"
      ]
     },
     "execution_count": 32,
     "metadata": {},
     "output_type": "execute_result"
    },
    {
     "data": {
      "image/png": "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\n",
      "text/plain": [
       "<Figure size 432x288 with 1 Axes>"
      ]
     },
     "metadata": {
      "needs_background": "light"
     },
     "output_type": "display_data"
    }
   ],
   "source": [
    "sns.countplot(df_downsampled['TargetClass'])"
   ]
  },
  {
   "cell_type": "markdown",
   "metadata": {},
   "source": [
    " Last but not Least, we need to check our dataset to see whether there are still some problem."
   ]
  },
  {
   "cell_type": "code",
   "execution_count": 33,
   "metadata": {},
   "outputs": [
    {
     "data": {
      "text/html": [
       "<div>\n",
       "<style scoped>\n",
       "    .dataframe tbody tr th:only-of-type {\n",
       "        vertical-align: middle;\n",
       "    }\n",
       "\n",
       "    .dataframe tbody tr th {\n",
       "        vertical-align: top;\n",
       "    }\n",
       "\n",
       "    .dataframe thead th {\n",
       "        text-align: right;\n",
       "    }\n",
       "</style>\n",
       "<table border=\"1\" class=\"dataframe\">\n",
       "  <thead>\n",
       "    <tr style=\"text-align: right;\">\n",
       "      <th></th>\n",
       "      <th>Vmag</th>\n",
       "      <th>Plx</th>\n",
       "      <th>e_Plx</th>\n",
       "      <th>B-V</th>\n",
       "      <th>SpType</th>\n",
       "      <th>Amag</th>\n",
       "      <th>TargetClass</th>\n",
       "    </tr>\n",
       "  </thead>\n",
       "  <tbody>\n",
       "    <tr>\n",
       "      <th>count</th>\n",
       "      <td>39552.000000</td>\n",
       "      <td>39552.000000</td>\n",
       "      <td>39552.000000</td>\n",
       "      <td>39552.000000</td>\n",
       "      <td>39552</td>\n",
       "      <td>39552.000000</td>\n",
       "      <td>39552.0</td>\n",
       "    </tr>\n",
       "    <tr>\n",
       "      <th>unique</th>\n",
       "      <td>NaN</td>\n",
       "      <td>NaN</td>\n",
       "      <td>NaN</td>\n",
       "      <td>NaN</td>\n",
       "      <td>2576</td>\n",
       "      <td>NaN</td>\n",
       "      <td>2.0</td>\n",
       "    </tr>\n",
       "    <tr>\n",
       "      <th>top</th>\n",
       "      <td>NaN</td>\n",
       "      <td>NaN</td>\n",
       "      <td>NaN</td>\n",
       "      <td>NaN</td>\n",
       "      <td>K0III</td>\n",
       "      <td>NaN</td>\n",
       "      <td>1.0</td>\n",
       "    </tr>\n",
       "    <tr>\n",
       "      <th>freq</th>\n",
       "      <td>NaN</td>\n",
       "      <td>NaN</td>\n",
       "      <td>NaN</td>\n",
       "      <td>NaN</td>\n",
       "      <td>2841</td>\n",
       "      <td>NaN</td>\n",
       "      <td>19776.0</td>\n",
       "    </tr>\n",
       "    <tr>\n",
       "      <th>mean</th>\n",
       "      <td>7.921288</td>\n",
       "      <td>7.117379</td>\n",
       "      <td>1.109707</td>\n",
       "      <td>0.744332</td>\n",
       "      <td>NaN</td>\n",
       "      <td>16.050629</td>\n",
       "      <td>NaN</td>\n",
       "    </tr>\n",
       "    <tr>\n",
       "      <th>std</th>\n",
       "      <td>1.308845</td>\n",
       "      <td>12.446209</td>\n",
       "      <td>0.788118</td>\n",
       "      <td>0.513990</td>\n",
       "      <td>NaN</td>\n",
       "      <td>2.443930</td>\n",
       "      <td>NaN</td>\n",
       "    </tr>\n",
       "    <tr>\n",
       "      <th>min</th>\n",
       "      <td>-0.620000</td>\n",
       "      <td>-27.840000</td>\n",
       "      <td>0.420000</td>\n",
       "      <td>-0.400000</td>\n",
       "      <td>NaN</td>\n",
       "      <td>-0.350000</td>\n",
       "      <td>NaN</td>\n",
       "    </tr>\n",
       "    <tr>\n",
       "      <th>25%</th>\n",
       "      <td>7.210000</td>\n",
       "      <td>2.430000</td>\n",
       "      <td>0.800000</td>\n",
       "      <td>0.358000</td>\n",
       "      <td>NaN</td>\n",
       "      <td>14.756515</td>\n",
       "      <td>NaN</td>\n",
       "    </tr>\n",
       "    <tr>\n",
       "      <th>50%</th>\n",
       "      <td>8.160000</td>\n",
       "      <td>4.440000</td>\n",
       "      <td>0.990000</td>\n",
       "      <td>0.703000</td>\n",
       "      <td>NaN</td>\n",
       "      <td>16.020827</td>\n",
       "      <td>NaN</td>\n",
       "    </tr>\n",
       "    <tr>\n",
       "      <th>75%</th>\n",
       "      <td>8.830000</td>\n",
       "      <td>8.232500</td>\n",
       "      <td>1.230000</td>\n",
       "      <td>1.129000</td>\n",
       "      <td>NaN</td>\n",
       "      <td>17.590542</td>\n",
       "      <td>NaN</td>\n",
       "    </tr>\n",
       "    <tr>\n",
       "      <th>max</th>\n",
       "      <td>12.850000</td>\n",
       "      <td>772.330017</td>\n",
       "      <td>40.630001</td>\n",
       "      <td>3.440000</td>\n",
       "      <td>NaN</td>\n",
       "      <td>30.449015</td>\n",
       "      <td>NaN</td>\n",
       "    </tr>\n",
       "  </tbody>\n",
       "</table>\n",
       "</div>"
      ],
      "text/plain": [
       "                Vmag           Plx         e_Plx           B-V SpType  \\\n",
       "count   39552.000000  39552.000000  39552.000000  39552.000000  39552   \n",
       "unique           NaN           NaN           NaN           NaN   2576   \n",
       "top              NaN           NaN           NaN           NaN  K0III   \n",
       "freq             NaN           NaN           NaN           NaN   2841   \n",
       "mean        7.921288      7.117379      1.109707      0.744332    NaN   \n",
       "std         1.308845     12.446209      0.788118      0.513990    NaN   \n",
       "min        -0.620000    -27.840000      0.420000     -0.400000    NaN   \n",
       "25%         7.210000      2.430000      0.800000      0.358000    NaN   \n",
       "50%         8.160000      4.440000      0.990000      0.703000    NaN   \n",
       "75%         8.830000      8.232500      1.230000      1.129000    NaN   \n",
       "max        12.850000    772.330017     40.630001      3.440000    NaN   \n",
       "\n",
       "                Amag  TargetClass  \n",
       "count   39552.000000      39552.0  \n",
       "unique           NaN          2.0  \n",
       "top              NaN          1.0  \n",
       "freq             NaN      19776.0  \n",
       "mean       16.050629          NaN  \n",
       "std         2.443930          NaN  \n",
       "min        -0.350000          NaN  \n",
       "25%        14.756515          NaN  \n",
       "50%        16.020827          NaN  \n",
       "75%        17.590542          NaN  \n",
       "max        30.449015          NaN  "
      ]
     },
     "execution_count": 33,
     "metadata": {},
     "output_type": "execute_result"
    }
   ],
   "source": [
    "df_downsampled.describe(include='all')"
   ]
  },
  {
   "cell_type": "code",
   "execution_count": 34,
   "metadata": {},
   "outputs": [
    {
     "name": "stdout",
     "output_type": "stream",
     "text": [
      "<class 'pandas.core.frame.DataFrame'>\n",
      "Int64Index: 39552 entries, 3300 to 47496\n",
      "Data columns (total 7 columns):\n",
      " #   Column       Non-Null Count  Dtype  \n",
      "---  ------       --------------  -----  \n",
      " 0   Vmag         39552 non-null  float32\n",
      " 1   Plx          39552 non-null  float32\n",
      " 2   e_Plx        39552 non-null  float32\n",
      " 3   B-V          39552 non-null  float32\n",
      " 4   SpType       39552 non-null  object \n",
      " 5   Amag         39552 non-null  float32\n",
      " 6   TargetClass  39552 non-null  object \n",
      "dtypes: float32(5), object(2)\n",
      "memory usage: 1.7+ MB\n"
     ]
    }
   ],
   "source": [
    "df_downsampled.info()"
   ]
  },
  {
   "cell_type": "markdown",
   "metadata": {},
   "source": [
    "Yeah, Reindex."
   ]
  },
  {
   "cell_type": "code",
   "execution_count": 35,
   "metadata": {},
   "outputs": [
    {
     "name": "stdout",
     "output_type": "stream",
     "text": [
      "<class 'pandas.core.frame.DataFrame'>\n",
      "RangeIndex: 39552 entries, 0 to 39551\n",
      "Data columns (total 7 columns):\n",
      " #   Column       Non-Null Count  Dtype  \n",
      "---  ------       --------------  -----  \n",
      " 0   Vmag         39552 non-null  float32\n",
      " 1   Plx          39552 non-null  float32\n",
      " 2   e_Plx        39552 non-null  float32\n",
      " 3   B-V          39552 non-null  float32\n",
      " 4   SpType       39552 non-null  object \n",
      " 5   Amag         39552 non-null  float32\n",
      " 6   TargetClass  39552 non-null  object \n",
      "dtypes: float32(5), object(2)\n",
      "memory usage: 1.4+ MB\n"
     ]
    }
   ],
   "source": [
    "df_balanced = df_downsampled.reset_index(drop=True)\n",
    "\n",
    "df_balanced.info()"
   ]
  },
  {
   "cell_type": "code",
   "execution_count": 36,
   "metadata": {},
   "outputs": [
    {
     "data": {
      "text/html": [
       "<div>\n",
       "<style scoped>\n",
       "    .dataframe tbody tr th:only-of-type {\n",
       "        vertical-align: middle;\n",
       "    }\n",
       "\n",
       "    .dataframe tbody tr th {\n",
       "        vertical-align: top;\n",
       "    }\n",
       "\n",
       "    .dataframe thead th {\n",
       "        text-align: right;\n",
       "    }\n",
       "</style>\n",
       "<table border=\"1\" class=\"dataframe\">\n",
       "  <thead>\n",
       "    <tr style=\"text-align: right;\">\n",
       "      <th></th>\n",
       "      <th>Vmag</th>\n",
       "      <th>Plx</th>\n",
       "      <th>e_Plx</th>\n",
       "      <th>B-V</th>\n",
       "      <th>SpType</th>\n",
       "      <th>Amag</th>\n",
       "      <th>TargetClass</th>\n",
       "    </tr>\n",
       "  </thead>\n",
       "  <tbody>\n",
       "    <tr>\n",
       "      <th>0</th>\n",
       "      <td>9.03</td>\n",
       "      <td>3.650000</td>\n",
       "      <td>1.01</td>\n",
       "      <td>1.146</td>\n",
       "      <td>K2III/IVCN.</td>\n",
       "      <td>16.841465</td>\n",
       "      <td>1</td>\n",
       "    </tr>\n",
       "    <tr>\n",
       "      <th>1</th>\n",
       "      <td>7.88</td>\n",
       "      <td>31.879999</td>\n",
       "      <td>0.98</td>\n",
       "      <td>0.716</td>\n",
       "      <td>G8V</td>\n",
       "      <td>20.397591</td>\n",
       "      <td>1</td>\n",
       "    </tr>\n",
       "    <tr>\n",
       "      <th>2</th>\n",
       "      <td>9.29</td>\n",
       "      <td>5.160000</td>\n",
       "      <td>1.35</td>\n",
       "      <td>0.400</td>\n",
       "      <td>F0V</td>\n",
       "      <td>17.853249</td>\n",
       "      <td>1</td>\n",
       "    </tr>\n",
       "    <tr>\n",
       "      <th>3</th>\n",
       "      <td>7.51</td>\n",
       "      <td>12.850000</td>\n",
       "      <td>0.84</td>\n",
       "      <td>0.541</td>\n",
       "      <td>F7V</td>\n",
       "      <td>18.054516</td>\n",
       "      <td>1</td>\n",
       "    </tr>\n",
       "    <tr>\n",
       "      <th>4</th>\n",
       "      <td>9.10</td>\n",
       "      <td>6.190000</td>\n",
       "      <td>3.26</td>\n",
       "      <td>0.484</td>\n",
       "      <td>F3:V+...</td>\n",
       "      <td>18.058453</td>\n",
       "      <td>1</td>\n",
       "    </tr>\n",
       "    <tr>\n",
       "      <th>...</th>\n",
       "      <td>...</td>\n",
       "      <td>...</td>\n",
       "      <td>...</td>\n",
       "      <td>...</td>\n",
       "      <td>...</td>\n",
       "      <td>...</td>\n",
       "      <td>...</td>\n",
       "    </tr>\n",
       "    <tr>\n",
       "      <th>39547</th>\n",
       "      <td>8.05</td>\n",
       "      <td>6.240000</td>\n",
       "      <td>1.17</td>\n",
       "      <td>1.157</td>\n",
       "      <td>K2III</td>\n",
       "      <td>17.025925</td>\n",
       "      <td>0</td>\n",
       "    </tr>\n",
       "    <tr>\n",
       "      <th>39548</th>\n",
       "      <td>8.79</td>\n",
       "      <td>0.890000</td>\n",
       "      <td>1.28</td>\n",
       "      <td>1.194</td>\n",
       "      <td>K1III</td>\n",
       "      <td>13.536950</td>\n",
       "      <td>0</td>\n",
       "    </tr>\n",
       "    <tr>\n",
       "      <th>39549</th>\n",
       "      <td>8.00</td>\n",
       "      <td>0.410000</td>\n",
       "      <td>0.92</td>\n",
       "      <td>0.854</td>\n",
       "      <td>F6Iab</td>\n",
       "      <td>11.063919</td>\n",
       "      <td>0</td>\n",
       "    </tr>\n",
       "    <tr>\n",
       "      <th>39550</th>\n",
       "      <td>7.69</td>\n",
       "      <td>6.600000</td>\n",
       "      <td>0.92</td>\n",
       "      <td>1.110</td>\n",
       "      <td>K2III</td>\n",
       "      <td>16.787720</td>\n",
       "      <td>0</td>\n",
       "    </tr>\n",
       "    <tr>\n",
       "      <th>39551</th>\n",
       "      <td>8.51</td>\n",
       "      <td>-1.180000</td>\n",
       "      <td>1.34</td>\n",
       "      <td>1.568</td>\n",
       "      <td>K5/M0III</td>\n",
       "      <td>13.869411</td>\n",
       "      <td>0</td>\n",
       "    </tr>\n",
       "  </tbody>\n",
       "</table>\n",
       "<p>39552 rows × 7 columns</p>\n",
       "</div>"
      ],
      "text/plain": [
       "       Vmag        Plx  e_Plx    B-V       SpType       Amag TargetClass\n",
       "0      9.03   3.650000   1.01  1.146  K2III/IVCN.  16.841465           1\n",
       "1      7.88  31.879999   0.98  0.716          G8V  20.397591           1\n",
       "2      9.29   5.160000   1.35  0.400          F0V  17.853249           1\n",
       "3      7.51  12.850000   0.84  0.541          F7V  18.054516           1\n",
       "4      9.10   6.190000   3.26  0.484     F3:V+...  18.058453           1\n",
       "...     ...        ...    ...    ...          ...        ...         ...\n",
       "39547  8.05   6.240000   1.17  1.157        K2III  17.025925           0\n",
       "39548  8.79   0.890000   1.28  1.194        K1III  13.536950           0\n",
       "39549  8.00   0.410000   0.92  0.854        F6Iab  11.063919           0\n",
       "39550  7.69   6.600000   0.92  1.110        K2III  16.787720           0\n",
       "39551  8.51  -1.180000   1.34  1.568     K5/M0III  13.869411           0\n",
       "\n",
       "[39552 rows x 7 columns]"
      ]
     },
     "execution_count": 36,
     "metadata": {},
     "output_type": "execute_result"
    }
   ],
   "source": [
    "df_balanced"
   ]
  },
  {
   "cell_type": "code",
   "execution_count": 37,
   "metadata": {},
   "outputs": [
    {
     "data": {
      "text/html": [
       "<div>\n",
       "<style scoped>\n",
       "    .dataframe tbody tr th:only-of-type {\n",
       "        vertical-align: middle;\n",
       "    }\n",
       "\n",
       "    .dataframe tbody tr th {\n",
       "        vertical-align: top;\n",
       "    }\n",
       "\n",
       "    .dataframe thead th {\n",
       "        text-align: right;\n",
       "    }\n",
       "</style>\n",
       "<table border=\"1\" class=\"dataframe\">\n",
       "  <thead>\n",
       "    <tr style=\"text-align: right;\">\n",
       "      <th></th>\n",
       "      <th>Vmag</th>\n",
       "      <th>Plx</th>\n",
       "      <th>e_Plx</th>\n",
       "      <th>B-V</th>\n",
       "      <th>SpType</th>\n",
       "      <th>Amag</th>\n",
       "      <th>TargetClass</th>\n",
       "    </tr>\n",
       "  </thead>\n",
       "  <tbody>\n",
       "    <tr>\n",
       "      <th>0</th>\n",
       "      <td>8.91</td>\n",
       "      <td>8.570000</td>\n",
       "      <td>1.21</td>\n",
       "      <td>0.520</td>\n",
       "      <td>F5V</td>\n",
       "      <td>18.574903</td>\n",
       "      <td>1</td>\n",
       "    </tr>\n",
       "    <tr>\n",
       "      <th>1</th>\n",
       "      <td>9.09</td>\n",
       "      <td>1.840000</td>\n",
       "      <td>1.22</td>\n",
       "      <td>1.083</td>\n",
       "      <td>G6III:</td>\n",
       "      <td>15.414089</td>\n",
       "      <td>0</td>\n",
       "    </tr>\n",
       "    <tr>\n",
       "      <th>2</th>\n",
       "      <td>7.37</td>\n",
       "      <td>3.550000</td>\n",
       "      <td>0.83</td>\n",
       "      <td>1.143</td>\n",
       "      <td>K1III</td>\n",
       "      <td>15.121141</td>\n",
       "      <td>0</td>\n",
       "    </tr>\n",
       "    <tr>\n",
       "      <th>3</th>\n",
       "      <td>9.48</td>\n",
       "      <td>4.870000</td>\n",
       "      <td>1.50</td>\n",
       "      <td>0.597</td>\n",
       "      <td>G0III</td>\n",
       "      <td>17.917645</td>\n",
       "      <td>0</td>\n",
       "    </tr>\n",
       "    <tr>\n",
       "      <th>4</th>\n",
       "      <td>6.22</td>\n",
       "      <td>12.000000</td>\n",
       "      <td>0.59</td>\n",
       "      <td>0.182</td>\n",
       "      <td>A6V</td>\n",
       "      <td>16.615906</td>\n",
       "      <td>1</td>\n",
       "    </tr>\n",
       "    <tr>\n",
       "      <th>...</th>\n",
       "      <td>...</td>\n",
       "      <td>...</td>\n",
       "      <td>...</td>\n",
       "      <td>...</td>\n",
       "      <td>...</td>\n",
       "      <td>...</td>\n",
       "      <td>...</td>\n",
       "    </tr>\n",
       "    <tr>\n",
       "      <th>39547</th>\n",
       "      <td>6.74</td>\n",
       "      <td>1.670000</td>\n",
       "      <td>1.03</td>\n",
       "      <td>0.921</td>\n",
       "      <td>G8/K0III+..</td>\n",
       "      <td>12.853582</td>\n",
       "      <td>0</td>\n",
       "    </tr>\n",
       "    <tr>\n",
       "      <th>39548</th>\n",
       "      <td>9.50</td>\n",
       "      <td>3.510000</td>\n",
       "      <td>1.64</td>\n",
       "      <td>0.623</td>\n",
       "      <td>G0V</td>\n",
       "      <td>17.226536</td>\n",
       "      <td>1</td>\n",
       "    </tr>\n",
       "    <tr>\n",
       "      <th>39549</th>\n",
       "      <td>7.68</td>\n",
       "      <td>18.549999</td>\n",
       "      <td>1.04</td>\n",
       "      <td>0.770</td>\n",
       "      <td>G5V</td>\n",
       "      <td>19.021719</td>\n",
       "      <td>1</td>\n",
       "    </tr>\n",
       "    <tr>\n",
       "      <th>39550</th>\n",
       "      <td>2.65</td>\n",
       "      <td>23.340000</td>\n",
       "      <td>0.80</td>\n",
       "      <td>0.893</td>\n",
       "      <td>G5II</td>\n",
       "      <td>14.490505</td>\n",
       "      <td>0</td>\n",
       "    </tr>\n",
       "    <tr>\n",
       "      <th>39551</th>\n",
       "      <td>7.19</td>\n",
       "      <td>1.610000</td>\n",
       "      <td>0.83</td>\n",
       "      <td>0.523</td>\n",
       "      <td>F4Ib</td>\n",
       "      <td>13.224129</td>\n",
       "      <td>0</td>\n",
       "    </tr>\n",
       "  </tbody>\n",
       "</table>\n",
       "<p>39552 rows × 7 columns</p>\n",
       "</div>"
      ],
      "text/plain": [
       "       Vmag        Plx  e_Plx    B-V       SpType       Amag TargetClass\n",
       "0      8.91   8.570000   1.21  0.520          F5V  18.574903           1\n",
       "1      9.09   1.840000   1.22  1.083       G6III:  15.414089           0\n",
       "2      7.37   3.550000   0.83  1.143        K1III  15.121141           0\n",
       "3      9.48   4.870000   1.50  0.597        G0III  17.917645           0\n",
       "4      6.22  12.000000   0.59  0.182          A6V  16.615906           1\n",
       "...     ...        ...    ...    ...          ...        ...         ...\n",
       "39547  6.74   1.670000   1.03  0.921  G8/K0III+..  12.853582           0\n",
       "39548  9.50   3.510000   1.64  0.623          G0V  17.226536           1\n",
       "39549  7.68  18.549999   1.04  0.770          G5V  19.021719           1\n",
       "39550  2.65  23.340000   0.80  0.893         G5II  14.490505           0\n",
       "39551  7.19   1.610000   0.83  0.523         F4Ib  13.224129           0\n",
       "\n",
       "[39552 rows x 7 columns]"
      ]
     },
     "execution_count": 37,
     "metadata": {},
     "output_type": "execute_result"
    }
   ],
   "source": [
    "df_balanced = df_balanced.sample(frac=1).reset_index(drop=True)\n",
    "\n",
    "df_balanced"
   ]
  },
  {
   "cell_type": "markdown",
   "metadata": {},
   "source": [
    "Finally done!"
   ]
  },
  {
   "cell_type": "code",
   "execution_count": 38,
   "metadata": {},
   "outputs": [],
   "source": [
    "#Save our dataset, we can finally play with it!!!\n",
    "df_balanced.to_csv(\"Star39552_balanced.csv\", index=False)"
   ]
  },
  {
   "cell_type": "markdown",
   "metadata": {},
   "source": [
    "# Classification\n",
    "\n",
    "### We use three models here: Logistic Regression, RandomForest, XGBoost Classifier. The hyper parameters are also tuned to get hugher accuracy\n"
   ]
  },
  {
   "cell_type": "code",
   "execution_count": 39,
   "metadata": {},
   "outputs": [],
   "source": [
    "#importing required files\n",
    "\n",
    "import pandas as pd\n",
    "import numpy as np\n",
    "import math\n",
    "from math import sqrt\n",
    "import seaborn as sns\n",
    "import matplotlib.pyplot as plt\n",
    "from sklearn.preprocessing import LabelEncoder\n",
    "from sklearn.metrics import mean_squared_error\n",
    "from sklearn.neighbors import KNeighborsClassifier\n",
    "from sklearn.linear_model import LogisticRegression\n",
    "from sklearn.model_selection import train_test_split, GridSearchCV\n",
    "from sklearn.preprocessing import MinMaxScaler\n",
    "from sklearn.metrics import accuracy_score\n",
    "from sklearn.metrics import confusion_matrix\n",
    "from sklearn.ensemble import VotingClassifier\n",
    "from sklearn.tree  import DecisionTreeClassifier\n",
    "from sklearn.ensemble import RandomForestClassifier\n",
    "from sklearn import tree\n",
    "from sklearn.ensemble import AdaBoostClassifier"
   ]
  },
  {
   "cell_type": "code",
   "execution_count": 40,
   "metadata": {},
   "outputs": [
    {
     "data": {
      "text/plain": [
       "Vmag              AxesSubplot(0.125,0.799681;0.133621x0.0803191)\n",
       "Plx            AxesSubplot(0.285345,0.799681;0.133621x0.0803191)\n",
       "e_Plx           AxesSubplot(0.44569,0.799681;0.133621x0.0803191)\n",
       "B-V            AxesSubplot(0.606034,0.799681;0.133621x0.0803191)\n",
       "Amag           AxesSubplot(0.766379,0.799681;0.133621x0.0803191)\n",
       "TargetClass       AxesSubplot(0.125,0.703298;0.133621x0.0803191)\n",
       "dtype: object"
      ]
     },
     "execution_count": 40,
     "metadata": {},
     "output_type": "execute_result"
    },
    {
     "data": {
      "image/png": "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\n",
      "text/plain": [
       "<Figure size 1224x1440 with 40 Axes>"
      ]
     },
     "metadata": {
      "needs_background": "light"
     },
     "output_type": "display_data"
    }
   ],
   "source": [
    "#Outliers plotting\n",
    "\n",
    "star=pd.read_csv('Star39552_balanced.csv')\n",
    "star1=star\n",
    "star.plot(kind='box', subplots=True, layout=(8,5), figsize=(17,20))\n"
   ]
  },
  {
   "cell_type": "code",
   "execution_count": 41,
   "metadata": {},
   "outputs": [
    {
     "data": {
      "text/html": [
       "<div>\n",
       "<style scoped>\n",
       "    .dataframe tbody tr th:only-of-type {\n",
       "        vertical-align: middle;\n",
       "    }\n",
       "\n",
       "    .dataframe tbody tr th {\n",
       "        vertical-align: top;\n",
       "    }\n",
       "\n",
       "    .dataframe thead th {\n",
       "        text-align: right;\n",
       "    }\n",
       "</style>\n",
       "<table border=\"1\" class=\"dataframe\">\n",
       "  <thead>\n",
       "    <tr style=\"text-align: right;\">\n",
       "      <th></th>\n",
       "      <th>Vmag</th>\n",
       "      <th>Plx</th>\n",
       "      <th>e_Plx</th>\n",
       "      <th>B-V</th>\n",
       "      <th>Amag</th>\n",
       "      <th>TargetClass</th>\n",
       "    </tr>\n",
       "  </thead>\n",
       "  <tbody>\n",
       "    <tr>\n",
       "      <th>count</th>\n",
       "      <td>39552.000000</td>\n",
       "      <td>39552.000000</td>\n",
       "      <td>39552.000000</td>\n",
       "      <td>39552.000000</td>\n",
       "      <td>39552.000000</td>\n",
       "      <td>39552.000000</td>\n",
       "    </tr>\n",
       "    <tr>\n",
       "      <th>mean</th>\n",
       "      <td>7.921309</td>\n",
       "      <td>7.117378</td>\n",
       "      <td>1.109705</td>\n",
       "      <td>0.744336</td>\n",
       "      <td>16.050687</td>\n",
       "      <td>0.500000</td>\n",
       "    </tr>\n",
       "    <tr>\n",
       "      <th>std</th>\n",
       "      <td>1.308857</td>\n",
       "      <td>12.446291</td>\n",
       "      <td>0.788133</td>\n",
       "      <td>0.513987</td>\n",
       "      <td>2.443937</td>\n",
       "      <td>0.500006</td>\n",
       "    </tr>\n",
       "    <tr>\n",
       "      <th>min</th>\n",
       "      <td>-0.620000</td>\n",
       "      <td>-27.840000</td>\n",
       "      <td>0.420000</td>\n",
       "      <td>-0.400000</td>\n",
       "      <td>-0.350000</td>\n",
       "      <td>0.000000</td>\n",
       "    </tr>\n",
       "    <tr>\n",
       "      <th>25%</th>\n",
       "      <td>7.210000</td>\n",
       "      <td>2.430000</td>\n",
       "      <td>0.800000</td>\n",
       "      <td>0.358000</td>\n",
       "      <td>14.756514</td>\n",
       "      <td>0.000000</td>\n",
       "    </tr>\n",
       "    <tr>\n",
       "      <th>50%</th>\n",
       "      <td>8.160000</td>\n",
       "      <td>4.440000</td>\n",
       "      <td>0.990000</td>\n",
       "      <td>0.703000</td>\n",
       "      <td>16.020827</td>\n",
       "      <td>0.500000</td>\n",
       "    </tr>\n",
       "    <tr>\n",
       "      <th>75%</th>\n",
       "      <td>8.830000</td>\n",
       "      <td>8.232500</td>\n",
       "      <td>1.230000</td>\n",
       "      <td>1.129000</td>\n",
       "      <td>17.590542</td>\n",
       "      <td>1.000000</td>\n",
       "    </tr>\n",
       "    <tr>\n",
       "      <th>max</th>\n",
       "      <td>12.850000</td>\n",
       "      <td>772.330000</td>\n",
       "      <td>40.630000</td>\n",
       "      <td>3.440000</td>\n",
       "      <td>30.449015</td>\n",
       "      <td>1.000000</td>\n",
       "    </tr>\n",
       "  </tbody>\n",
       "</table>\n",
       "</div>"
      ],
      "text/plain": [
       "               Vmag           Plx         e_Plx           B-V          Amag  \\\n",
       "count  39552.000000  39552.000000  39552.000000  39552.000000  39552.000000   \n",
       "mean       7.921309      7.117378      1.109705      0.744336     16.050687   \n",
       "std        1.308857     12.446291      0.788133      0.513987      2.443937   \n",
       "min       -0.620000    -27.840000      0.420000     -0.400000     -0.350000   \n",
       "25%        7.210000      2.430000      0.800000      0.358000     14.756514   \n",
       "50%        8.160000      4.440000      0.990000      0.703000     16.020827   \n",
       "75%        8.830000      8.232500      1.230000      1.129000     17.590542   \n",
       "max       12.850000    772.330000     40.630000      3.440000     30.449015   \n",
       "\n",
       "        TargetClass  \n",
       "count  39552.000000  \n",
       "mean       0.500000  \n",
       "std        0.500006  \n",
       "min        0.000000  \n",
       "25%        0.000000  \n",
       "50%        0.500000  \n",
       "75%        1.000000  \n",
       "max        1.000000  "
      ]
     },
     "execution_count": 41,
     "metadata": {},
     "output_type": "execute_result"
    }
   ],
   "source": [
    "star.describe()"
   ]
  },
  {
   "cell_type": "code",
   "execution_count": 42,
   "metadata": {},
   "outputs": [],
   "source": [
    "star=star[star['Vmag']<star['Vmag'].quantile(0.9)]\n",
    "star=star[star['Plx']<star['Plx'].quantile(0.9)]\n",
    "star=star[star['e_Plx']<star['e_Plx'].quantile(0.9)]\n",
    "star=star[star['B-V']<star['B-V'].quantile(0.9)]\n",
    "star=star[star['Amag']<star['Amag'].quantile(0.9)]"
   ]
  },
  {
   "cell_type": "code",
   "execution_count": 43,
   "metadata": {},
   "outputs": [
    {
     "data": {
      "text/plain": [
       "Vmag              AxesSubplot(0.125,0.799681;0.133621x0.0803191)\n",
       "Plx            AxesSubplot(0.285345,0.799681;0.133621x0.0803191)\n",
       "e_Plx           AxesSubplot(0.44569,0.799681;0.133621x0.0803191)\n",
       "B-V            AxesSubplot(0.606034,0.799681;0.133621x0.0803191)\n",
       "Amag           AxesSubplot(0.766379,0.799681;0.133621x0.0803191)\n",
       "TargetClass       AxesSubplot(0.125,0.703298;0.133621x0.0803191)\n",
       "dtype: object"
      ]
     },
     "execution_count": 43,
     "metadata": {},
     "output_type": "execute_result"
    },
    {
     "data": {
      "image/png": "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\n",
      "text/plain": [
       "<Figure size 1224x1440 with 40 Axes>"
      ]
     },
     "metadata": {
      "needs_background": "light"
     },
     "output_type": "display_data"
    }
   ],
   "source": [
    "star.plot(kind='box', subplots=True, layout=(8,5), figsize=(17,20))"
   ]
  },
  {
   "cell_type": "code",
   "execution_count": 44,
   "metadata": {},
   "outputs": [],
   "source": [
    "#converting data types\n",
    "\n",
    "SpType_le = LabelEncoder()  \n",
    "star['SpType'] = SpType_le.fit_transform(star[\"SpType\"])\n",
    "       "
   ]
  },
  {
   "cell_type": "code",
   "execution_count": 45,
   "metadata": {},
   "outputs": [],
   "source": [
    "#splitting data\n",
    "\n",
    "inputs = star.drop(\"TargetClass\", axis = 1).values\n",
    "target = star['TargetClass'].values\n",
    "\n",
    "train_inputs, test_inputs , train_target, test_target = train_test_split(inputs,target , test_size= 0.3 , random_state=42)"
   ]
  },
  {
   "cell_type": "code",
   "execution_count": 46,
   "metadata": {},
   "outputs": [
    {
     "data": {
      "text/plain": [
       "(16305, 6)"
      ]
     },
     "execution_count": 46,
     "metadata": {},
     "output_type": "execute_result"
    }
   ],
   "source": [
    "train_inputs.shape\n"
   ]
  },
  {
   "cell_type": "code",
   "execution_count": 47,
   "metadata": {},
   "outputs": [],
   "source": [
    "model_accuracy={}\n"
   ]
  },
  {
   "cell_type": "code",
   "execution_count": 48,
   "metadata": {},
   "outputs": [],
   "source": [
    "def rmse(inputs, target):\n",
    "    rmse=mean_squared_error(inputs, target, squared=False)\n",
    "    return rmse"
   ]
  },
  {
   "cell_type": "markdown",
   "metadata": {},
   "source": [
    "# Logistic Regression"
   ]
  },
  {
   "cell_type": "code",
   "execution_count": 49,
   "metadata": {},
   "outputs": [
    {
     "data": {
      "text/plain": [
       "LogisticRegression(solver='liblinear')"
      ]
     },
     "execution_count": 49,
     "metadata": {},
     "output_type": "execute_result"
    }
   ],
   "source": [
    "#Fitting model\n",
    "\n",
    "logreg = LogisticRegression(solver='liblinear')\n",
    "logreg.fit(train_inputs,train_target)"
   ]
  },
  {
   "cell_type": "code",
   "execution_count": 50,
   "metadata": {},
   "outputs": [
    {
     "data": {
      "text/plain": [
       "0.8555044464888071"
      ]
     },
     "execution_count": 50,
     "metadata": {},
     "output_type": "execute_result"
    }
   ],
   "source": [
    "logreg.score(train_inputs,train_target)"
   ]
  },
  {
   "cell_type": "code",
   "execution_count": 51,
   "metadata": {},
   "outputs": [],
   "source": [
    "train_pred=logreg.predict(train_inputs)"
   ]
  },
  {
   "cell_type": "code",
   "execution_count": 52,
   "metadata": {},
   "outputs": [
    {
     "data": {
      "text/plain": [
       "0.3801257075115979"
      ]
     },
     "execution_count": 52,
     "metadata": {},
     "output_type": "execute_result"
    }
   ],
   "source": [
    "rmse(train_pred,train_target)"
   ]
  },
  {
   "cell_type": "code",
   "execution_count": 53,
   "metadata": {},
   "outputs": [
    {
     "data": {
      "text/plain": [
       "0.8523393904707397"
      ]
     },
     "execution_count": 53,
     "metadata": {},
     "output_type": "execute_result"
    }
   ],
   "source": [
    "logreg.score(test_inputs,test_target)"
   ]
  },
  {
   "cell_type": "code",
   "execution_count": 54,
   "metadata": {},
   "outputs": [],
   "source": [
    "model_accuracy['Logistic Regression Before Tuning']=round((logreg.score(test_inputs,test_target))*100,2)"
   ]
  },
  {
   "cell_type": "code",
   "execution_count": 55,
   "metadata": {},
   "outputs": [
    {
     "data": {
      "text/plain": [
       "{'Logistic Regression Before Tuning': 85.23}"
      ]
     },
     "execution_count": 55,
     "metadata": {},
     "output_type": "execute_result"
    }
   ],
   "source": [
    "model_accuracy"
   ]
  },
  {
   "cell_type": "code",
   "execution_count": 56,
   "metadata": {},
   "outputs": [
    {
     "data": {
      "text/plain": [
       "0.8555044464888071"
      ]
     },
     "execution_count": 56,
     "metadata": {},
     "output_type": "execute_result"
    }
   ],
   "source": [
    "accuracy_score(train_pred,train_target)"
   ]
  },
  {
   "cell_type": "code",
   "execution_count": 57,
   "metadata": {},
   "outputs": [],
   "source": [
    "test_pred=logreg.predict(test_inputs)"
   ]
  },
  {
   "cell_type": "code",
   "execution_count": 58,
   "metadata": {},
   "outputs": [
    {
     "data": {
      "image/png": "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\n",
      "text/plain": [
       "<Figure size 432x288 with 2 Axes>"
      ]
     },
     "metadata": {
      "needs_background": "light"
     },
     "output_type": "display_data"
    }
   ],
   "source": [
    "\n",
    "cf_matrix=confusion_matrix(test_target,test_pred)\n",
    "ax = sns.heatmap(cf_matrix/np.sum(cf_matrix), annot=True, cmap='Blues')\n",
    "\n",
    "ax.set_title('Seaborn Confusion Matrix with labels\\n\\n');\n",
    "ax.set_xlabel('\\nPredicted Values')\n",
    "ax.set_ylabel('Actual Values ');\n",
    "\n",
    "## Ticket labels - List must be in alphabetical order\n",
    "ax.xaxis.set_ticklabels(['False','True'])\n",
    "ax.yaxis.set_ticklabels(['False','True'])\n",
    "\n",
    "## Display the visualization of the Confusion Matrix.\n",
    "plt.show()"
   ]
  },
  {
   "cell_type": "markdown",
   "metadata": {},
   "source": [
    "## Tuning Hyper Parameters of Logistic Regression"
   ]
  },
  {
   "cell_type": "code",
   "execution_count": 59,
   "metadata": {},
   "outputs": [
    {
     "data": {
      "text/plain": [
       "LogisticRegression(penalty='l1', solver='liblinear')"
      ]
     },
     "execution_count": 59,
     "metadata": {},
     "output_type": "execute_result"
    }
   ],
   "source": [
    "logreg1 = LogisticRegression(solver='liblinear', penalty= 'l1')\n",
    "logreg1.fit(train_inputs,train_target)"
   ]
  },
  {
   "cell_type": "code",
   "execution_count": 60,
   "metadata": {},
   "outputs": [
    {
     "data": {
      "text/plain": [
       "0.8553204538485127"
      ]
     },
     "execution_count": 60,
     "metadata": {},
     "output_type": "execute_result"
    }
   ],
   "source": [
    "logreg1.score(train_inputs,train_target)"
   ]
  },
  {
   "cell_type": "code",
   "execution_count": 61,
   "metadata": {},
   "outputs": [
    {
     "data": {
      "text/plain": [
       "0.8517670625268279"
      ]
     },
     "execution_count": 61,
     "metadata": {},
     "output_type": "execute_result"
    }
   ],
   "source": [
    "logreg1.score(test_inputs,test_target)"
   ]
  },
  {
   "cell_type": "code",
   "execution_count": 62,
   "metadata": {},
   "outputs": [],
   "source": [
    "model_accuracy['Logistic Regression After Tuning']=round((logreg1.score(test_inputs,test_target))*100,2)"
   ]
  },
  {
   "cell_type": "code",
   "execution_count": 63,
   "metadata": {},
   "outputs": [
    {
     "data": {
      "text/plain": [
       "{'Logistic Regression Before Tuning': 85.23,\n",
       " 'Logistic Regression After Tuning': 85.18}"
      ]
     },
     "execution_count": 63,
     "metadata": {},
     "output_type": "execute_result"
    }
   ],
   "source": [
    "model_accuracy"
   ]
  },
  {
   "cell_type": "code",
   "execution_count": 64,
   "metadata": {},
   "outputs": [],
   "source": [
    "test_pred1=logreg1.predict(test_inputs)"
   ]
  },
  {
   "cell_type": "code",
   "execution_count": 65,
   "metadata": {},
   "outputs": [
    {
     "data": {
      "image/png": "iVBORw0KGgoAAAANSUhEUgAAAWsAAAFACAYAAAB6LV2NAAAAOXRFWHRTb2Z0d2FyZQBNYXRwbG90bGliIHZlcnNpb24zLjUuMSwgaHR0cHM6Ly9tYXRwbG90bGliLm9yZy/YYfK9AAAACXBIWXMAAAsTAAALEwEAmpwYAAApkUlEQVR4nO3dd5wV1fnH8c93d6liBxYVJAiWoBE09o4t9hJ7TIxJDDGJKZbEGqNGY40/NWrsJQkRNUaiEYOJDazBgoBgQUXBAohKEwSW5/fHzMLddctd2FuG/b55zYs7M+eeObN797lnnjkzo4jAzMzKW0WpG2BmZs1zsDYzywAHazOzDHCwNjPLAAdrM7MMcLA2M8sAB+tWJOk8SX8tdTsKQdKhkqZImitpixWo51VJu7Vey4pP0s6SXi/wNuZK2qCJ9ZMl7ZlnXcdLeirPssv9GV6ZP//loE0Ga0k7SXpG0ixJn0h6WtLWpW7XipK0jqRbJX0oaY6k1ySdL2mVVqj+CuCkiOgSES8vbyURsWlEPNEK7alD0hOSQtKAesuHpct3y7OekNSvqTIRMSoiNl7+1jYv/Tm/nbbpDkkXFnJ7Vv7aXLCWtBrwL+CPwFrAesD5wBelbFd9kipbWH4t4FmgE7B9RKwK7AWsAfRthSb1Bl5thXoK6Q3guNoZSWsD2wEzWmsDkqpaqy6zlmhzwRrYCCAi7oqImoiYHxGPRMTY2gKSvi9poqRPJY2Q1Dtn3dVpOmC2pBcl7Vyv/o6S7k57ti/l9vQkfTXtAX6WpgMOyll3h6Q/SRouaR4wKD3UPU3S2PQo4G5JHRvZr1OAOcC3I2Jyuo9TIuIXtfsmaQdJo9O6RkvaIWf7T0j6XXqUMUfSI5K6SuogaS5QCbwi6a20fJ0eaG7vL33fv9L9/ETSKEkV6bqlh+9p3VdJ+iCdrpLUIV23m6Spkk6VND09WvheM7/bIcBROV90xwD3Awtz2rmNpGfTtn0o6VpJ7dN1I9Nir6RpiKNy2nG6pI+A22uXpe/pm+7jlun8upI+bqgnL+l7kh7MmZ8k6Z6c+SmSBub+fCUNBo4Ffp226cGcKgfm+dmo344V+QyvK+k+STMkvSPp541so6Okv0qamf6sR0uqzqd91rC2GKzfAGok3SlpX0lr5q6UdAhwFvBNoBswCrgrp8hoYCBJr/xvwL31/kgOBu7NWT9MUjtJ7YAHgUeA7sDPgCGScg+nvwVcBKwK1OYYjwT2AfoAmwPHN7JfewL/iIglDa1U0vN+CLgGWBu4EnhISe8zd/vfS9vXHjgtIr6IiC7p+gERkU8v/VRgKsnPr5rk59nQfQ3OJun5DgQGANsA5+Ss7wGsTnL08wPguvq/r3o+ACYAe6fzxwF/rlemBjgZ6ApsD+wB/AQgInZJywxI0xB357RjLZKji8G5lUXEW8DpJL/LzsDtwB2NpHqeBHaWVCFpHaAdsCOAkvx0F2Bs7hsi4iaSL6HL0jYdmLM6389Gfcv7Ga4g+Qy/QvI72QP4paRvNLCN75L87nqRfN5OBObn2T5rQJsL1hExG9iJJHjcDMyQ9EDOt/6PgIsjYmJELAZ+T9KD6Z2+/68RMTMiFkfEH4AOQG7AfTEi/h4Ri0gCYkeSgLQdyR/jJRGxMCIeI0nHHJPz3n9GxNMRsSQiFqTLromIDyLiE5I/lIGN7NrawIdN7Pr+wJsR8Ze07XcBrwG5f/y3R8QbETEfuKeJbTVnEbAO0DsiFqU53oaC9bHABRExPSJmkKSjvlOvngvSOoYDc6n7s27In4Hj0i/BNSLi2dyVEfFiRDyX/gwmAzcCuzZT5xLgt+kX15cCTkTcDLwJPJ/u99kNVZLmoOeQ/Fx3BUYA70vaJJ0f1diXbSPy/WzUb8fyfoa3BrpFxAXpZ/htkr+hoxvYzCKSz2S/9Aj2xfRvz5ZTmwvWAGkgPj4iegKbAesCV6WrewNXp4dunwGfACLpSZAelk9MDz0/I+k9dM2pfkrOdpaQ9DDXTacp9f4Y362tt/57c3yU8/pzkoDfkJkkgaIx66bby1V/+/luqzmXA5OARyS9LemMPNv0brqs1sz0C7MlbfoHsDvJkctf6q+UtFGaovlI0mySL+Ou9cvVMyPny7MxN5N8lv4YEU2d/3gS2A3YJX39BEmg3jWdb4nl+n2twGe4N7Bu7d9G+t6zSI6e6vsLyZfR0DTFdVl6dGnLqU0G61wR8RpwB8kfGiQf1B9FxBo5U6eIeCbN7Z1Ocvi5ZkSsAcwiCea1etW+SA8be5Icnn8A9KrN3abWB97Pbc4K7Mp/gUPr1Z/rA5I/tlz1t98SnwOdc+Z71L6IiDkRcWpEbEDScz9F0h55tGn9dNlyi4jPgYeBH9NAsAb+RHJEsWFErEYSbNRAuTrVNrVSUheSL/tbgfPSlFNjaoP1zunrJ2k+WLfarTFX8DM8BXin3t/GqhGx35canBwNnR8R/YEdgAPIOflrLdfmgrWkTdKeRc90vhdJKuK5tMgNwJmSNk3Xry7piHTdqsBiktEFVZLOBVart4mvS/qmklEDvyQZZfIcySHyPJITRe3SE1AHAkNbadeuTNtyZ23KRtJ6kq6UtDkwHNhI0rckVUk6CuhPkopZHmOAb0mqlLQPOakESQekJ8cEzCbJE9c0UMddwDmSuknqCpwLtMY43bOAXWtPtNazatqmuWn64cf11k8DGh3f3IirSVIHJ5CcF7ihibJPAoOAThExleScyD4kKYPGhkQuT5sasyKf4f8Bs5WcbO2U/u43UwPDXiUNkvQ1JSd7Z5OkRRr6DFie2lywJskZbgs8r2TUxXPAeJKTYkTE/cClJIdvs9N1+6bvHUHSa3uD5JB9AV9OXfwTOAr4lCT/+s20l7EQOCit62PgeuC4tGe/wtK85Q4kfxTPS5oDPErSa5oUETNJejenkqRMfg0cEBEfL+cmf0HyZfMZSe55WM66DUl6+nNJhhNe38gJtwuBF0hOqo0DXkqXrZA0j9vYRSCnkZxInUOSuri73vrzSL7wPpN0ZHPbknQwSbA9MV10CrClpGMbadsbJD+XUen8bOBt4OmIaCyY3Qr0T9s0rLk2NWNFPsM1JL/zgcA7JJ/jW0jSKPX1AP5OEqgnknxJ+YKZFaCGz/uYmVk5aYs9azOzzHGwNjPLAAdrM7MMcLA2M8sAB2szswxwsDYzywAHazOzDHCwNjPLAAdrM7MMcLA2M8sAB2szswxwsDYzywAHazOzDHCwNjPLAAdrM7MMcLA2M8sAB2szswxwsDYzywAHazOzDHCwNjPLAAdrM7MMcLA2M8sAB2szswxwsDYzywAHazOzDHCwNjPLAAdrM7MMcLA2M8sAB2szswxwsDYzywAHazOzDHCwNjPLAAdrM7MMcLA2M8sAB2szswyoKnUDGtNpi5Oi1G2w8jNl1FWlboKVoa5dqrSidbQk5sx/+doV3l5LlW2wNjMrqorKUregSQ7WZmYAKu+ssIO1mRmAip7ZaBEHazMzcM/azCwT3LM2M8sA96zNzDLAo0HMzDLAaRAzswwo8zRIebfOzKxYpPynZqvSPpJelzRJ0hkNrN9N0ixJY9Lp3ObqdM/azAxarWctqRK4DtgLmAqMlvRAREyoV3RURByQb73uWZuZQRKs852atg0wKSLejoiFwFDg4BVtnoO1mRlAZWXek6TBkl7ImQbn1LQeMCVnfmq6rL7tJb0i6WFJmzbXPKdBzMygRaNBIuIm4KbGamroLfXmXwJ6R8RcSfsBw4ANm9qme9ZmZtCaaZCpQK+c+Z7AB7kFImJ2RMxNXw8H2knq2lSlDtZmZtCao0FGAxtK6iOpPXA08EDdTamHlFQkaRuSWDyzqUqdBjEzg1YbDRIRiyWdBIwAKoHbIuJVSSem628ADgd+LGkxMB84OiKafPiBg7WZGbTq5eZpamN4vWU35Ly+Fri2JXU6WJuZgS83NzPLhDK/3NzB2swM3LM2M8sE96zNzDLAwdrMLAP88AEzswxwztrMLAOcBjEzywD3rM3Myp8crM3Myp8qHKzNzMqee9ZmZhngYG1mlgEO1mZmGeBgbWaWBeUdqx2szcwAKip8UYyZWdlzGsTMLAMcrM3MsqC8Y7WDtZkZuGdtZpYJDtZmZhnge4OYmWWAe9ZmZhlQ7sG6oKPAJXWW9BtJN6fzG0o6oJDbNDNbHpLynkqh0Jfs3A58AWyfzk8FLizwNs3MWqytB+u+EXEZsAggIuZT9qMZzawtUoXynkqh0DnrhZI6AQEgqS9JT9vMrKyUe8660MH6t8C/gV6ShgA7AscXeJtmZi3WpoN1RPxH0kvAdiTpj19ExMeF3KaZ2XIp71hd2GAtaUdgTEQ8JOnbwFmSro6Idwu53SzZa4evcsWvDqeyooI7hj3DFbf/p876nb++Iff+32AmfzATgH8+NoaLb/o3HdpX8d9bf0n79lVUVVZy/39f5sIbhpdiF6wVPPfMKK664hKW1NRw4CGH8Z3v/bDO+ojgqssv5tmnR9KxYyfOPu8iNv5qfwCGDrmTB4fdhyT69tuQs357ER06dOCN1ydy+e8vYOHCL6isrOK0M86h/2abl2L3MqFN96yBPwEDJA0AfgXcBvwZ2LXA282Eigpx1RlHsv+Pr+X9aZ/x1JBf8a8nx/Ha2x/VKff0y29x2C9uqLPsi4WL2WfwNcybv5Cqqgoeu+0UHnl6Av8bN7mIe2Ctoaamhj9cchFXXX8z3aurOeE7R7HTroPos0G/pWWefXoUU6e8y93DHubV8WO54uILuPnPQ5kxfRp/HzqEIfc+QIeOHfnN6afw3xHD2f+gQ7n+6iv5/uCfsP2OO/PMUyO5/porufamO0q3o2Wu3IN1oUeDLI6IAA4GromIq4FVC7zNzNh6s6/w1pSPmfz+TBYtruHeES9xwG7593zmzV8IQLuqSqqqKkl+1JY1E18dR89evVivZy/atWvPHnvvx6gnHq9T5qknH2Of/Q9CEpt9bQBz5s7h4xkzgCTYf/HFAhYvXsyCBQvo2q07ABLMmzcXgHlz59C1a7fi7ljGVFRU5D2VQqF71nMknQl8G9hFUiXQrsDbzIx1u6/O1GmfLp1/f9qnbLPZV75UbtvN+/D83Wfw4YxZnHnl/UxMe94VFeKZv51O317duPHukYwe7+xSFs2YPo3u1essne9eXc2r48fWKzOd7tU9lpXpXs2MGdP4av/NOObbx/PN/fekQ4eObL3dDmy7/Y4A/OK0Mzjlp4O57qorWLJkCTfePqQ4O5RV5d2xLnjP+iiSoXo/iIiPgPWAyxsrLGmwpBckvbD441cL3LTSUwOfjvp94zGvTWHj/X7Dtkddwp+GPsk9/zd46bolS4Ltjr6Eft84h602603/vutg2dPQAVH9Q/KGjpokMXv2LEY9+Rj3PvgI//z34yyYP58Rwx8E4P577+Znp57O/cMf5eennM7FF/ymIO1fWbTpi2Ii4qOIuDIiRqXz70XEn5sof1NEbBURW1V13bSQTSsL70//jJ7Vay6dX696TT6YMatOmTnzFixNd4x4agLtqipZe41V6pSZNXc+I194k7136F/4Rlur615dzfRpHy6dnz5tGl27dm+gzLJzGdOnJ2VeeP451l2vJ2uuuRZV7dqx6+57Mu6VlwF4+F//ZLfd9wJg972+wYRXxxVhb7KrTQZrSXMkzW5gmiNpdiG2mUUvvPou/dbvRu9116ZdVSVHfGNLHnqi7uFv9drLUvxbbdqbComZn82j65pdWL1LJwA6dmjH7ttuzOuTpxW1/dY6Num/GVOnvMcH709l0aKFPPrIcHbadVCdMjvtMoh/P/QAEcH4ca/QpUsXunbrRnWPdRg/7hUWzJ9PRPDC/56jd5++AHTt1p2XXxwNwIujn6dXr95F37cskfKfmq9L+0h6XdIkSWc0UW5rSTWSDm+uzoLkrCPCJxHzUFOzhJMvvYcHr/8plRXizn8+x8S3P+KEw3cC4Ja/P8Whe27BD4/YmcU1NSxYsIjjzrwdgB5dV+PmC75DZUUFFRXivv+8xMOjxpdyd2w5VVVVcfKvz+aUkwZTU7OEAw4+lA369uP+v98NwKGHH8X2O+3Cs0+P5MiD96Vjx46cdV5yi51Nv7Y5g/bYm+8dewSVVZVstPFXOfibRwBw+jnncfUVl1BTs5j27Tvw63POK9UuZkJr9ZjTc3PXAXuR3A9ptKQHImJCA+UuBUbkVW8xRhBI6g50rJ2PiPeae0+nLU7y0Ab7kimjrip1E6wMde1StcKRduPTR+Qdc16/9BuNbk/S9sB5EfGNdP5MgIi4uF65X5LcN2lr4F8R8femtlnoW6QeJOlN4B3gSWAy8HAht2lmtjxaMQ2yHjAlZ35quixnW1oPOBSoewFFEwo9GuR3JJeavxERfYA9gKcLvE0zsxarqFDeU+7ItXQanFNVQ+G8fq/9KuD0iKjJt32FHme9KCJmSqqQVBERj0u6tMDbNDNrsZakrCPiJuCmRlZPBXrlzPcEPqhXZitgaJon7wrsJ2lxRAxrbJuFDtafSeoCjASGSJoOLC7wNs3MWqwVh+SNBjaU1Ad4Hzga+FZugTTTULvdO0hy1sOaqrRQQ/fWT18eDHwOnExyq9S3gAMLsU0zsxXRkjRIUyJiMXASySiPicA9EfGqpBMlnbi87StUz3oYsGVEzJN0X0QcBtxZoG2Zma2w1rzYJSKGA8PrLWvwZGJEHJ9PnYUK1rl7vUGBtmFm1mrK/KZ7BQvW0chrM7OyVO63SC1UsB6QXlYuoFPOJeYCIiJWK9B2zcyWS5nH6oJdbl5ZiHrNzAqlrfaszcwypblRHqXmYG1mRhtNg5iZZY3TIGZmGVDmsdrB2swM3LM2M8uEMo/VDtZmZuDRIGZmmeA0iJlZBpR7sG72FqmSLpO0mqR2kh6V9LGkbxejcWZmxdKaTzcvhHzuZ713RMwGDiB5AsJGwK8K2iozsyKTlPdUCvmkQdql/+8H3BURn5T74YKZWUutDCcYH5T0GjAf+ImkbsCCwjbLzKy4yr0P2mywjogz0ofczo6IGkmfkzyuy8xspVFR5tE6nxOMnYGfAn9KF61L8mReM7OVxspwgvF2YCGwQzo/FbiwYC0yMyuBcj/BmE+w7hsRlwGLACJiPnWfsWhmlnkVyn8qhXxOMC6U1In0WYqS+gJfFLRVZmZFtjKMBvkt8G+gl6QhwI7A8YVslJlZsanMEwb5jAb5j6SXgO1I0h+/iIiPC94yM7MiKvOOdfPBWtIu6cs56f/9JRERIwvXLDOz4ir3i/3ySYPkXlreEdgGeBHYvSAtMjMrgTKP1XmlQQ7MnZfUC7isYC0yMyuByjLPgyzPLVKnApu1dkPMzEop82kQSX8kHbZHMi57IPBKAdtkZlZ0ZR6r8+pZv5DzejHJnfeeLlB7zMxKotzvDZJPzvrOYjTEzKyUyjtUNxGsJY1jWfqjziogImLzgrXKzKzIspyzPqBorTAzK7HMjgaJiHeL2RAzs1Iq8451Xvez3k7SaElzJS2UVCNpdjEaZ2ZWLOV+i9R8RoNcCxwN3Evy0IHjgH6FbJSZWbGVeRYkv4tiImKSpMqIqAFul/RMgdtlZlZU5X6CMZ+HD3wuqT0wRtJlkk4GVilwu8zMikotmJqtS9pH0uuSJkk6o4H1B0saK2mMpBck7dRcnY0Ga0m1z1n8TlruJGAe0As4LI/2mpllRmWF8p6aIqkSuA7YF+gPHCOpf71ijwIDImIg8H3gluba11Qa5GZJXYC7gKERMQE4v7kKzcyyqBXTINsAkyLi7bTeocDBwITaAhExN6f8KjR8TUsdjfasI2ILkrHWNcDf0+766ZJ6L1/7zczKVys+3Xw9YErO/NR0Wb3t6VBJrwEPkfSum9RkzjoiXo+I8yOiP/BdYA3gMUm+N4iZrVQqpLwnSYPTXHPtNDinqobC+Zd6zhFxf0RsAhwC/K659uU1GkRSBdAdqCbpss/I531mZlnRkixIRNwE3NTI6qkk5/Zq9QQ+aKKukZL6Sura1CMTmwzWknYGjiGJ/OOBocDJETGrqfe1hk9HX1voTVgGHT/k5VI3wcrQ0O9uscJ1VLZezno0sKGkPsD7JNepfCu3gKR+wFsREZK2BNoDM5uqtKkbOU0B3iMJ0OdHxLQVa7+ZWflqrROMEbFY0knACKASuC0iXpV0Yrr+BpIRdcdJWgTMB46KiCZPMjbVs97J9wcxs7aiNa9gjIjhwPB6y27IeX0pcGlL6vSNnMzMWEkuNzczW9mV++XmDtZmZmS4Z13vQblfEhE/L0iLzMxKILMPH6Dug3LNzFZq+dzVrpSaOsHoB+WaWZtR5inr5nPWkroBp5PcPapj7fKI2L2A7TIzK6qKMo/W+fT8hwATgT4kd92bTHKFjpnZSqMVb+RUEPkE67Uj4lZgUUQ8GRHfB7YrcLvMzIqqQvlPpZDP0L1F6f8fStqf5IYkPQvXJDOz4svyaJBaF0paHTgV+COwGnByQVtlZlZkZR6rmw/WEfGv9OUsYFBhm2NmVhrK6+mKpZPPaJDbafjG2c0+2cDMLCsy37MG/pXzuiNwKE3cSNvMLIsyH6wj4r7ceUl3Af8tWIvMzEpgZTjBWN+GwPqt3RAzs1Iq82ti8spZz6FuzvojkisazcxWGuV+BWM+aZBVi9EQM7NSKvMsSPNXMEp6NJ9lZmZZVu6Xmzd1P+uOQGegq6Q1YekgxNWAdYvQNjOzoqnI8DjrHwG/JAnML7IsWM8Gritss8zMiquyzG9o3dT9rK8Grpb0s4j4YxHbZGZWdOV+gjGf75IlktaonZG0pqSfFK5JZmbFV+4563yC9Q8j4rPamYj4FPhhwVpkZlYCFVLeUynkc1FMhSRFRABIqgTaF7ZZZmbFVeZZkLyC9QjgHkk3kFwccyLw74K2ysysyMr8/GJewfp0YDDwY5IRIY8ANxeyUWZmxZb5E4wRsSQiboiIwyPiMOBVkocQmJmtNFaGnDWSBgLHAEcB7wD/KGCbzMyKrrz71U1fwbgRcDRJkJ4J3A0oIvy0GDNb6ZR5FqTJnvVrwCjgwIiYBCDJz140s5WSyjxaN5WzPozkdqiPS7pZ0h6U/5GCmdlyqZTynkqh0WAdEfdHxFHAJsATJE80r5b0J0l7F6l9ZmZFoRZMpZDPaJB5ETEkIg4AegJjgDMK3TAzs2KSlPdUCi0aBx4Rn0TEjRGxe6EaZGZWChUtmEpheZ7BaGa20in3E4wO1mZmlP/oCQdrMzMo2SiPfJX7vUvMzIqiNe9nLWkfSa9LmiTpSwMyJB0raWw6PSNpQHN1umdtZgaolRIh6W2krwP2AqYCoyU9EBETcoq9A+waEZ9K2he4Cdi2qXodrM3MaNXLzbcBJkXE20m9GgocDCwN1hHxTE7550iGRTfJaRAzM5Knm+c7SRos6YWcaXBOVesBU3Lmp6bLGvMD4OHm2ueetZkZUNGCrmtE3ESSumhIQ330aLCgNIgkWO/U3DYL1rNW4tuSzk3n15e0TaG2Z2a2ItSCf82YCvTKme8JfPCl7UmbA7cAB0fEzOYqLWQa5Hpge5JbrALMIUm6m5mVnQrlPzVjNLChpD6S2pPcavqB3AKS1id5LsB3IuKNfNpXyDTIthGxpaSXIXkqetpwM7Oy01qjQSJisaSTSJ5fWwncFhGvSjoxXX8DcC6wNnB9euXk4ojYqql6CxmsF6VDWGqfit4NWFLA7ZmZLbfWvCYmIoYDw+stuyHn9QnACS2ps5DB+hrgfqC7pIuAw4FzCri9THp61EguveQiltQs4dDDjuAHPxxcZ31EcOnFF/HUyCfp2Kkjv7voEr7af1MAZs+ezfnnnsOkSW8gifN/93sGDNyiFLthrWzAuqvy3W16UiHx2JszeWD8tDrrv95rdY4cuA5BULME/jx6Kq9Pn8fandvxk516s0andiwheOyNmTw8cUaJ9iJbWqtnXSgFC9YRMUTSi0DtQwsOiYiJhdpeFtXU1PD7iy7gxptvp7q6mm8ddTi7Ddqdvv36LS3z1KiRvPfuZB58+BHGjX2FCy84jyFD7wXgsosvYsedduYPV13DooULmb9gQYn2xFqTBN/frhcXPTKJmZ8v4vf7b8yLU2bx/qxlv9/xH87hxSmzAFh/zY78Ytc+nDpsIjUR/OWF95n8yXw6VlVw8QEbM/aDOXXeaw1rs5ebpwn0z4EHSZLr89Jllho/biy9evWmZ69etGvfnn32258nHn+0TpnHH3uUAw86BElsPmAgc+bMZsaM6cydO5cXXxzNoYcdDkC79u1ZbbXVSrEb1sr6de3MR7O/YPrchdQsCZ5551O26rV6nTJfLF6WUexQVbF0YNhn8xcz+ZP5ACxYvIT3Zy1grc7titb2LGvNy80LoZBpkIdIPkICOgJ9gNeBTQu4zUyZPm0aPdbpsXS+e3U148aOrVtm+jSqeywrU13dg+nTplFZWcWaa67FuWefyeuvv0b/TTfl12ecTefOnYvWfiuMtTq3Z+a8hUvnP/l8If26rfKlcluvvzpHb7kuq3es4tJH3/rS+m6rtOcra3Vm0sfzCtrelUV596sL2LOOiK9FxObp/xuSXIL5VKG2l0XRwDj5L91TNxouU1OzmNcmTuCIo4/hnvuG0alTJ267pbEx+pZ1DXwMGP3eLE4dNpErHn+bIweuW2ddh6oKTh7UhztHT2X+Ip/Xz0eFlPdUkvYVa0MR8RKwdVNlci/hvPXmlT/wVFf34KMPP1o6P33aNLp3716nTPfqHkz7aFmZadM+olv37lRX96C6ugebb57crGuvvffhtYkTsOz75POFrL3KslGua3Vuz6efL2q0/GvT5lG9antW7VAJQKXglN368NTbnzD6vVkFb+/KotyfwViwNIikU3JmK4AtgSZPS+dewrlgccOXZ65MNt3sa7z33mSmTp1Cdfdq/j38IS6+/A91yuw2aHeG/u2v7LPf/owb+wpduqxKt25JQK/u0YPJ77zNV/pswPPPPcsGffuWYjeslb318ef0WK0D3bq055PPF7FDnzX546jJdcpUr9qeaXOSVMlX1upEVaWY80UNAD/asTfvz1rA8AkeBdIiZZ4HKWTOetWc14tJctj3FXB7mVNVVcWZZ5/LjwefwJIlNRxy6GH067ch99x9FwBHHnUMO++yK0+NfJID9t2Ljh07ccGFv1/6/jPO+g1nnn4aixYtomfPXlxw4cWl2hVrRUsCbn9+Kmft2ZeKCvH4mzOZ+tkC9txobQD++8ZMtu29Bjv3XYuaJcHCxcHVT04GYOPuq7BL37V495P5XHLgxgAMfelDxrw/u1S7kxmlSm/kS9FQMmxFK00uhrkkIn61vHW0hZ61tdzxQ14udROsDA397hYrHGlHvz0r75iz9QarFz2yt3rPWlJVernllq1dt5lZwZR3x7ogaZD/keSnx0h6ALgXWDp2KCL+UYBtmpmtkDZ7BSOwFjAT2J1l462D5E5TZmZlpcxT1gUJ1t3TkSDjWRakazkPbWZlqS0G60qgCy14WoKZWam1xTTIhxFxQQHqNTMrmLbYsy7zXTYz+7JyD1yFCNZ7FKBOM7PCKvNo3erBOiI+ae06zcwKrS3mrM3MMiePB+GWlIO1mRm0vTSImVkWOQ1iZpYBbXHonplZ5pR5rHawNjMDyj5aO1ibmVH+Dx9wsDYzo+w71g7WZmZA2UdrB2szMzx0z8wsE8o8Ze1gbWYGDtZmZpngNIiZWQa4Z21mlgFlHqsdrM3MgLKP1g7WZmY4Z21mlgl++ICZWQaU+wnGilI3wMysPKgFUzM1SftIel3SJElnNLB+E0nPSvpC0mn5tM49azMzWq9nLakSuA7YC5gKjJb0QERMyCn2CfBz4JB863XP2syM1uxXsw0wKSLejoiFwFDg4NwCETE9IkYDi/Jtn4O1mRlJzzrfqRnrAVNy5qemy1aIg7WZGSCpJdNgSS/kTINzq2qg+ljR9jlnbWZGy66JiYibgJsaWT0V6JUz3xP4YHnbVcs9azMzWjUNMhrYUFIfSe2Bo4EHVrR97lmbmdF6VzBGxGJJJwEjgErgtoh4VdKJ6fobJPUAXgBWA5ZI+iXQPyJmN1avg7WZGbTqvUEiYjgwvN6yG3Jef0SSHsmbg7WZGb7c3MwsE3wjJzOzDPC9QczMbIW5Z21mRvn3rB2szcxwztrMLBM8GsTMLAscrM3Myp/TIGZmGeATjGZmGVDmsdrB2swMKPto7WBtZgZUlHkeRBEr/AADKzBJg9ObnZst5c9F2+LLzbNhcPNFrA3y56INcbA2M8sAB2szswxwsM4G5yWtIf5ctCE+wWhmlgHuWZuZZYCDtZlZBviimBKRVAOMy1l0SERMbqTs3IjoUpSGWUlJWht4NJ3tAdQAM9L5bSJiYUkaZiXnnHWJtCQAO1i3TZLOA+ZGxBU5y6oiYnHpWmWl4jRImZDURdKjkl6SNE7SwQ2UWUfSSEljJI2XtHO6fG9Jz6bvvVeSA/tKRNIdkq6U9DhwqaTzJJ2Ws368pK+kr78t6X/pZ+RGSZWlare1Lgfr0umU/kGNkXQ/sAA4NCK2BAYBf5C+dLOCbwEjImIgMAAYI6krcA6wZ/reF4BTirYXViwbkfyOT22sgKSvAkcBO6afkRrg2OI0zwrNOevSmZ/+QQEgqR3we0m7AEuA9YBq4KOc94wGbkvLDouIMZJ2BfoDT6exvT3wbHF2wYro3oioaabMHsDXgdHpZ6ETML3QDbPicLAuH8cC3YCvR8QiSZOBjrkFImJkGsz3B/4i6XLgU+A/EXFMsRtsRTUv5/Vi6h4V135OBNwZEWcWrVVWNE6DlI/VgelpoB4E9K5fQFLvtMzNwK3AlsBzwI6S+qVlOkvaqIjttuKbTPK7R9KWQJ90+aPA4ZK6p+vWSj8zthJwz7p8DAEelPQCMAZ4rYEyuwG/krQImAscFxEzJB0P3CWpQ1ruHOCNgrfYSuU+4DhJY0hSY28ARMQESecAj0iqABYBPwXeLVVDrfV46J6ZWQY4DWJmlgEO1mZmGeBgbWaWAQ7WZmYZ4GBtZpYBDtZmZhngYG1mlgEO1mZmGeBgbWaWAQ7WZmYZ4GBtZpYBDtZmZhngYG1mlgEO1mZmGeBgbWaWAQ7WZmYZ4GBtdUiqSZ+4Pl7SvZI6r0Bdd0g6PH19i6T+TZTdTdIOy7GNyekT3utv90f1lh0iaXg+bTUrRw7WVt/8iBgYEZsBC4ETc1dKqlyeSiPihIiY0ESR3YAWB+tG3AUcXW/Z0elys0xysLamjAL6pb3exyX9DRgnqVLS5ZJGSxpb24tV4lpJEyQ9BHSvrUjSE5K2Sl/vI+klSa9IelTSV0i+FE5Oe/U7S+om6b50G6Ml7Zi+d21Jj0h6WdKNJE/0ru+/wCaS1knf0xnYExgm6dy0vvGSbpL0pffn9tYlbSXpifT1KpJuS9//sqSD0+WbSvpf2vaxkjZsjR++WS4Ha2uQpCpgX2Bcumgb4OyI6A/8AJgVEVsDWwM/lNQHOBTYGPga8EMa6ClL6gbcDBwWEQOAIyJiMnAD8H9pr34UcHU6vzVwGHBLWsVvgaciYgvgAWD9+tuIiBrgH8CR6aKDgMcjYg5wbURsnR45dAIOaMGP5WzgsbRNg4DLJa1C8kVzdUQMBLYCpragTrO8+OnmVl+n9KnZkPSsbyUJuv+LiHfS5XsDm+fkeFcHNgR2Ae5Kg+UHkh5roP7tgJG1dUXEJ420Y0+gf07HdzVJq6bb+Gb63ockfdrI++8CLicJ+kcDf06XD5L0a6AzsBbwKvBgI3XUtzdwkKTT0vmOJF8WzwJnS+oJ/CMi3syzPrO8OVhbffPTHuJSacCcl7sI+FlEjKhXbj8gmqlfeZSB5Khv+4iY30Bb8nn/08A6kgaQfNkcLakjcD2wVURMkXQeScCtbzHLjjpz14vkiOD1euUnSnoe2B8YIemEiGjoi8psuTkNYstjBPBjSe0AJG2UpgNGkgTFyjRfPKiB9z4L7JqmTZC0Vrp8DrBqTrlHgJNqZyQNTF+OBI5Nl+0LrNlQAyMigHuAO4HhEbGAZYH3Y0ldgMZGf0wGvp6+Pqzefv+sNs8taYv0/w2AtyPiGpLUzOaN1Gu23BysbXncAkwAXpI0HriR5CjtfuBNkjz3n4An678xImYAg4F/SHoFuDtd9SBwaO0JRuDnwFbpCbsJLBuVcj6wi6SXSNIS7zXRzruAAcDQdNufkeTLxwHDgNGNvO984GpJo4CanOW/A9oBY9P9/l26/ChgfJo+2oRlKRezVqOkA2JmZuXMPWszswxwsDYzywAHazOzDHCwNjPLAAdrM7MMcLA2M8sAB2szswxwsDYzy4D/B3snay/cDKWQAAAAAElFTkSuQmCC\n",
      "text/plain": [
       "<Figure size 432x288 with 2 Axes>"
      ]
     },
     "metadata": {
      "needs_background": "light"
     },
     "output_type": "display_data"
    }
   ],
   "source": [
    "cf_matrix1=confusion_matrix(test_target,test_pred1)\n",
    "ax = sns.heatmap(cf_matrix1/np.sum(cf_matrix1), annot=True, cmap='Blues')\n",
    "\n",
    "ax.set_title('Seaborn Confusion Matrix with labels\\n\\n');\n",
    "ax.set_xlabel('\\nPredicted Values')\n",
    "ax.set_ylabel('Actual Values ');\n",
    "\n",
    "## Ticket labels - List must be in alphabetical order\n",
    "ax.xaxis.set_ticklabels(['False','True'])\n",
    "ax.yaxis.set_ticklabels(['False','True'])\n",
    "\n",
    "## Display the visualization of the Confusion Matrix.\n",
    "plt.show()"
   ]
  },
  {
   "cell_type": "code",
   "execution_count": 66,
   "metadata": {},
   "outputs": [
    {
     "name": "stderr",
     "output_type": "stream",
     "text": [
      "D:\\Astro-Pro\\lib\\site-packages\\sklearn\\linear_model\\_sag.py:352: ConvergenceWarning: The max_iter was reached which means the coef_ did not converge\n",
      "  warnings.warn(\n"
     ]
    },
    {
     "data": {
      "text/plain": [
       "LogisticRegression(l1_ratio=0.5, penalty='elasticnet', solver='saga')"
      ]
     },
     "execution_count": 66,
     "metadata": {},
     "output_type": "execute_result"
    }
   ],
   "source": [
    "logreg2 = LogisticRegression(solver='saga', penalty= 'elasticnet', l1_ratio=0.5)\n",
    "logreg2.fit(train_inputs,train_target)"
   ]
  },
  {
   "cell_type": "code",
   "execution_count": 67,
   "metadata": {},
   "outputs": [
    {
     "data": {
      "image/png": "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\n",
      "text/plain": [
       "<Figure size 432x288 with 2 Axes>"
      ]
     },
     "metadata": {
      "needs_background": "light"
     },
     "output_type": "display_data"
    }
   ],
   "source": [
    "cf_matrix2=confusion_matrix(test_target,test_pred)\n",
    "ax = sns.heatmap(cf_matrix/np.sum(cf_matrix), annot=True, cmap='Blues')\n",
    "\n",
    "ax.set_title('Seaborn Confusion Matrix with labels\\n\\n');\n",
    "ax.set_xlabel('\\nPredicted Values')\n",
    "ax.set_ylabel('Actual Values ');\n",
    "\n",
    "## Ticket labels - List must be in alphabetical order\n",
    "ax.xaxis.set_ticklabels(['False','True'])\n",
    "ax.yaxis.set_ticklabels(['False','True'])\n",
    "\n",
    "## Display the visualization of the Confusion Matrix.\n",
    "plt.show()"
   ]
  },
  {
   "cell_type": "code",
   "execution_count": 68,
   "metadata": {},
   "outputs": [
    {
     "data": {
      "text/plain": [
       "0.8258203005213125"
      ]
     },
     "execution_count": 68,
     "metadata": {},
     "output_type": "execute_result"
    }
   ],
   "source": [
    "logreg2.score(train_inputs,train_target)"
   ]
  },
  {
   "cell_type": "code",
   "execution_count": 69,
   "metadata": {},
   "outputs": [
    {
     "data": {
      "text/plain": [
       "0.8277292888825297"
      ]
     },
     "execution_count": 69,
     "metadata": {},
     "output_type": "execute_result"
    }
   ],
   "source": [
    "logreg2.score(test_inputs,test_target)"
   ]
  },
  {
   "cell_type": "code",
   "execution_count": 70,
   "metadata": {},
   "outputs": [],
   "source": [
    "test_pred2=logreg2.predict(test_inputs)"
   ]
  },
  {
   "cell_type": "code",
   "execution_count": 71,
   "metadata": {},
   "outputs": [
    {
     "data": {
      "image/png": "iVBORw0KGgoAAAANSUhEUgAAAXIAAAFACAYAAAChlvevAAAAOXRFWHRTb2Z0d2FyZQBNYXRwbG90bGliIHZlcnNpb24zLjUuMSwgaHR0cHM6Ly9tYXRwbG90bGliLm9yZy/YYfK9AAAACXBIWXMAAAsTAAALEwEAmpwYAAAtFklEQVR4nO3deZxWZf3/8dd7BhAUXBGURUPFDFPQkMolpdJwKSQtUMuflZF+s8WytE0z65u2fbW0CE3bFFwxTBILFzC1UENxjxAFicUVUBQYPr8/zhk8c3PPzJnhvmfmDO8nj/PgPudc17mue+aez32dz9kUEZiZWXHVtHcHzMxs0ziQm5kVnAO5mVnBOZCbmRWcA7mZWcE5kJuZFZwDeQVJ+q6kP7Z3P6pB0hhJCyWtkrTfJmznMUmHVa5nbU/SIZKeqnIbqyTt1sT6BZI+mHNbp0i6J2fZVn+GO/Pnv6PbLAO5pIMl3SvpVUkvSfq7pAPau1+bStLOkn4j6b+SVkp6UtL5kraqwOZ/ApwRET0j4l+t3UhE7B0Rd1WgPw1IuktSSBpasvzmdPlhObcTkvZoqkxEzIqIt7e+t81Lf87z0z79VtL3q9meFdtmF8glbQ38GfgFsD3QHzgfeLM9+1VKUm0Ly28P3Af0AN4bEb2Aw4Ftgd0r0KVdgccqsJ1qeho4uX5G0g7Ae4DllWpAUpdKbcusUja7QA7sCRARkyKiLiJWR8TtEfFIfQFJn5b0hKSXJU2XtGtm3SVpimGFpAclHVKy/e6Srk1HxA9lR4iS3pGOHF9JUwwfyaz7raRfSZom6TVgZLr7fJakR9K9h2sldW/kfX0FWAl8IiIWpO9xYUR8qf69STpQ0ux0W7MlHZhp/y5JF6R7Jysl3S6pt6QtJK0CaoGHJf0nLd9g5JodNab1/py+z5ckzZJUk67bkBJIt32xpMXpdLGkLdJ1h0laJOmrkpalexmfauZ3ezUwNvMleAIwBViT6ecISfelffuvpEsldUvXzUyLPZymNsZm+nG2pCXAVfXL0jq7p+9x/3S+n6QXyu0BSPqUpFsy8/MkXZeZXyhpWPbnK2k8cBLw9bRPt2Q2OSznZ6O0H5vyGe4n6UZJyyU9I+mLjbTRXdIfJb2Y/qxnS+qbp3/WcptjIH8aqJP0O0lHStouu1LSscA3gY8COwKzgEmZIrOBYSSj+WuA60v+gEYD12fW3yypq6SuwC3A7UAf4AvA1ZKyu+gnAj8AegH1Oc2PA6OAQcC+wCmNvK8PAjdFxPpyK5WM2G8Ffg7sAPwMuFXJqDXb/qfS/nUDzoqINyOiZ7p+aETkGd1/FVhE8vPrS/LzLHcviG+RjJiHAUOBEcC3M+t3ArYh2Wv6DHBZ6e+rxGLgceCIdP5k4PclZeqAM4HewHuBDwD/AxAR70vLDE1TG9dm+rE9yV7J+OzGIuI/wNkkv8stgauA3zaSProbOERSjaSdga7AQQBK8uE9gUeyFSJiIskX1I/SPn04szrvZ6NUaz/DNSSf4YdJficfAL4s6UNl2vh/JL+7gSSft9OA1Tn7Zy202QXyiFgBHEwSWC4HlkuamhktfA74YUQ8ERHrgP8lGfnsmtb/Y0S8GBHrIuKnwBZANhg/GBE3RMRakmDZnSRYvYfkD/XCiFgTEXeQpHhOyNT9U0T8PSLWR8Qb6bKfR8TiiHiJ5I9oWCNvbQfgv0289aOBf0fEH9K+TwKeBLKB4aqIeDoiVgPXNdFWc9YCOwO7RsTaNKdcLpCfBHwvIpZFxHKSFNcnS7bzvXQb04BVNPxZl/N74OT0C3LbiLgvuzIiHoyI+9OfwQLg18ChzWxzPXBe+qW2UTCKiMuBfwP/SN/3t8ptJM15ryT5uR4KTAeel7RXOj+rsS/iRuT9bJT2o7Wf4QOAHSPie+lneD7J39C4Ms2sJflM7pHu+T6Y/u1ZFWx2gRwgDdKnRMQA4J1AP+DidPWuwCXp7uArwEuASEYgpLv6T6S7s6+QjDp6Zza/MNPOepKRab90Wljyh/ps/XZL62Ysybx+neTLoJwXSYJIY/ql7WWVtp+3reb8GJgH3C5pvqRzcvbp2XRZvRfTL9OW9Okm4P0kezx/KF0pac807bNE0gqSL+repeVKLM98sTbmcpLP0i8ioqnjLXcDhwHvS1/fRRLED03nW6JVv69N+AzvCvSr/9tI636TZK+r1B9Ivqgmp2mzH6V7pVYFm2Ugz4qIJ4HfkvwRQvIh/lxEbJuZekTEvWku8WySXdrtImJb4FWSQF9vYP2LdFd0AMku/2JgYH2uOLUL8Hy2O5vwVv4GjCnZftZikj/ErNL2W+J1YMvM/E71LyJiZUR8NSJ2Ixnxf0XSB3L0aZd0WatFxOvAX4DTKRPIgV+R7IkMjoitSQKRypRrsNmmVkrqSTIQ+A3w3TSN1Zj6QH5I+vpumg/kFbtF6SZ+hhcCz5T8bfSKiKM26nCyF3V+RAwBDgSOIXMg2iprswvkkvZKRyQD0vmBJOmN+9MiE4BvSNo7Xb+NpI+l63oB60jOgugi6Vxg65Im3iXpo0rObvgyydkw95Psdr9GctCqa3ow7MPA5Aq9tZ+lffldfRpIUn9JP5O0LzAN2FPSiZK6SBoLDCFJ77TGHOBESbWSRpFJT0g6Jj1QJ2AFSV66rsw2JgHflrSjpN7AuUAlzkP+JnBo/UHfEr3SPq1KUxqnl6xfCjR6/nYjLiFJR5xKchxiQhNl7wZGAj0iYhHJMZhRJGmIxk7rbE2fGrMpn+F/AiuUHPjtkf7u36kyp+5KGilpHyUHnleQpFrKfQasAja7QE6So3w38A8lZ4fcDzxKcoCOiJgCXESyS7giXXdkWnc6yWjvaZI0wBtsnA75EzAWeJkk3/vRdHSyBvhIuq0XgF8CJ6d7BJsszZMeSPIH8w9JK4EZJKOteRHxIsmo6KskaZivA8dExAutbPJLJF9Er5Dkum/OrBtMsoewiuSUyF82cvDv+8ADJAf45gIPpcs2SZo3buwCmLNIDuquJEmHXFuy/rskX4avSPp4c21JGk0SiE9LF30F2F/SSY307WmSn8usdH4FMB/4e0Q0Fuh+AwxJ+3Rzc31qxqZ8hutIfufDgGdIPsdXkKRmSu0E3EASxJ8g+QLzxUJVovLHoMzMrCg2xxG5mVmn4kBuZlZwDuRmZgXnQG5mVnAO5GZmBedAbmZWcA7kZmYF50BuZlZwDuRmZgXnQG5mVnAO5GZmBedAbmZWcA7kZmYF50BuZlZwDuRmZgXnQG5mVnAO5GZmBedAbmZWcA7kZmYF50BuZlZwDuRmZgXnQG5mVnAO5GZmBedAbmZWcA7kZmYF50BuZlZwDuRmZgXnQG5mVnAO5GZmBedAbmZWcA7kZmYF50BuZlZwDuRmZgXnQG5mVnAO5GZmBdelvTvQmB77nRHt3QfreBbOuri9u2AdUO+eXbSp22hJzFn9r0s3ub1K6rCB3MysTdXUtncPWs2B3MwMQMXNNDuQm5kBqENlS1rEgdzMDAo9Ii9uz83MKknKPzW7KY2S9JSkeZLOKbP+MEmvSpqTTufmrVuOR+RmZlCxEbmkWuAy4HBgETBb0tSIeLyk6KyIOKaVdRvwiNzMDJKzVvJOTRsBzIuI+RGxBpgMjM7Zi1bVdSA3M4MWpVYkjZf0QGYan9lSf2BhZn5RuqzUeyU9LOkvkvZuYd0GnFoxM4MWpVYiYiIwsbEtlatSMv8QsGtErJJ0FHAzMDhn3Y14RG5mBpU82LkIGJiZHwAszhaIiBURsSp9PQ3oKql3nrrlOJCbmUEyIs87NW02MFjSIEndgHHA1AZNSTtJyTeCpBEksfjFPHXLcWrFzAwqdtZKRKyTdAYwHagFroyIxySdlq6fABwPnC5pHbAaGBcRAZSt21ybDuRmZgC1lbvXSpoumVaybELm9aXApXnrNseB3MwMfIm+mVnhFfgSfQdyMzPwiNzMrPA8IjczKzg/WMLMrOCcWjEzKzinVszMCs4jcjOzgvOI3Mys4BzIzcwKzmetmJkVnHPkZmYF59SKmVnBeURuZlZsKnAgL+6+hJlZBalGuadmtyWNkvSUpHmSzmmi3AGS6iQdn1m2QNJcSXMkPZCn7x6Rm5lRuRG5pFrgMuBwkmdwzpY0NSIeL1PuIpKnAZUaGREv5G3TI3IzM5JAnndqxghgXkTMj4g1wGRgdJlyXwBuBJZtat8dyM3MqGgg7w8szMwvSpdl2+oPjAEmsLEAbpf0oKTxefru1IqZGS1LraQBNhtkJ0bExPrVZapEyfzFwNkRUVem3YMiYrGkPsBfJT0ZETOb6o8DuZkZlA+/jUiD9sRGVi8CBmbmBwCLS8oMByanQbw3cJSkdRFxc0QsTttYJmkKSarGgdzMrDk1NRXLNM8GBksaBDwPjANOzBaIiEH1ryX9FvhzRNwsaSugJiJWpq+PAL7XXIMO5GZmVO6slYhYJ+kMkrNRaoErI+IxSael68vlxev1BaakfekCXBMRtzXXpgO5mRmVvSAoIqYB00qWlQ3gEXFK5vV8YGhL23MgNzODFuXIOxoHcjMzin2JvgO5mRkO5GZmhZfnHiodlQO5mRkekZuZFV6RA3lV77UiaUtJ35F0eTo/WNIx1WzTzKw1KnivlTZX7ZtmXQW8Cbw3nV8EfL/KbZqZtZgDeeN2j4gfAWsBImI1hT5b08w6q0o+WKKtVTtHvkZSD9I7f0nanWSEbmbWoXTEkXZe1Q7k5wG3AQMlXQ0cBJxS5TbNzFrMgbwREfFXSQ8B7yFJqXypJY8vMjNrM8WN41U/a+Ug4I2IuBXYFvimpF2r2WbRHH7gO3h4ynd49E/ncdanDt9o/SHvGsySmT/m/snncP/kc/jG+FEADOi7LbdN/CL/uvHbPHjDt/j8CYe1cc+trdx/7yzGffRoPj56FH+46vKN1j/7zHzGn3Iih71nGNf8/qp26GHnUOSDndVOrfwKGCppKPA14Erg98ChVW63EGpqxMXnfJyjT7+U55e+wj1Xf40/3z2XJ+cvaVDu7//6D8d9qeGN09bVreecn93EnCcX0XPLLbj3mrOZ8Y8nN6prxVZXV8dPL/wBF//ycvr07cupnxzLwYeOZNBue2wos/U223Dm177BzLvuaMeeFl9HDNB5VfuslXURESQPHv15RFwC9Kpym4VxwDvfxn8WvsCC519k7bo6rp/+EMcctm+uukteWMGcJxcBsOr1N3nymSX023HbKvbW2sMTj81lwMCB9B8wkK5du/GBI45i1l13Niiz3fY78I6996FLF1/ftylqampyTx1NtXu0UtI3gE8At0qqBbpWuc3C6NdnGxYtfXnD/PNLX6b/jttsVO7d+w7iH9eew82Xns47dttpo/W77Lw9w94+gNmPLqhmd60dLF+2lD59d94w36dvX5YvX9qOPerE1IKpg6l2IB9LcrrhZyJiCcmTpH/cWGFJ4yU9IOmBdS88VuWutT+V+USUPqF1zpMLeftR3+HdYy/kV5Pv5rr/a/hQ7a16dGPST07laz+5kZWvvVHF3lp7iNIPBMVOAXRklcyRSxol6SlJ8ySd00S5AyTVSTq+pXWzqhrII2JJRPwsImal889FxO+bKD8xIoZHxPAuvfeuZtc6hOeXvcKAvtttmO/fdzsWL3+1QZmVr73Ba6vXADD9nsfp2qWWHbbdCoAuXWqY9JPPcu1fHuBPdzzcdh23NtOnb1+WLf3vhvllS5fSu3efduxR51WpQJ5mHi4DjgSGACdIGtJIuYtIHgnXorqlqhLIJa2UtKLMtFLSimq0WUQPPPYse+yyI7v224GuXWr52If259a7HmlQpu8Obx1SGL73rtRIvPjKawBMOO8knnpmCT//ow9ydVZ7DXknixY+x+LnF7F27Rpm3D6Ngw8d2d7d6pSk/FMzRgDzImJ+RKwBJpMcJyz1BeBGYFkr6jZQlaMjEeEDmjnU1a3nzIuu45Zffp7aGvG7P93PE/OXcOrxBwNwxQ33MOaD+/HZjx3Curo63nhjLSd/Izm97MBhu3HSMe9m7tPPc//kZO/rvEunMv2ex9vt/VjldenShTO//i2+csZ46urWc8zoMey2+x5MueFaAMYcP5YXX1jOZz45ltdeW0WNarhu0h+4+vqpbNWzZzv3vlhakrKSNB7I5jknRsTE9HV/YGFm3SLg3SX1+wNjgPcDB2RWNVu3bH+iXBKuwiT1AbrXz0fEc83V6bHfGdXvmBXOwlkXt3cXrAPq3bPLJh84ePvZ03PHnKcu+lCj7Un6GPChiDg1nf8kMCIivpApcz3w04i4X9JvgT9HxA156pZT1fOVJH0E+CnQj2T3YVfgCaDzJ8DNrFAqeAx5ETAwMz8AWFxSZjgwOd0L6A0cJWldzrobqfaJpxeQXJ7/t4jYT9JI4IQqt2lm1mI1lbur4WxgsKRBwPPAOODEbIGIGFT/OjMiv1lSl+bqlu17pXreiLUR8SJQI6kmIu4EhlW5TTOzFqvUwc6IWAecQXI2yhPAdRHxmKTTJJ3WmrrN9b3aI/JXJPUEZgJXS1oGrKtym2ZmLVbJ8/MjYhowrWTZhEbKntJc3eZU6/TDXdKXo4HXgTNJbmf7H+DD1WjTzGxT1NQo99TRVGtEfjOwf0S8JunGiDgO+F2V2jIz22RFvmK2WoE8+xPZrUptmJlVTIHjeNUCeTTy2sysQ/KIfGND00vxBfTIXJYvICJi6yq1a2bWKgWO41W7RL+2Gts1M6sWj8jNzAquI56NkpcDuZkZTq2YmRWeUytmZgVX4DjuQG5mBh6Rm5kVXoHjuAO5mRn4rBUzs8JzasXMrOCKHMibvY2tpB9J2lpSV0kzJL0g6RNt0Tkzs7ZSqQdLJNvSKElPSZon6Zwy60dLekTSHEkPSDo4s26BpLn16/L0Pc/9yI+IiBXAMSTPk9sT+FqejZuZFYWk3FMz26kFLgOOBIYAJ0gaUlJsBjA0IoYBnwauKFk/MiKGRcTwPH3Pk1rpmv5/FDApIl4q8i6ImVk5FTzYOQKYFxHzASRNJnnIzuP1BSJiVab8VmziXWLzjMhvkfQkyVOfZ0jaEXhjUxo1M+toKpha6Q8szMwvSpeVtKcxaWy9lWRUXi+A2yU9KGl8nr43G8gj4hzgvcDwiFhL8ui20Xk2bmZWFDVS7knS+DS3XT9lA265UL/RiDsipkTEXsCxwAWZVQdFxP4kqZnPS3pfc31vNrUiaUvg88AuwHigH/B24M/N1TUzK4qWZIwjYiIwsZHVi4CBmfkBwOImtjVT0u6SekfECxGxOF2+TNIUklTNzKb6kye1chWwBjgw08nv56hnZlYYlTrYCcwGBksaJKkbMA6YWtLWHko3JGl/oBvwoqStJPVKl28FHAE82lyDeQ527h4RYyWdABARq5XjnZiZFUmljnVGxDpJZwDTgVrgyoh4TNJp6foJwHHAyZLWAquBsRERkvoCU9IQ2wW4JiJua67NPIF8jaQepDkeSbsDb7b87ZmZdVyVvEQ/IqYB00qWTci8vgi4qEy9+cDQlraXJ5CfB9wGDJR0NXAQcEpLGzIz68hU9hhlMTQbyCPir5IeAt5DcjT2SxHxQtV7ZmbWhgp8z6xcZ63Un/qyMv1/iCQiosmjqGZmRVLkQ395UivZy/G7k5wK8yDw/qr0yMysHRQ4judKrXw4Oy9pIPCjqvXIzKwd1BY4t9Ka29guAt5Z6Y6YmbWnTp1akfQL3rq8tAYYBjxcxT6ZmbW5AsfxXCPy7P1w15HcAfHvVeqPmVm7qClwJM+TI/9dW3TEzKw9FTeMNxHIJc2l/D1yBURE7Fu1XpmZtbHOmiM/ps16YWbWzjrlWSsR8WxbdsTMrD0VeECe6+HL75E0W9IqSWsk1Ula0RadMzNrKxW8jW2by3PWyqUk99O9nuRxbycDe1SzU2Zmba3AmZV8FwRFxDxJtRFRB1wl6d4q98vMrE11xJF2XnmeEPR6+pSLOZJ+JOlMkqc+m5l1GmrB1Oy2pFGSnpI0T9I5ZdaPlvSIpDnpMz8Pzlu3nEYDuaTh6ctPpuXOAF4jeRbdcXk2bmZWFLU1yj01RVItcBnJw5OHACdIGlJSbAYwNCKGAZ8GrmhB3Y00lVq5XFJPYBIwOSIeB85vboNmZkVUwdTKCGBe+rQfJE0GRgOP1xeIiFWZ8lvx1jU7zdYtp9EReUTsR3IueR1wQ7oLcLakXVv6rszMOjop/9SM/sDCzPyidFlJexoj6UngVpJRee66pZrMkUfEUxFxfkQMAf4fsC1whyTfa8XMOpUaKfckaXya266fxmc2VS7Ub3SVfERMiYi9gGOBC1pSt1Sus1Yk1QB9gL4kuwHL89QzMyuKlmRWImIiMLGR1YtIjiXWGwAsbmJbMyXtLql3S+vWazKQSzoEOIHkG+NRYDJwZkS82tyGN9XLsy+tdhNWQKffMLe9u2Ad0FXj9tnkbdRWLkc+GxgsaRDwPMl1OCdmC0jaA/hPRISk/YFuwIvAK83VLaepm2YtBJ4jCd7nR8TS1rwjM7MiqNTBzohYJ+kMYDpQC1wZEY9JOi1dP4HkzL+TJa0FVgNjIyKAsnWba7OpEfnBvt+KmW0uKnllZ0RMA6aVLJuQeX0RcFHeus3xTbPMzNgMLtE3M+vsinyJvgO5mRmddERe8tDljUTEF6vSIzOzdtApHyxBw4cum5l1annuINhRNXWw0w9dNrPNRoFT5M3nyCXtCJxNcieu7vXLI+L9VeyXmVmbqilwJM+zN3E18AQwiOTuhwtIrlwyM+s0KnjTrDaXJ5DvEBG/AdZGxN0R8WngPVXul5lZm6pR/qmjyXP64dr0//9KOprkBi4DqtclM7O211nPWqn3fUnbAF8FfgFsDZxZ1V6ZmbWxAsfx5gN5RPw5ffkqMLK63TEzax/K9TTOjinPWStXUf6m6J8uU9zMrJA69Ygc+HPmdXdgDDludG5mViSdOpBHxI3ZeUmTgL9VrUdmZu2gsx/sLDUY2KXSHTEza08d8fzwvPLkyFfSMEe+hORKTzOzTqOSV3ZKGgVcQvKUnysi4sKS9SfxVhxdBZweEQ+n6xYAK4E6YF1EDG+uvTyplV4teQNmZkVUqcyKpFrgMuBwkocpz5Y0NSIezxR7Bjg0Il6WdCTJg5zfnVk/MiJeyNtms1d2SpqRZ5mZWZFV8BL9EcC8iJgfEWtInns8OlsgIu6NiJfT2fvZxIssGw3kkrpL2h7oLWk7Sdun09uAfpvSqJlZR1ODck+Sxkt6IDONz2yqP7AwM78oXdaYzwB/ycwHcLukB0u226imUiufA75MErQfhA1ny68g2W0wM+s0altwQ/KImEiSDimn3Ji97EN6JI0kCeQHZxYfFBGLJfUB/irpyYiY2VR/mrof+SXAJZK+EBG/aGojZmZFV8GDnYuAgZn5AZS59kbSvsAVwJER8WL98ohYnP6/TNIUklRNk4E8z3fQeknbZhrfTtL/5KhnZlYYFcyRzwYGSxokqRswDpjasC3tAtwEfDIins4s30pSr/rXwBHAo801mCeQfzYiXqmfSRP0n81Rz8ysMGqk3FNTImIdcAYwneRZDtdFxGOSTpN0WlrsXGAH4JeS5kiqf7RmX+AeSQ8D/wRujYjbmut7nguCaiQpIgI2nFrTLUc9M7PCqOQFQRExDZhWsmxC5vWpwKll6s0Hhra0vTyBfDpwnaQJJAn704BmvyHMzIqkUz58OeNsYDxwOsnR2NuBy6vZKTOzttapn9kZEesjYkJEHB8RxwGPkTxgwsys06hUjrw95LpplqRhwAnAWJJLS2+qYp/MzNpcxwvP+TUayCXtSXLazAnAi8C1gCLCTwkys06nAw60c2tqRP4kMAv4cETMA5DkZ3WaWaekAkfypnLkx5HcsvZOSZdL+gDF3vswM2tUrZR76mgaDeQRMSUixgJ7AXcBZwJ9Jf1K0hFt1D8zszahFkwdTZ6zVl6LiKsj4hiSewbMAc6pdsfMzNqSpNxTR9Oic+Aj4qWI+HVEvL9aHTIzaw81LZg6mtY8s9PMrNPpiCPtvBzIzczomLnvvBzIzcygQ56NkpcDuZkZnfeCIDOzzYYKnFzpiAdgzczaXAWfEISkUZKekjRP0kana0s6SdIj6XSvpKF565bjQG5mBtSg3FNT0ofvXAYcCQwBTpA0pKTYM8ChEbEvcAHpg5xz1i3TdzMzo6Ym/9SMEcC8iJgfEWuAycDobIGIuDd9bCbA/SQXW+aqW7bv+d9myyjxCUnnpvO7SBpRrfbMzDaFWvCvGf2BhZn5RemyxnwG+Esr6wLVHZH/EngvyW1wAVaS7DKYmXU4Nco/SRov6YHMND6zqXKRPsq1KWkkSSA/u6V1s6p51sq7I2J/Sf8CiIiXJfmhzWbWIbXkrJWImEia1y5jETAwMz8AWLxRe9K+wBXAkRHxYkvqlqrmiHxtmrgPAEk7Auur2J6ZWatV8KyV2cBgSYPSwes4YGrDtrQLyZPWPhkRT7ekbjnVHJH/HJgC9JH0A+B44NtVbK8Q/j5rJhdd+APW161nzHEf4zOfHd9gfURw0Q9/wD0z76Z7j+5c8IMLeceQvVnwzHy+/tW3nuuxaNFC/ueML/KJk0/h0p9fzF13zqBGNWy3ww5c8IMf0qdP37Z+a1ZB79ypJyfu348awcz5LzPtieUN1u/Xvxdj9ulLBNRFMOmh//LvF14H4NMj+jO039aseGMd37nt3+3R/UKq1HnkEbFO0hnAdKAWuDIiHpN0Wrp+AnAusAPwy/QeL+siYnhjdZvte0Sz6ZdWk7QXUP9AihkR8UTeum+saz4vVDR1dXV85OgP8evLr6Jv376cOPZ4Lvzxz9h9jz02lJk1824mXf0HLptwOXMfeZiLfvgDrp58/UbbOXzk+/jj5Ovo168/q1atomfPngBc/cffM/8/8/jOed9r0/fWVk6/YW57d6HqJLjw6D35yZ3P8NLqdZx7+O78+r6FLF7x5oYyW3Sp4c11yQ7ugG268z8HDeSb05KgveeOW/LmuvWc+u6Bm00gv2rcPpschWc9/XLumHPIntt1qKuHqnnWyi7A68AtJLsGr6XLNluPzn2EgQN3ZcDAgXTt1o1RRx3NXXfOaFDmzjtm8OGPHIsk9h06jJUrV7B8+bIGZf5x/30MHDiQfv2Sg9n1QRzgjdWrC30XN4Pdtt+SZSvXsPy1tdStD/753Kvs13/rBmXqgzgkQT07Hnt6+eusWlPXVt3tNCp5QVBbq2Zq5VaS/LiA7sAg4Clg7yq22aEtW7qUnXbeacN8n759mfvIIw3LLFtK353eKtO3704sW7qUHXfss2HZbX+5lVFHHdOg3i8u+T9umXozPXv24oqrfl+ld2BtYbseXXjp9bUb5l9avZbdt99yo3L799+a44f2pdcWXbh45rNt2cVOqQPG59yqNiKPiH0iYt/0/8EkJ7rfU632iiDKZIs2Gj2XSXVly6xds4a777yDIz40qkGZL3zpTG6fcTdHH/NhJl/zx8p02NpHmYhS7rPz0PMr+Oa0f/OLe55lzD4+JrKpaqTcU0fTZld2RsRDwAFNlcmem/mbyxs7s6e4+vbdiSX/XbJhftnSpfTp06dBmT59d2LpkrfKLF26hB0zZe65ZyZ7DdmbHXr3LtvGkUcfw9/+enuFe25t6eXX17H9ll03zG/foyuvrF7XaPmnl79On57d6Nmtti2612l16md2tpakr2SmsyRdAyxvqk5ETEyP3A4vPZujM9j7nfvw3HMLWLRoIWvXrOG2abdy6MiGT807bOT7uWXqzUQEjzw8h549ezVIq/xl2q0cedTRDeo8++yCDa/vuvMOBg3ararvw6rrmZdep0+vLei9VVdqa8SIXbbhX8+vaFCmT8+3LsnYdbvudKmR8+KbqsCRvJo58l6Z1+tIcuY3VrG9Dq9Lly5841vncvr4U1m/vo5jxxzHHnsM5rprJwHw8bEncMj7DuWemXdzzJGH0717D773/f/dUH/16tXcf++9G52RcsnPfsqCBc9QUyN23rk/3z7v/DZ9X1ZZ6wOufnAxXz10EDU1MGv+yyxe8SaH7b49AHf95yWGD9iaAwdtR936YE1d8Kt7n9tQ/3PvHchefbai5xZd+OlH9uLmR5cya/7LjTVnqY6YMsmrKqcfphcCXRgRX2vtNjrj6Ye26TaH0w+t5Spx+uHs+a/mjjkH7LZNh4r6FR+RS+qSntS+f6W3bWZWNR0qNLdMNVIr/wT2B+ZImgpcD7xWvzIibqpCm2Zmm6TITwiqZo58e+BF4P28dT55kNxfwMysQylwirwqgbyPpK8Aj/JWAK/nvLeZdUgO5A3VAj1p5X11zczag1MrDf03IjrnHZvMrNPyiLyhAv84zGxzVeTAVY1A/oEqbNPMrLoKHMkrHsgj4qVKb9PMrNqKnCNvs5tmmZl1ZC15+HJzJI2S9JSkeZLOKbN+L0n3SXpT0lkl6xZImitpjqQH8vS9mueRm5kVR4UG5OktSi4DDid5mPJsSVMj4vFMsZeALwLHNrKZkRHxQt42PSI3MyNJreT914wRwLyImB8Ra4DJwOhsgYhYFhGzgbXlNtBSDuRmZrTsUW/ZZyekU/a+2/2BhZn5RemyvAK4XdKDJdttlFMrZma0LLMSEROBxp5+s6kXQx4UEYsl9QH+KunJiJjZVAWPyM3MoJIPllgEDMzMDwAW5+1GRCxO/18GTCFJ1TTJgdzMjIo+s3M2MFjSIEndgHHA1Dx9kLSVpF71r4EjSO5b1SSnVszMqNz1QOnzGM4AppPce+rKiHhM0mnp+gmSdgIeALYG1kv6MjAE6A1MSR+43gW4JiJua65NB3IzM6jolZ0RMQ2YVrJsQub1EpKUS6kVwNCWtudAbmZGsa/sdCA3M8N3PzQzKzwHcjOzgnNqxcys4DwiNzMruALHcQdyMzOg0JHcgdzMDOfIzcwKL88DIzoqB3IzM3yw08ysEyhuJHcgNzPDI3Izs8IrcBx3IDczA4/IzcwKTwWO5H5CkJkZlXzSG0gaJekpSfMknVNm/V6S7pP0pqSzWlK3HI/IzcyoXGpFUi1wGXA4yfM7Z0uaGhGPZ4q9BHwROLYVdTfiEbmZGcmVnXn/NWMEMC8i5kfEGmAyMDpbICKWRcRsYG1L65bjQG5mBpXMrfQHFmbmF6XL8mhVXQdyMzOSS/TzTpLGS3ogM43PbKpcqI+c3WhVXefIzcxo2U2zImIiMLGR1YuAgZn5AcDinJtuVV2PyM3MSA525p2aMRsYLGmQpG7AOGBqzm60qq5H5GZmFRQR6ySdAUwHaoErI+IxSael6ydI2gl4ANgaWC/py8CQiFhRrm5zbTqQm5lR2Ss7I2IaMK1k2YTM6yUkaZNcdZvjQG5mhh8sYWZWeH6whJlZ0TmQm5kVm1MrZmYFV+CbHzqQm5lBoTMrDuRmZkChI7kDuZkZUFPg3Ioi8t7LxdqLpPHpvR3MNvDnwur5XivFML75IrYZ8ufCAAdyM7PCcyA3Mys4B/JicB7UyvHnwgAf7DQzKzyPyM3MCs6B3Mys4HxBUDuRVAfMzSw6NiIWNFJ2VUT0bJOOWbuStAMwI53dCagDlqfzIyJiTbt0zDo058jbSUuCswP55knSd4FVEfGTzLIuEbGu/XplHZFTKx2EpJ6SZkh6SNJcSaPLlNlZ0kxJcyQ9KumQdPkRku5L614vyUG/E5H0W0k/k3QncJGk70o6K7P+UUlvS19/QtI/08/IryXVtle/re04kLefHukf2xxJU4A3gDERsT8wEviptNHNH04EpkfEMGAoMEdSb+DbwAfTug8AX2mzd2FtZU+S3/FXGysg6R3AWOCg9DNSB5zUNt2z9uQceftZnf6xASCpK/C/kt4HrAf6A32BJZk6s4Er07I3R8QcSYcCQ4C/p3G/G3Bf27wFa0PXR0RdM2U+ALwLmJ1+FnoAy6rdMWt/DuQdx0nAjsC7ImKtpAVA92yBiJiZBvqjgT9I+jHwMvDXiDihrTtsbeq1zOt1NNybrv+cCPhdRHyjzXplHYJTKx3HNsCyNIiPBHYtLSBp17TM5cBvgP2B+4GDJO2RltlS0p5t2G9rewtIfvdI2h8YlC6fARwvqU+6bvv0M2OdnEfkHcfVwC2SHgDmAE+WKXMY8DVJa4FVwMkRsVzSKcAkSVuk5b4NPF31Hlt7uRE4WdIcknTb0wAR8bikbwO3S6oB1gKfB55tr45a2/Dph2ZmBefUiplZwTmQm5kVnAO5mVnBOZCbmRWcA7mZWcE5kJuZFZwDuZlZwTmQm5kVnAO5mVnBOZCbmRWcA7mZWcE5kJuZFZwDuZlZwTmQm5kVnAO5mVnBOZCbmRWcA7k1IKlO0hxJj0q6XtKWm7Ct30o6Pn19haQhTZQ9TNKBrWhjgaTeZdr9XMmyYyVNy9NXs6JxILdSqyNiWES8E1gDnJZdKam2NRuNiFMj4vEmihwGtDiQN2ISMK5k2bh0uVmn40BuTZkF7JGOlu+UdA0wV1KtpB9Lmi3pkfrRrxKXSnpc0q1An/oNSbpL0vD09ShJD0l6WNIMSW8j+cI4M90bOETSjpJuTNuYLemgtO4Okm6X9C9JvyZ5cnypvwF7Sdo5rbMl8EHgZknnptt7VNJESRvVz47yJQ2XdFf6eitJV6b1/yVpdLp8b0n/TPv+iKTBlfjhm+XlQG5lSeoCHAnMTReNAL4VEUOAzwCvRsQBwAHAZyUNAsYAbwf2AT5LmRG2pB2By4HjImIo8LGIWABMAP4v3RuYBVySzh8AHAdckW7iPOCeiNgPmArsUtpGRNQBNwEfTxd9BLgzIlYCl0bEAekeRw/gmBb8WL4F3JH2aSTwY0lbkXwJXRIRw4DhwKIWbNNsk3Vp7w5Yh9MjfTo7JCPy35AE5H9GxDPp8iOAfTM55W2AwcD7gElpIF0s6Y4y238PMLN+WxHxUiP9+CAwJDNg3lpSr7SNj6Z1b5X0ciP1JwE/JvlCGAf8Pl0+UtLXgS2B7YHHgFsa2UapI4CPSDorne9O8kVyH/AtSQOAmyLi3zm3Z1YRDuRWanU6stwgDaavZRcBX4iI6SXljgKime0rRxlI9hbfGxGry/QlT/2/AztLGkryRTROUnfgl8DwiFgo6bskwbjUOt7aW82uF8mexFMl5Z+Q9A/gaGC6pFMjotyXmFlVOLVirTEdOF1SVwBJe6YphpkkAbM2zU+PLFP3PuDQNBWDpO3T5SuBXplytwNn1M9IGpa+nAmclC47EtiuXAcjIoDrgN8B0yLiDd4Kyi9I6gk0dpbKAuBd6evjSt73F+rz6pL2S//fDZgfET8nSffs28h2zarCgdxa4wrgceAhSY8CvybZu5sC/Jskr/4r4O7SihGxHBgP3CTpYeDadNUtwJj6g53AF4Hh6cHDx3nr7JnzgfdJeogk1fFcE/2cBAwFJqdtv0KSn58L3AzMbqTe+cAlkmYBdZnlFwBdgUfS931Bunws8GiaktqLt9I4Zm1CycDFzMyKyiNyM7OCcyA3Mys4B3Izs4JzIDczKzgHcjOzgnMgNzMrOAdyM7OCcyA3Myu4/w+o6VaiY/OQvAAAAABJRU5ErkJggg==\n",
      "text/plain": [
       "<Figure size 432x288 with 2 Axes>"
      ]
     },
     "metadata": {
      "needs_background": "light"
     },
     "output_type": "display_data"
    }
   ],
   "source": [
    "cf_matrix2=confusion_matrix(test_target,test_pred2)\n",
    "ax = sns.heatmap(cf_matrix2/np.sum(cf_matrix2), annot=True, cmap='Blues')\n",
    "\n",
    "ax.set_title('Seaborn Confusion Matrix with labels\\n\\n');\n",
    "ax.set_xlabel('\\nPredicted Values')\n",
    "ax.set_ylabel('Actual Values ');\n",
    "\n",
    "## Ticket labels - List must be in alphabetical order\n",
    "ax.xaxis.set_ticklabels(['False','True'])\n",
    "ax.yaxis.set_ticklabels(['False','True'])\n",
    "\n",
    "## Display the visualization of the Confusion Matrix.\n",
    "plt.show()"
   ]
  },
  {
   "cell_type": "markdown",
   "metadata": {},
   "source": [
    "# Random Forest Classifier"
   ]
  },
  {
   "cell_type": "code",
   "execution_count": 72,
   "metadata": {},
   "outputs": [],
   "source": [
    "from sklearn.ensemble import RandomForestClassifier"
   ]
  },
  {
   "cell_type": "code",
   "execution_count": 73,
   "metadata": {},
   "outputs": [],
   "source": [
    "def test_params(**params):\n",
    "    model = RandomForestClassifier(random_state=42, n_jobs=-1, **params).fit(train_inputs, train_target)\n",
    "    train_acc =model.score(train_inputs, train_target)\n",
    "    test_acc =model.score(test_inputs, test_target)\n",
    "    return train_acc, test_acc"
   ]
  },
  {
   "cell_type": "code",
   "execution_count": 74,
   "metadata": {},
   "outputs": [],
   "source": [
    "def test_param_and_plot(param_name, param_values):\n",
    "    train_accs, test_accs = [], [] \n",
    "    for value in param_values:\n",
    "        params = {param_name: value}\n",
    "        train_acc, test_acc = test_params(**params)\n",
    "        train_accs.append(train_acc)\n",
    "        test_accs.append(test_acc)\n",
    "    plt.figure(figsize=(10,6))\n",
    "    plt.title('Overfitting curve: ' + param_name)\n",
    "    plt.plot(param_values, train_accs, 'b-o')\n",
    "    plt.plot(param_values, test_accs, 'r-o')\n",
    "    plt.xlabel(param_name)\n",
    "    plt.ylabel('Accuracy')\n",
    "    plt.legend(['Training', 'Testing'])"
   ]
  },
  {
   "cell_type": "code",
   "execution_count": 75,
   "metadata": {},
   "outputs": [],
   "source": [
    "rf_model = RandomForestClassifier(random_state=42, n_jobs=-1)"
   ]
  },
  {
   "cell_type": "code",
   "execution_count": 76,
   "metadata": {},
   "outputs": [
    {
     "data": {
      "text/plain": [
       "RandomForestClassifier(n_jobs=-1, random_state=42)"
      ]
     },
     "execution_count": 76,
     "metadata": {},
     "output_type": "execute_result"
    }
   ],
   "source": [
    "rf_model.fit(train_inputs,train_target)"
   ]
  },
  {
   "cell_type": "code",
   "execution_count": 77,
   "metadata": {},
   "outputs": [
    {
     "data": {
      "text/plain": [
       "1.0"
      ]
     },
     "execution_count": 77,
     "metadata": {},
     "output_type": "execute_result"
    }
   ],
   "source": [
    "rf_model.score(train_inputs,train_target)"
   ]
  },
  {
   "cell_type": "code",
   "execution_count": 78,
   "metadata": {},
   "outputs": [
    {
     "data": {
      "text/plain": [
       "0.9097152668479038"
      ]
     },
     "execution_count": 78,
     "metadata": {},
     "output_type": "execute_result"
    }
   ],
   "source": [
    "rf_model.score(test_inputs,test_target)"
   ]
  },
  {
   "cell_type": "code",
   "execution_count": 79,
   "metadata": {},
   "outputs": [],
   "source": [
    "model_accuracy['RandomForestClassifier Before Tuning']=round((rf_model.score(test_inputs,test_target))*100,2)"
   ]
  },
  {
   "cell_type": "code",
   "execution_count": 80,
   "metadata": {},
   "outputs": [
    {
     "data": {
      "image/png": "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\n",
      "text/plain": [
       "<Figure size 432x288 with 2 Axes>"
      ]
     },
     "metadata": {
      "needs_background": "light"
     },
     "output_type": "display_data"
    }
   ],
   "source": [
    "rf_model_pred=rf_model.predict(test_inputs)\n",
    "\n",
    "rf_cf_matrix=confusion_matrix(test_target,rf_model_pred)\n",
    "ax = sns.heatmap(rf_cf_matrix/np.sum(rf_cf_matrix), annot=True, cmap='Blues')\n",
    "\n",
    "ax.set_title('Seaborn Confusion Matrix with labels\\n\\n');\n",
    "ax.set_xlabel('\\nPredicted Values')\n",
    "ax.set_ylabel('Actual Values ');\n",
    "\n",
    "## Ticket labels - List must be in alphabetical order\n",
    "ax.xaxis.set_ticklabels(['False','True'])\n",
    "ax.yaxis.set_ticklabels(['False','True'])\n",
    "\n",
    "## Display the visualization of the Confusion Matrix.\n",
    "plt.show()"
   ]
  },
  {
   "cell_type": "code",
   "execution_count": 81,
   "metadata": {},
   "outputs": [],
   "source": [
    "train_inputs_df=pd.DataFrame(train_inputs, columns=['Vmag', 'Plx', 'e_Plx', 'B-V', 'SpType', 'Amag'])"
   ]
  },
  {
   "cell_type": "code",
   "execution_count": 82,
   "metadata": {},
   "outputs": [
    {
     "data": {
      "image/png": "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\n",
      "text/plain": [
       "<Figure size 432x288 with 1 Axes>"
      ]
     },
     "metadata": {
      "needs_background": "light"
     },
     "output_type": "display_data"
    }
   ],
   "source": [
    "importance_df = pd.DataFrame({\n",
    "    'feature': train_inputs_df.columns,\n",
    "    'importance': rf_model.feature_importances_\n",
    "}).sort_values('importance', ascending=False)\n",
    "plt.title('Feature Importance')\n",
    "sns.barplot(data=importance_df.head(10), x='importance', y='feature');"
   ]
  },
  {
   "cell_type": "markdown",
   "metadata": {},
   "source": [
    "# Hyper Parameters Tuning of RandomForest Classifier"
   ]
  },
  {
   "cell_type": "code",
   "execution_count": 83,
   "metadata": {},
   "outputs": [
    {
     "data": {
      "image/png": "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\n",
      "text/plain": [
       "<Figure size 720x432 with 1 Axes>"
      ]
     },
     "metadata": {
      "needs_background": "light"
     },
     "output_type": "display_data"
    }
   ],
   "source": [
    "test_param_and_plot('max_features', [1,2,3,4,5,6])"
   ]
  },
  {
   "cell_type": "code",
   "execution_count": 84,
   "metadata": {},
   "outputs": [
    {
     "data": {
      "text/plain": [
       "(1.0, 0.9446272714265274)"
      ]
     },
     "execution_count": 84,
     "metadata": {},
     "output_type": "execute_result"
    }
   ],
   "source": [
    "test_params(max_features=5)"
   ]
  },
  {
   "cell_type": "code",
   "execution_count": 85,
   "metadata": {},
   "outputs": [
    {
     "data": {
      "text/plain": [
       "(1.0, 0.9483474030619545)"
      ]
     },
     "execution_count": 85,
     "metadata": {},
     "output_type": "execute_result"
    }
   ],
   "source": [
    "test_params(max_features=6)"
   ]
  },
  {
   "cell_type": "markdown",
   "metadata": {},
   "source": [
    "max_features parameter can be fixed at 6 as it gives higer accuracy"
   ]
  },
  {
   "cell_type": "code",
   "execution_count": 86,
   "metadata": {},
   "outputs": [
    {
     "data": {
      "image/png": "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\n",
      "text/plain": [
       "<Figure size 720x432 with 1 Axes>"
      ]
     },
     "metadata": {
      "needs_background": "light"
     },
     "output_type": "display_data"
    }
   ],
   "source": [
    "test_param_and_plot('n_estimators', [50,100,200,250])"
   ]
  },
  {
   "cell_type": "code",
   "execution_count": 87,
   "metadata": {},
   "outputs": [
    {
     "data": {
      "text/plain": [
       "(1.0, 0.9097152668479038)"
      ]
     },
     "execution_count": 87,
     "metadata": {},
     "output_type": "execute_result"
    }
   ],
   "source": [
    "test_params(n_estimators=100)"
   ]
  },
  {
   "cell_type": "markdown",
   "metadata": {},
   "source": [
    "n_estimators parameter can be fixed at 100 as it gives higer accuracy"
   ]
  },
  {
   "cell_type": "code",
   "execution_count": 88,
   "metadata": {},
   "outputs": [
    {
     "data": {
      "image/png": "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\n",
      "text/plain": [
       "<Figure size 720x432 with 1 Axes>"
      ]
     },
     "metadata": {
      "needs_background": "light"
     },
     "output_type": "display_data"
    }
   ],
   "source": [
    "test_param_and_plot('max_depth', [8,12,16,32,40,64,100])"
   ]
  },
  {
   "cell_type": "code",
   "execution_count": 89,
   "metadata": {},
   "outputs": [
    {
     "data": {
      "text/plain": [
       "(1.0, 0.9097152668479038)"
      ]
     },
     "execution_count": 89,
     "metadata": {},
     "output_type": "execute_result"
    }
   ],
   "source": [
    "test_params(max_depth=36)"
   ]
  },
  {
   "cell_type": "code",
   "execution_count": 90,
   "metadata": {},
   "outputs": [
    {
     "data": {
      "text/plain": [
       "(1.0, 0.9097152668479038)"
      ]
     },
     "execution_count": 90,
     "metadata": {},
     "output_type": "execute_result"
    }
   ],
   "source": [
    "test_params(max_depth=100)"
   ]
  },
  {
   "cell_type": "markdown",
   "metadata": {},
   "source": [
    "max_depth parameter can be fixed at 36 as it gives higer accuracy"
   ]
  },
  {
   "cell_type": "code",
   "execution_count": 91,
   "metadata": {},
   "outputs": [
    {
     "data": {
      "image/png": "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\n",
      "text/plain": [
       "<Figure size 720x432 with 1 Axes>"
      ]
     },
     "metadata": {
      "needs_background": "light"
     },
     "output_type": "display_data"
    }
   ],
   "source": [
    "test_param_and_plot('min_samples_split', [2,4,6,8,14])"
   ]
  },
  {
   "cell_type": "code",
   "execution_count": 92,
   "metadata": {},
   "outputs": [
    {
     "data": {
      "text/plain": [
       "(1.0, 0.9097152668479038)"
      ]
     },
     "execution_count": 92,
     "metadata": {},
     "output_type": "execute_result"
    }
   ],
   "source": [
    "test_params(min_samples_split=2)"
   ]
  },
  {
   "cell_type": "code",
   "execution_count": 93,
   "metadata": {},
   "outputs": [
    {
     "data": {
      "text/plain": [
       "(0.9988347132781356, 0.9084275289741022)"
      ]
     },
     "execution_count": 93,
     "metadata": {},
     "output_type": "execute_result"
    }
   ],
   "source": [
    "test_params(min_samples_split=4)"
   ]
  },
  {
   "cell_type": "markdown",
   "metadata": {},
   "source": [
    "min_samples_split parameter can be fixed at 2 as it gives higer accuracy"
   ]
  },
  {
   "cell_type": "code",
   "execution_count": 94,
   "metadata": {},
   "outputs": [
    {
     "data": {
      "text/plain": [
       "1.0"
      ]
     },
     "execution_count": 94,
     "metadata": {},
     "output_type": "execute_result"
    }
   ],
   "source": [
    "#final model after hyper parameter tuning\n",
    "\n",
    "rf_model_final=RandomForestClassifier(n_estimators=100, n_jobs=-1, random_state=42, max_depth=36, min_samples_split=2, max_features=6)\n",
    "rf_model_final.fit(train_inputs,train_target)\n",
    "rf_model_final.score(train_inputs, train_target)"
   ]
  },
  {
   "cell_type": "code",
   "execution_count": 95,
   "metadata": {},
   "outputs": [
    {
     "data": {
      "text/plain": [
       "0.9483474030619545"
      ]
     },
     "execution_count": 95,
     "metadata": {},
     "output_type": "execute_result"
    }
   ],
   "source": [
    "rf_model_final.score(test_inputs,test_target)"
   ]
  },
  {
   "cell_type": "code",
   "execution_count": 96,
   "metadata": {},
   "outputs": [],
   "source": [
    "model_accuracy['RandomForestClassifier After Tuning']=round((rf_model_final.score(test_inputs,test_target))*100,2)"
   ]
  },
  {
   "cell_type": "code",
   "execution_count": 97,
   "metadata": {},
   "outputs": [
    {
     "data": {
      "image/png": "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\n",
      "text/plain": [
       "<Figure size 432x288 with 2 Axes>"
      ]
     },
     "metadata": {
      "needs_background": "light"
     },
     "output_type": "display_data"
    }
   ],
   "source": [
    "rf_model_pred2=rf_model_final.predict(test_inputs)\n",
    "\n",
    "rf_cf_matrix2=confusion_matrix(test_target,rf_model_pred2)\n",
    "ax = sns.heatmap(rf_cf_matrix2/np.sum(rf_cf_matrix2), annot=True, cmap='Blues')\n",
    "\n",
    "ax.set_title('Seaborn Confusion Matrix with labels\\n\\n');\n",
    "ax.set_xlabel('\\nPredicted Values')\n",
    "ax.set_ylabel('Actual Values ');\n",
    "\n",
    "## Ticket labels - List must be in alphabetical order\n",
    "ax.xaxis.set_ticklabels(['False','True'])\n",
    "ax.yaxis.set_ticklabels(['False','True'])\n",
    "\n",
    "## Display the visualization of the Confusion Matrix.\n",
    "plt.show()"
   ]
  },
  {
   "cell_type": "markdown",
   "metadata": {},
   "source": [
    "# Gradient Boosting Machines with XGBoost"
   ]
  },
  {
   "cell_type": "code",
   "execution_count": 98,
   "metadata": {},
   "outputs": [
    {
     "name": "stdout",
     "output_type": "stream",
     "text": [
      "Requirement already satisfied: xgboost in d:\\astro-pro\\lib\\site-packages (1.6.2)\n",
      "Requirement already satisfied: numpy in d:\\astro-pro\\lib\\site-packages (from xgboost) (1.21.5)\n",
      "Requirement already satisfied: scipy in d:\\astro-pro\\lib\\site-packages (from xgboost) (1.7.3)\n",
      "Note: you may need to restart the kernel to use updated packages.\n"
     ]
    }
   ],
   "source": [
    "pip install xgboost\n"
   ]
  },
  {
   "cell_type": "code",
   "execution_count": 99,
   "metadata": {},
   "outputs": [],
   "source": [
    "from xgboost import XGBClassifier"
   ]
  },
  {
   "cell_type": "code",
   "execution_count": 100,
   "metadata": {},
   "outputs": [],
   "source": [
    "xgb_model=XGBClassifier(learning_rate=0.1)"
   ]
  },
  {
   "cell_type": "code",
   "execution_count": 101,
   "metadata": {},
   "outputs": [
    {
     "data": {
      "text/plain": [
       "XGBClassifier(base_score=0.5, booster='gbtree', callbacks=None,\n",
       "              colsample_bylevel=1, colsample_bynode=1, colsample_bytree=1,\n",
       "              early_stopping_rounds=None, enable_categorical=False,\n",
       "              eval_metric=None, gamma=0, gpu_id=-1, grow_policy='depthwise',\n",
       "              importance_type=None, interaction_constraints='',\n",
       "              learning_rate=0.1, max_bin=256, max_cat_to_onehot=4,\n",
       "              max_delta_step=0, max_depth=6, max_leaves=0, min_child_weight=1,\n",
       "              missing=nan, monotone_constraints='()', n_estimators=100,\n",
       "              n_jobs=0, num_parallel_tree=1, predictor='auto', random_state=0,\n",
       "              reg_alpha=0, reg_lambda=1, ...)"
      ]
     },
     "execution_count": 101,
     "metadata": {},
     "output_type": "execute_result"
    }
   ],
   "source": [
    "xgb_model.fit(train_inputs,train_target)"
   ]
  },
  {
   "cell_type": "code",
   "execution_count": 102,
   "metadata": {},
   "outputs": [
    {
     "data": {
      "text/plain": [
       "0.9709291628334866"
      ]
     },
     "execution_count": 102,
     "metadata": {},
     "output_type": "execute_result"
    }
   ],
   "source": [
    "xgb_model.score(train_inputs,train_target)"
   ]
  },
  {
   "cell_type": "code",
   "execution_count": 103,
   "metadata": {},
   "outputs": [
    {
     "data": {
      "text/plain": [
       "0.9537845185291172"
      ]
     },
     "execution_count": 103,
     "metadata": {},
     "output_type": "execute_result"
    }
   ],
   "source": [
    "xgb_model.score(test_inputs,test_target)"
   ]
  },
  {
   "cell_type": "code",
   "execution_count": 104,
   "metadata": {},
   "outputs": [],
   "source": [
    "model_accuracy['XGBCLassifier Before Tuning']=round((xgb_model.score(test_inputs,test_target))*100,2)"
   ]
  },
  {
   "cell_type": "code",
   "execution_count": 105,
   "metadata": {},
   "outputs": [
    {
     "data": {
      "image/png": "iVBORw0KGgoAAAANSUhEUgAAAWsAAAFACAYAAAB6LV2NAAAAOXRFWHRTb2Z0d2FyZQBNYXRwbG90bGliIHZlcnNpb24zLjUuMSwgaHR0cHM6Ly9tYXRwbG90bGliLm9yZy/YYfK9AAAACXBIWXMAAAsTAAALEwEAmpwYAAApq0lEQVR4nO3deZxd8/3H8dd7JolEYs0yQSKNJEosQVG7xFZ77GspRdCfKqpFdUFpLb/2R6uloZa2KqgiiEarCGqJJRKxNUgkyCJCFolMJp/fH+dM3ExmuZPc7STvZx73kXvO+d7v+dyZO5/7PZ+zKSIwM7PKVlXuAMzMrGVO1mZmGeBkbWaWAU7WZmYZ4GRtZpYBTtZmZhngZF1Aki6R9Jdyx1EMkg6VNFnSXElbr0A/4yUNLFxkpSdpV0lvFXkdcyVt1MzyiZL2yrOvkyQ9nWfb5f4Mr8yf/0qwSiZrSbtI+o+kzyR9IukZSduVO64VJWk9SX+U9JGkOZLelHSppI4F6P5/gbMiolNEvLK8nUTEZhHxRAHiWYqkJySFpAEN5t+fzh+YZz8hqW9zbSLiqYj46vJH27L05/xuGtNtki4v5vqs8q1yyVrSmsBDwG+BdYENgEuBL8oZV0OSqlvZfl3gWaADsGNErAHsDawN9ClASL2A8QXop5jeBk6sn5DUGdgBmFGoFUhqU6i+zFpjlUvWwMYAEXFnRNRFxPyIeDQixtY3kPRtSW9ImiVppKReOcuuS8sBsyW9JGnXBv23l3RXOrJ9OXekJ2nTdAT4aVoOODhn2W2SbpA0QtI8YFC6qXu+pLHpVsBdkto38b7OA+YA34yIiel7nBwR36t/b5J2kjQ67Wu0pJ1y1v+EpJ+nWxlzJD0qqYuk1STNBaqBVyW9k7ZfagSaO/pLX/dQ+j4/kfSUpKp02ZLN97TvayV9mD6ulbRaumygpCmSvi9perq1cHILv9s7gKNzvuiOBe4DFubEub2kZ9PYPpJ0vaR26bJRabNX0zLE0TlxXCBpKnBr/bz0NX3S97hNOr2+pI8bG8lLOlnSgznTEyTdnTM9WdJWuT9fSUOA44EfpjE9mNPlVnl+NhrGsSKf4fUl3StphqT3JJ3dxDraS/qLpJnpz3q0pJp84rPGrYrJ+m2gTtLtkvaTtE7uQkmHAD8CDgO6Ak8Bd+Y0GQ1sRTIq/ytwT4M/ksHAPTnL75fUVlJb4EHgUaAb8F3gDkm5m9PHAVcAawD1NcajgH2B3sCWwElNvK+9gL9HxOLGFioZeT8M/AboDPwaeFjJ6DN3/Sen8bUDzo+ILyKiU7p8QETkM0r/PjCF5OdXQ/LzbOy6BheTjHy3AgYA2wM/zlneHViLZOvnFOB3DX9fDXwIvA7sk06fCPypQZs64FygC7AjsCfwHYCI2C1tMyAtQ9yVE8e6JFsXQ3I7i4h3gAtIfperA7cCtzVR6nkS2FVSlaT1gLbAzgBK6tOdgLG5L4iIoSRfQlenMR2Uszjfz0ZDy/sZriL5DL9K8jvZEzhH0jcaWce3SH53PUk+b2cA8/OMzxqxyiXriJgN7EKSPG4CZkganvOtfzrwy4h4IyIWAb8gGcH0Sl//l4iYGRGLIuJXwGpAbsJ9KSL+FhG1JAmxPUlC2oHkj/HKiFgYEf8mKcccm/PaByLimYhYHBEL0nm/iYgPI+ITkj+UrZp4a52Bj5p56wcA/42IP6ex3wm8CeT+8d8aEW9HxHzg7mbW1ZJaYD2gV0TUpjXexpL18cBlETE9ImaQlKNOaNDPZWkfI4C5LP2zbsyfgBPTL8G1I+LZ3IUR8VJEPJf+DCYCfwB2b6HPxcDP0i+uZRJORNwE/Bd4Pn3fFzfWSVqDnkPyc90dGAl8IGmTdPqppr5sm5DvZ6NhHMv7Gd4O6BoRl6Wf4XdJ/oaOaWQ1tSSfyb7pFuxL6d+eLadVLlkDpIn4pIjoAWwOrA9cmy7uBVyXbrp9CnwCiGQkQbpZ/ka66fkpyeihS073k3PWs5hkhLl++pjc4I9xUn2/DV+bY2rO889JEn5jZpIkiqasn64vV8P157uullwDTAAelfSupAvzjGlSOq/ezPQLszUx/R3Yg2TL5c8NF0raOC3RTJU0m+TLuEvDdg3MyPnybMpNJJ+l30ZEc/s/ngQGArulz58gSdS7p9OtsVy/rxX4DPcC1q//20hf+yOSraeG/kzyZTQsLXFdnW5d2nJaJZN1roh4E7iN5A8Nkg/q6RGxds6jQ0T8J63tXUCy+blORKwNfEaSzOv1rH+Sbjb2INk8/xDoWV+7TW0IfJAbzgq8lX8BhzboP9eHJH9suRquvzU+B1bPme5e/yQi5kTE9yNiI5KR+3mS9swjpg3TecstIj4HHgHOpJFkDdxAskXRLyLWJEk2aqTdUt02t1BSJ5Iv+z8Cl6Qlp6bUJ+td0+dP0nKyLtilMVfwMzwZeK/B38YaEbH/MgEnW0OXRkR/YCfgQHJ2/lrrrXLJWtIm6ciiRzrdk6QU8Vza5EbgIkmbpcvXknRkumwNYBHJ0QVtJP0UWLPBKr4m6TAlRw2cQ3KUyXMkm8jzSHYUtU13QB0EDCvQW/t1Gsvt9SUbSRtI+rWkLYERwMaSjpPURtLRQH+SUszyGAMcJ6la0r7klBIkHZjuHBMwm6ROXNdIH3cCP5bUVVIX4KdAIY7T/RGwe/2O1gbWSGOam5YfzmywfBrQ5PHNTbiOpHRwKsl+gRubafskMAjoEBFTSPaJ7EtSMmjqkMjliakpK/IZfgGYrWRna4f0d7+5GjnsVdIgSVso2dk7m6Qs0thnwPK0yiVrkprh14HnlRx18RzwGslOMSLiPuAqks232emy/dLXjiQZtb1Nssm+gGVLFw8ARwOzSOqvh6WjjIXAwWlfHwO/B05MR/YrLK1b7kTyR/G8pDnAYySjpgkRMZNkdPN9kpLJD4EDI+Lj5Vzl90i+bD4lqT3fn7OsH8lIfy7J4YS/b2KH2+XAiyQ71cYBL6fzVkhax23qJJDzSXakziEpXdzVYPklJF94n0o6qqV1SRpMkmzPSGedB2wj6fgmYnub5OfyVDo9G3gXeCYimkpmfwT6pzHd31JMLViRz3Adye98K+A9ks/xzSRllIa6A38jSdRvkHxJ+YSZFaDG9/uYmVklWRVH1mZmmeNkbWaWAU7WZmYZ4GRtZpYBTtZmZhngZG1mlgFO1mZmGeBkbWaWAU7WZmYZ4GRtZpYBTtZmZhngZG1mlgFO1mZmGeBkbWaWAU7WZmYZ4GRtZpYBTtZmZhngZG1mlgFO1mZmGeBkbWaWAU7WZmYZ4GRtZpYBTtZmZhngZG1mlgFO1mZmGeBkbWaWAU7WZmYZ4GRtZpYBTtZmZhngZG1mlgFO1mZmGeBkbWaWAU7WZmYZ4GRtZpYBTtZmZhnQptwBNKXD1mdFuWOwyjPz+d+WOwSrQKu3k1a0j9bknPmvXL/C62utik3WZmYlVVVd7gia5WRtZgagyq4KO1mbmQGseCWlqJyszczAI2szs0zwyNrMLAM8sjYzywAfDWJmlgEug5iZZYDLIGZmGeCRtZlZBnhkbWaWAU7WZmYZUO2jQczMKp9r1mZmGeAyiJlZBnhkbWaWAR5Zm5llgE83NzPLAJdBzMwywGUQM7MM8MjazCwDPLI2M8sAJ2szswzw0SBmZhngmrWZWQa4DGJmlgEeWZuZVT45WZuZVT5VOVmbmVW8Sh9ZV3ZF3cysRCTl/cijr30lvSVpgqQLG1k+UNJnksakj5+21KdH1mZmFG5kLaka+B2wNzAFGC1peES83qDpUxFxYL79emRtZkZBR9bbAxMi4t2IWAgMAwavaHxO1mZmAMr/IWmIpBdzHkNyetoAmJwzPSWd19COkl6V9IikzVoKz2UQMzOgqir/sWtEDAWGNrG4saF3NJh+GegVEXMl7Q/cD/RrNr68ozMzW4kVsAwyBeiZM90D+DC3QUTMjoi56fMRQFtJXZrr1MnazIyCJuvRQD9JvSW1A44BhjdYV3elHUnaniQXz2yuU5dBzMyg8eLFcoiIRZLOAkYC1cAtETFe0hnp8huBI4AzJS0C5gPHRETDUslSnKzNzCjsSTFpaWNEg3k35jy/Hri+NX06WZuZUflnMDpZm5nha4OYmWWCR9ZmZhlQ6cm6qIfuSVpd0k8k3ZRO95OU97nwZmalUsgLORVDsY+zvhX4AtgxnZ4CXF7kdZqZtdqqnqz7RMTVQC1ARMynYEczmpkVjqqU96Mcil2zXiipA+l58ZL6kIy0zcwqSqXXrIudrH8G/APoKekOYGfgpCKv08ys1VbpZB0R/5T0MrADSfnjexHxcTHXaWa2XCo7Vxf9aJCdgQUR8TCwNvAjSb2Kuc6s2XunTXn1vp/w2gM/4/yT915m+a5f68fUUdfw3LALeW7YhVw0ZN8ly/7n2IG8eM+PeOlvF3PWcQNLGLUV2jNPP8UhB+3Lwfvvwy03L3vlzYjgql9ezsH778NRhx3MG6+PB2Dq1I847dsnctjB+3P4IQfy17/8aanX3XnHnznkoH05/JADufbX15TkvWRVpe9gLHYZ5AZggKQBwA+AW4A/AbsXeb2ZUFUlrr3wKA4483o+mPYpT9/xAx56chxvvjt1qXbPvPIOh3/vxqXm9e+zHicfthO7nnANC2vrGP677/DI0+N55/0ZpXwLVgB1dXVcecVl3DD0Fmq613D8MUey+6A96NOn75I2Tz81ivcnTeKBh0cybuyr/OLyS/nzX++murqa886/gE37b8a8eXM57ujD+fqOO9GnT19Gv/AcTzz+b+6+dzjt2rXjk5nNXtRtlVfpZZBiHw2yKL2S1GDgNxFxHbBGkdeZGdtt/hXemfwxEz+YSe2iOu4Z+TIHDtwyr9du0rs7L4ybyPwFtdTVLeaplyYweNCAIkdsxfDauLH03HBDevTsSdu27fjGfvvzxOOPLdXmyccf48CDByOJLQdsxZw5s5kxYzpdu3Zj0/7JTUY6duxE7959mDFtGgD33DWMk085jXbt2gGwbufOpX1jGVNVVZX3oyzxFbn/OZIuAr4JPJzeSLJtkdeZGet3W4sp02Ytmf5g2iw26LrWMu2+vmVvnr/rQu6//kw23ag7AOPf+ZBdtunLumt1pEP7tuy7y2b06L5OyWK3wpk+fRo13ddbMl1T031Jws1t071Bm+nTl27z4QdTeOvNN9h8y+RLe9Kkibzy8ouccNxRnHLSNxn/2rgivouVQCtu61UOxS6DHA0cB5wSEVMlbQg0WThL72M2BKBNj4G06dLibckyTY381hte0HbMm5P56v4/Yd78hXxjl/7c/X9D2GLwZbz13jR+dds/eeiGs5g3/wvGvv0BixbVlSZwK6zGrmLcYJO8sSsd535+Pv98HuefezbnX3ARnTp1ApLyyuzZs/nTHXcx/rVx/PD8c3jokX9V/OZ+uVT6z6WoI+uImBoRv46Ip9Lp9yPiT820HxoR20bEtit7ogb4YPqn9Kj5cjS8Qc06fDjjs6XazJm3gHnzFwIw8unXadumms5rdwTg9vufZafjrmLvU65l1mfzmOB6dSZ1q6lh2tSPlkxPmzaVrt26LdWmpqaGqU20qa2t5fxzz2a/Aw5iz732Weo1e+61N5LYfIstqVIVs2bNwhpX6TsYi5KsJc2RNLuRxxxJs4uxzix6cfwk+m7YlV7rd6Ztm2qO/MY2PPzE2KXa1HT+ssS/7Wa9qJKY+ek8ALquk4ygenZfh8F7DODuf7xYuuCtYDbbfAvenzSJD6ZMobZ2ISMfGcHAgXss1Wb3QXvw0PAHiAjGvjqGTp3WoGvXbkQEl/7sx/TeqA8nfOvkpV4zcI+9eOH55wGYNPE9amtrWWcdl8qaIuX/KIeilEEiwjsR81BXt5hzr7qbB3//P1RXidsfeI433p3KqUfsAsDNf3uaQ/famtOO3JVFdXUsWFDLiRfduuT1d/7vqay7dkdqF9VxzpV38+mc+eV6K7YC2rRpwwU/+gnfOeMUFtctZvChh9Onbz/uuXsYAEcedQy77Lo7T48axcH770P79u255PJfADDmlZd5+MEH6NdvY44+4hAAzjr7XHbdbXcOOfQwLvnJxRxx6EG0bduWy664suI39cup0n82auG2X4VZidQNaF8/HRHvt/SaDlufVfzALHNmPv/bcodgFWj1diueab96wci8c85bV32j5Jm92CfFHCzpv8B7wJPAROCRYq7TzGx5VHoZpNiH7v2c5FTztyOiN7An8EyR12lm1mpVVcr7UZb4itx/bUTMBKokVUXE48BWRV6nmVmrVfrIutjHWX8qqRMwCrhD0nRgUZHXaWbWapW+g7FYh+5tmD4dDHwOnEtyqdR3gIOKsU4zsxVR6WWQYo2s7we2iYh5ku6NiMOB24u0LjOzFVbpI+tiJevcd71RkdZhZlYwFZ6ri5aso4nnZmYVaVUdWQ9ITysX0CHnFHMBERFrFmm9ZmbLpcJzddFON68uRr9mZsVS6SPr8lxF28yswhTyaBBJ+0p6S9IESRc20247SXWSjmgxvla+HzOzlVKhTopJb7LyO2A/oD9wrKT+TbS7ChiZT3xO1mZmFPR61tsDEyLi3YhYCAwjOeekoe8C9wLT84nPydrMjNaNrCUNkfRizmNITlcbAJNzpqek83LWpQ2AQ4Gl74TdjGKfbm5mlgmt2cEYEUOBoU111dhLGkxfC1wQEXX5rtfJ2syMgh66NwXomTPdA/iwQZttgWFpou4C7C9pUUTc31SnTtZmZlDIa36MBvpJ6g18ABxDcuPwJdJLRgMg6TbgoeYSNThZm5kBhTvOOiIWSTqL5CiPauCWiBgv6Yx0ed516lxO1mZmFPakmIgYAYxoMK/RJB0RJ+XTZ4tHg0i6WtKaktpKekzSx5K+mU/nZmZZUek3H8jn0L19ImI2cCBJ4Xxj4AdFjcrMrMQKeJx1UeRTBmmb/r8/cGdEfFLp59CbmbVWuW4qkK98kvWDkt4E5gPfkdQVWFDcsMzMSqvSx6AtJuuIuFDSVcDs9ADuz2n81Ekzs8yqqvBsnc8OxtWB/wFuSGetT3JAt5nZSmNl2MF4K7AQ2CmdngJcXrSIzMzKoNJ3MOaTrPtExNVALUBEzKfxc9/NzDKrSvk/yiGfHYwLJXUgvRCJpD7AF0WNysysxFaGo0F+BvwD6CnpDmBn4KRiBmVmVmqq8IJBPkeD/FPSy8AOJOWP70XEx0WPzMyshCp8YN1yspa0W/p0Tvp/f0lExKjihWVmVlqVfrJfPmWQ3FPL25PcsuYlYI+iRGRmVgYVnqvzKoMclDstqSdwddEiMjMrg+oKr4MszyVSpwCbFzoQM7NyynwZRNJv+fL+YVXAVsCrRYzJzKzkKjxX5zWyfjHn+SKSK+89U6R4zMzKotKvDZJPzfr2UgRiZlZOlZ2qm0nWksax7O3TIXlPERFbFi0qM7MSy3LN+sCSRWFmVmaZPRokIiaVMhAzs3Kq8IF1Xtez3kHSaElzJS2UVCdpdimCMzMrlUq/RGo+R4NcDxwD3ENy04ETgb7FDMrMrNQqvAqS30kxETFBUnVE1AG3SvpPkeMyMyupLO9grPe5pHbAGElXAx8BHYsblplZaVV2qm6mZi2p/j6LJ6TtzgLmAT2Bw4sfmplZ6VRXKe9HOTQ3sr5JUifgTmBYRLwOXFqasMzMSqvSyyBNjqwjYmuSY63rgL9JGiPpAkm9ShadmVmJZPru5hHxVkRcGhH9gW8BawP/luRrg5jZSqVKyvtRlvjyaSSpCugG1JDsXJxRzKDMzEqtkCNrSftKekvSBEkXNrJ8sKSxacXiRUm7tNRns0eDSNoVOBY4BHgNGAacGxGftRzuipk1+vpir8Iy6LCbXyh3CFaBRpyx/Qr3UV2gEbOkauB3wN4k1/8fLWl4ut+v3mPA8IgISVsCdwObNNdvcxdymgy8T5KgL42IaSv4HszMKlYBdzBuD0yIiHfTfocBg4ElyToi5ua070jjF81bSnMj6118fRAzW1W05og8SUOAITmzhkbE0PT5BsDknGVTgK830sehwC9JSswHtLROX8jJzIzWJes0MQ9tYnFjPS0zco6I+4D7JO0G/BzYq7l1Ls89GM3MVjoFLINMITl5sF4P4MOmGkfEKEl9JHWJiI+bapfX0SBmZiu7KuX/aMFooJ+k3umlOo4Bhuc2kNRX6beDpG2AdsDM5jptbgdj7o1ylxERZ7cYsplZRhTqNPKIWCTpLGAkUA3cEhHjJZ2RLr+R5JIdJ0qqBeYDR0dEszsZmyuDvNjMMjOzlUohywwRMQIY0WDejTnPrwKuak2fze1g9I1yzWyVUeGXBml5B6OkrsAFQH+gff38iNijiHGZmZVUuU4jz1c+I/87gDeA3iRX3ZtIUkA3M1tpZPpCTqnOEfFHoDYinoyIbwM7FDkuM7OSKuDRIEWRz3HWten/H0k6gOR4wR7FC8nMrPTKdVOBfOWTrC+XtBbwfeC3wJrAuUWNysysxCo8V7ecrCPiofTpZ8Cg4oZjZlYeqvC7MOZzNMitNH5e+7eLEpGZWRlkfmQNPJTzvD1wKM2c525mlkWZT9YRcW/utKQ7gX8VLSIzszJYGXYwNtQP2LDQgZiZlVOFnxOTV816DkvXrKeSnNFoZrbSqPQzGPMpg6xRikDMzMqpwqsgLZ/BKOmxfOaZmWVZpZ9u3tz1rNsDqwNdJK3Dl7eqWRNYvwSxmZmVTFWGj7M+HTiHJDG/xJfJejbJbdbNzFYa1RV+36zmrmd9HXCdpO9GxG9LGJOZWclV+g7GfL5LFktau35C0jqSvlO8kMzMSq/Sa9b5JOvTIuLT+omImAWcVrSIzMzKoErK+1EO+ZwUUyVJ9TdzlFRNcideM7OVRoVXQfJK1iOBuyXdSHJyzBnAP4oalZlZiVX4/sW8kvUFwBDgTJIjQh4FbipmUGZmpZb5HYwRsTgiboyIIyLicGA8yU0IzMxWGitDzRpJWwHHAkcD7wF/L2JMZmYlV9nj6ubPYNwYOIYkSc8E7gIUEb5bjJmtdCq8CtLsyPpN4CngoIiYACDJ9140s5WSKjxbN1ezPpzkcqiPS7pJ0p5U/paCmdlyqZbyfpRDk8k6Iu6LiKOBTYAnSO5oXiPpBkn7lCg+M7OSUCse5ZDP0SDzIuKOiDgQ6AGMAS4sdmBmZqUkKe9HObTqOPCI+CQi/hARexQrIDOzcqhqxaMlkvaV9JakCZKWGdxKOl7S2PTxH0kDWupzee7BaGa20inUiDm9JMfvgL2BKcBoScMj4vWcZu8Bu0fELEn7AUOBrzfXb6WfYWlmVhIFrFlvD0yIiHcjYiEwDBic2yAi/pNeFA/gOZISc7M8sjYzg0Ie5bEBMDlnegrNj5pPAR5pqVMnazMzWndSjKQhJNdMqjc0IobWL27kJdFEP4NIkvUuLa3TydrMDFArDspLE/PQJhZPAXrmTPcAPlxmfdKWwM3AfhExs6V1umZtZkZB7xQzGugnqbekdiSX7Ri+9Lq0Ick1lk6IiLfzic8jazMzCnd384hYJOksknsBVAO3RMR4SWeky28Efgp0Bn6fHoWyKCK2ba5fJ2szM6CqgHWGiBgBjGgw78ac56cCp7amz6KVQZT4pqSfptMbStq+WOszM1sRasW/cihmzfr3wI4kl1gFmENyoLiZWcWpUv6PcihmGeTrEbGNpFcguSt6Wmw3M6s45Rox56uYybo2Pe2y/q7oXYHFRVyfmdlyq/DLWRc1Wf8GuA/oJukK4Ajgx0VcXyY989QorrryChbXLebQw4/klNOGLLU8Irjql1fw9Kgnad+hPT+/4ko27b8ZUz/6iIsv+iEzZ36MVMURRx7F8Sd8q0zvwgrtaz3X4vSdN6RKYuQbM7hnzEdLLd/hK2tzwnY9WBzB4sXwh/9M4vWpcwHo2K6a7+3em17rdiCAa594jzenzS3Du8iWVXZkHRF3SHoJqL9pwSER8Uax1pdFdXV1/OKKy/jDTbdSU1PDcUcfwcBBe9Cnb98lbZ5+ahTvT5rIg488yrixr3L5ZZdwx7B7qG5Tzfk/vJBN+2/GvHlzOebIw9lhx52Xeq1lU5XgO7v04uKH3uLjeQu59rDNeG7SLCbPWrCkzZgps3lu4msAfGXdDly0d19Ov2scAKfv3IuXJn/GL/45gTZVYrU2Pp0iH+W6qUC+ink0yIbA58CDJAeEz0vnWeq1cWPp2bMXPXr2pG27duy7/wE88fhjS7V5/N+PcdDBhyCJLQdsxZw5s5kxYzpdu3Zj0/6bAdCxYyc22mgjpk+fVo63YQW2cbdOfDj7C6bO+YJFi4NR78xkx6+ss1SbBYu+rCi2b1u95FzmDm2r2Hy9NRj55gwAFi0O5i2sK1XomVbAk2KKophlkIdJ6tUC2gO9gbeAzYq4zkyZPm0a3dfrvmS6W00N48aOXbrN9GnUdP+yTU1Nd6ZPm0bXrt2WzPvggym8+cYbbLFli5fEtQzo3LEtH8/9Ysn0x3MX8tWaTsu02/Er63DS13uwdoe2/OyR5CS49dZsz2cLajl3UG826rw6E2bM48Zn3ueLRd5d1JLKHlcXcWQdEVtExJbp//1ILhv4dLHWl0XRyLVdlrmmbjTf5vN58/j+OWfzgwt/RKdOy/5BW/Y0ehWgRi4D9OzEWZx+1zh+PvK/nLDdBgBUV4m+XToyYvx0vvu38SxYtJijtl6vuAGvJKqkvB9lia9UK4qIl4HtmmsjaYikFyW9+MebmrpGysqjpqY7Uz+aumR6+rRpdOvWbak23Wq6M23ql22mTZtK17RNbW0t551zNvsfcBB77e3bYq4sPp5XS5dOqy2Z7tKpHZ98vrDJ9q99NIf11mzPmu3b8PHchXw8byFvTZ8HwNPvfEKfLh2LHvPKoNLvwVi0Moik83Imq4BtgBnNvSb3SlYLFjV+ScGVyWabb8H7709kypTJ1HSr4R8jHuaX1/xqqTYDB+3BsL/+hX33P4BxY1+lU6c16Nq1GxHBJT+9mI022ogTTzq5TO/AiuHt6XNZf63VqFmjHTPn1bJbn85c/dg7S7VZb83V+Gh2Uirp02V12lSL2QsWATBj7kI2WKs9H3y2gK16rMX7s+aX/D1kUoXXQYpZs14j5/kikhr2vUVcX+a0adOGiy7+KWcOOZXFi+s45NDD6du3H3ffdScARx19LLvutjtPj3qSA/fbm/btO3DZ5b8A4JWXX+Kh4Q/Qb+ONOeqw5CYU3z3nPHbdbfeyvR8rjMUBNzw9icsP2IQqwaNvzeD9WfPZv39XAEa8PoOdN1qXPTfuzKLFwcJFwZX/nLDk9Tc+PYkf7tmHNtVi6uwv+L/H3y3XW8mUcpU38qVorBi2op0mJ8NcGRE/WN4+VoWRtbXeYTe/UO4QrAKNOGP7Fc60o9/9LO+cs91Ga5U8sxd8ZC2pTXqJwG0K3beZWdFU9sC6KGWQF0jq02MkDQfuAebVL4yIvxdhnWZmK2SVPYMRWBeYCezBl8dbB8ndEczMKkqFl6yLkqy7pUeCvMaXSbqe69BmVpFWxWRdDXSiFXf4NTMrt1WxDPJRRFxWhH7NzIpmVRxZV/hbNjNbVqUnrmIk6z2L0KeZWXFVeLYueLKOiE8K3aeZWbGtijVrM7PMKdeNcPPlZG1mBqteGcTMLItcBjEzy4BV8dA9M7PMqfBc7WRtZgZUfLZ2sjYzo/JvPlCyezCamVWyQt6DUdK+kt6SNEHShY0s30TSs5K+kHR+PvF5ZG1mBgUrg6R3yvodsDcwBRgtaXhEvJ7T7BPgbOCQfPv1yNrMjOTQvXz/tWB7YEJEvBsRC4FhwODcBhExPSJGA7X5xudkbWZGcuhevo8WbABMzpmeks5bIU7WZma0LllLGiLpxZzHkNyuGul+ha/l75q1mRmtO4MxIoYCQ5tYPAXomTPdA/hw+SNLeGRtZkZByyCjgX6SektqBxwDDF/R+DyyNjOjcOfERMQiSWcBI0luc3hLRIyXdEa6/EZJ3YEXgTWBxZLOAfpHxOym+nWyNjODgp7BGBEjgBEN5t2Y83wqSXkkb07WZmb4qntmZpngmw+YmWVAhV8axMnazCxR2dnaydrMDI+szcwyocJztZO1mRl4ZG1mlgmq8GztZG1mhssgZmaZUOEDaydrMzPwGYxmZtlQ2bnaydrMDHy6uZlZJrgMYmaWAZW+g9F3ijEzywCPrM3MqPyRtZO1mRmuWZuZZYKPBjEzywInazOzyucyiJlZBngHo5lZBlR4rnayNjMDKj5bO1mbmQFVFV4HUUSUOwZrgaQhETG03HFYZfHnYtXi082zYUi5A7CK5M/FKsTJ2swsA5yszcwywMk6G1yXtMb4c7EK8Q5GM7MM8MjazCwDnKzNzDLAJ8WUiaQ6YFzOrEMiYmITbedGRKeSBGZlJakz8Fg62R2oA2ak09tHxMKyBGZl55p1mbQmATtZr5okXQLMjYj/zZnXJiIWlS8qKxeXQSqEpE6SHpP0sqRxkgY30mY9SaMkjZH0mqRd0/n7SHo2fe09kpzYVyKSbpP0a0mPA1dJukTS+TnLX5P0lfT5NyW9kH5G/iCpulxxW2E5WZdPh/QPaoyk+4AFwKERsQ0wCPiVtMzFCo4DRkbEVsAAYIykLsCPgb3S174InFeyd2GlsjHJ7/j7TTWQtClwNLBz+hmpA44vTXhWbK5Zl8/89A8KAEltgV9I2g1YDGwA1ABTc14zGrglbXt/RIyRtDvQH3gmze3tgGdL8xashO6JiLoW2uwJfA0YnX4WOgDTix2YlYaTdeU4HugKfC0iaiVNBNrnNoiIUWkyPwD4s6RrgFnAPyPi2FIHbCU1L+f5IpbeKq7/nAi4PSIuKllUVjIug1SOtYDpaaIeBPRq2EBSr7TNTcAfgW2A54CdJfVN26wuaeMSxm2lN5Hkd4+kbYDe6fzHgCMkdUuXrZt+Zmwl4JF15bgDeFDSi8AY4M1G2gwEfiCpFpgLnBgRMySdBNwpabW03Y+Bt4sesZXLvcCJksaQlMbeBoiI1yX9GHhUUhVQC/wPMKlcgVrh+NA9M7MMcBnEzCwDnKzNzDLAydrMLAOcrM3MMsDJ2swsA5yszcwywMnazCwDnKzNzDLAydrMLAOcrM3MMsDJ2swsA5yszcwywMnazCwDnKzNzDLAydrMLAOcrM3MMsDJ2pYiqS694/prku6RtPoK9HWbpCPS5zdL6t9M24GSdlqOdUxM7/DecL2nN5h3iKQR+cRqVomcrK2h+RGxVURsDiwEzshdKKl6eTqNiFMj4vVmmgwEWp2sm3AncEyDecek880yycnamvMU0Dcd9T4u6a/AOEnVkq6RNFrS2PpRrBLXS3pd0sNAt/qOJD0hadv0+b6SXpb0qqTHJH2F5Evh3HRUv6ukrpLuTdcxWtLO6Ws7S3pU0iuS/kByR++G/gVsImm99DWrA3sB90v6adrfa5KGSlrm9bmjdUnbSnoifd5R0i3p61+RNDidv5mkF9LYx0rqV4gfvlkuJ2trlKQ2wH7AuHTW9sDFEdEfOAX4LCK2A7YDTpPUGzgU+CqwBXAajYyUJXUFbgIOj4gBwJERMRG4Efi/dFT/FHBdOr0dcDhwc9rFz4CnI2JrYDiwYcN1REQd8HfgqHTWwcDjETEHuD4itku3HDoAB7bix3Ix8O80pkHANZI6knzRXBcRWwHbAlNa0adZXnx3c2uoQ3rXbEhG1n8kSbovRMR76fx9gC1zarxrAf2A3YA702T5oaR/N9L/DsCo+r4i4pMm4tgL6J8z8F1T0hrpOg5LX/uwpFlNvP5O4BqSpH8M8Kd0/iBJPwRWB9YFxgMPNtFHQ/sAB0s6P51uT/Jl8SxwsaQewN8j4r959meWNydra2h+OkJcIk2Y83JnAd+NiJEN2u0PRAv9K482kGz17RgR8xuJJZ/XPwOsJ2kAyZfNMZLaA78Hto2IyZIuIUm4DS3iy63O3OUi2SJ4q0H7NyQ9DxwAjJR0akQ09kVlttxcBrHlMRI4U1JbAEkbp+WAUSRJsTqtFw9q5LXPArunZRMkrZvOnwOskdPuUeCs+glJW6VPRwHHp/P2A9ZpLMCICOBu4HZgREQs4MvE+7GkTkBTR39MBL6WPj+8wfv+bn2dW9LW6f8bAe9GxG9ISjNbNtGv2XJzsrblcTPwOvCypNeAP5Bspd0H/Jekzn0D8GTDF0bEDGAI8HdJrwJ3pYseBA6t38EInA1sm+6we50vj0q5FNhN0sskZYn3m4nzTmAAMCxd96ck9fJxwP3A6CZedylwnaSngLqc+T8H2gJj0/f983T+0cBrafloE74suZgVjJIBiJmZVTKPrM3MMsDJ2swsA5yszcwywMnazCwDnKzNzDLAydrMLAOcrM3MMsDJ2swsA/4fG9RXuXlb6LgAAAAASUVORK5CYII=\n",
      "text/plain": [
       "<Figure size 432x288 with 2 Axes>"
      ]
     },
     "metadata": {
      "needs_background": "light"
     },
     "output_type": "display_data"
    }
   ],
   "source": [
    "xgb_model_pred=xgb_model.predict(test_inputs)\n",
    "\n",
    "xgb_model_pred=xgb_model.predict(test_inputs)\n",
    "\n",
    "xgb_cf_matrix=confusion_matrix(test_target,xgb_model_pred)\n",
    "ax = sns.heatmap(xgb_cf_matrix/np.sum(xgb_cf_matrix), annot=True, cmap='Blues')\n",
    "\n",
    "ax.set_title('Seaborn Confusion Matrix with labels\\n\\n');\n",
    "ax.set_xlabel('\\nPredicted Values')\n",
    "ax.set_ylabel('Actual Values ');\n",
    "\n",
    "## Ticket labels - List must be in alphabetical order\n",
    "ax.xaxis.set_ticklabels(['False','True'])\n",
    "ax.yaxis.set_ticklabels(['False','True'])\n",
    "\n",
    "## Display the visualization of the Confusion Matrix.\n",
    "plt.show()"
   ]
  },
  {
   "cell_type": "markdown",
   "metadata": {},
   "source": [
    "# Hyper Parameter Tuning of XGBClassifier"
   ]
  },
  {
   "cell_type": "code",
   "execution_count": 106,
   "metadata": {},
   "outputs": [],
   "source": [
    "def test_param(**params):\n",
    "    model = XGBClassifier(random_state=42,n_jobs=-1, **params).fit(train_inputs, train_target)\n",
    "    train_acc =model.score(train_inputs, train_target)\n",
    "    test_acc =model.score(test_inputs, test_target)\n",
    "    return train_acc, test_acc"
   ]
  },
  {
   "cell_type": "code",
   "execution_count": 107,
   "metadata": {},
   "outputs": [],
   "source": [
    "def test_param_and_plot(param_name, param_values):\n",
    "    train_accs, test_accs = [], [] \n",
    "    for value in param_values:\n",
    "        params = {param_name: value}\n",
    "        train_acc, test_acc = test_param(**params)\n",
    "        train_accs.append(train_acc)\n",
    "        test_accs.append(test_acc)\n",
    "    plt.figure(figsize=(10,6))\n",
    "    plt.title('Overfitting curve: ' + param_name)\n",
    "    plt.plot(param_values, train_accs, 'b-o')\n",
    "    plt.plot(param_values, test_accs, 'r-o')\n",
    "    plt.xlabel(param_name)\n",
    "    plt.ylabel('Accuracy')\n",
    "    plt.legend(['Training', 'Testing'])"
   ]
  },
  {
   "cell_type": "code",
   "execution_count": 108,
   "metadata": {},
   "outputs": [
    {
     "data": {
      "image/png": "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\n",
      "text/plain": [
       "<Figure size 720x432 with 1 Axes>"
      ]
     },
     "metadata": {
      "needs_background": "light"
     },
     "output_type": "display_data"
    }
   ],
   "source": [
    "test_param_and_plot('n_estimators', [50,100,200,250,300])"
   ]
  },
  {
   "cell_type": "code",
   "execution_count": 109,
   "metadata": {},
   "outputs": [
    {
     "data": {
      "text/plain": [
       "(1.0, 0.9110030047217056)"
      ]
     },
     "execution_count": 109,
     "metadata": {},
     "output_type": "execute_result"
    }
   ],
   "source": [
    "test_params(n_estimators=200)"
   ]
  },
  {
   "cell_type": "code",
   "execution_count": 110,
   "metadata": {},
   "outputs": [
    {
     "data": {
      "text/plain": [
       "(1.0, 0.9112891686936615)"
      ]
     },
     "execution_count": 110,
     "metadata": {},
     "output_type": "execute_result"
    }
   ],
   "source": [
    "test_params(n_estimators=150)"
   ]
  },
  {
   "cell_type": "code",
   "execution_count": 111,
   "metadata": {},
   "outputs": [
    {
     "data": {
      "text/plain": [
       "(1.0, 0.9111460867076835)"
      ]
     },
     "execution_count": 111,
     "metadata": {},
     "output_type": "execute_result"
    }
   ],
   "source": [
    "test_params(n_estimators=250)"
   ]
  },
  {
   "cell_type": "markdown",
   "metadata": {},
   "source": [
    "n_estimators parameter can be fixed a 250 as it gives a higher accuracy "
   ]
  },
  {
   "cell_type": "code",
   "execution_count": 112,
   "metadata": {},
   "outputs": [
    {
     "data": {
      "image/png": "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\n",
      "text/plain": [
       "<Figure size 720x432 with 1 Axes>"
      ]
     },
     "metadata": {
      "needs_background": "light"
     },
     "output_type": "display_data"
    }
   ],
   "source": [
    "test_param_and_plot('learning_rate', [0.1,0.3,0.5,0.6,0.8,0.9])"
   ]
  },
  {
   "cell_type": "code",
   "execution_count": 113,
   "metadata": {},
   "outputs": [
    {
     "data": {
      "text/plain": [
       "(0.9979147500766636, 0.9676634711689798)"
      ]
     },
     "execution_count": 113,
     "metadata": {},
     "output_type": "execute_result"
    }
   ],
   "source": [
    "test_param(learning_rate=0.5)"
   ]
  },
  {
   "cell_type": "code",
   "execution_count": 114,
   "metadata": {},
   "outputs": [
    {
     "data": {
      "text/plain": [
       "(0.9997546764796075, 0.9673773071970239)"
      ]
     },
     "execution_count": 114,
     "metadata": {},
     "output_type": "execute_result"
    }
   ],
   "source": [
    "test_param(learning_rate=0.7)"
   ]
  },
  {
   "cell_type": "code",
   "execution_count": 115,
   "metadata": {},
   "outputs": [
    {
     "data": {
      "text/plain": [
       "(0.9960748236737197, 0.9680927171269137)"
      ]
     },
     "execution_count": 115,
     "metadata": {},
     "output_type": "execute_result"
    }
   ],
   "source": [
    "test_param(learning_rate=0.4)"
   ]
  },
  {
   "cell_type": "markdown",
   "metadata": {},
   "source": [
    "learning_rate parameter can be fixed at 0.4 as it gives a higher accuracy "
   ]
  },
  {
   "cell_type": "code",
   "execution_count": 116,
   "metadata": {},
   "outputs": [
    {
     "data": {
      "image/png": "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\n",
      "text/plain": [
       "<Figure size 720x432 with 1 Axes>"
      ]
     },
     "metadata": {
      "needs_background": "light"
     },
     "output_type": "display_data"
    }
   ],
   "source": [
    "test_param_and_plot('max_depth', [2,4,6,8,10,12,16])"
   ]
  },
  {
   "cell_type": "code",
   "execution_count": 117,
   "metadata": {},
   "outputs": [
    {
     "data": {
      "text/plain": [
       "(0.9985280588776448, 0.9678065531549578)"
      ]
     },
     "execution_count": 117,
     "metadata": {},
     "output_type": "execute_result"
    }
   ],
   "source": [
    "test_param(max_depth=8)"
   ]
  },
  {
   "cell_type": "code",
   "execution_count": 118,
   "metadata": {},
   "outputs": [
    {
     "data": {
      "text/plain": [
       "(0.9957681692732291, 0.9702389469165832)"
      ]
     },
     "execution_count": 118,
     "metadata": {},
     "output_type": "execute_result"
    }
   ],
   "source": [
    "test_param(max_depth=7)"
   ]
  },
  {
   "cell_type": "code",
   "execution_count": 119,
   "metadata": {},
   "outputs": [
    {
     "data": {
      "text/plain": [
       "(0.9993253603189206, 0.970811274860495)"
      ]
     },
     "execution_count": 119,
     "metadata": {},
     "output_type": "execute_result"
    }
   ],
   "source": [
    "test_param(max_depth=9)"
   ]
  },
  {
   "cell_type": "markdown",
   "metadata": {},
   "source": [
    "max_depth parameter can be fixed at 8 as it gives a higher accuracy "
   ]
  },
  {
   "cell_type": "code",
   "execution_count": 120,
   "metadata": {},
   "outputs": [
    {
     "data": {
      "image/png": "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\n",
      "text/plain": [
       "<Figure size 720x432 with 1 Axes>"
      ]
     },
     "metadata": {
      "needs_background": "light"
     },
     "output_type": "display_data"
    }
   ],
   "source": [
    "test_param_and_plot('min_child_weight',[1,2,3,5,8,10])"
   ]
  },
  {
   "cell_type": "code",
   "execution_count": 121,
   "metadata": {},
   "outputs": [
    {
     "data": {
      "text/plain": [
       "(0.9884084636614535, 0.96694806123909)"
      ]
     },
     "execution_count": 121,
     "metadata": {},
     "output_type": "execute_result"
    }
   ],
   "source": [
    "test_param(min_child_weight=2)"
   ]
  },
  {
   "cell_type": "code",
   "execution_count": 122,
   "metadata": {},
   "outputs": [
    {
     "data": {
      "text/plain": [
       "(0.9925176326280282, 0.9685219630848476)"
      ]
     },
     "execution_count": 122,
     "metadata": {},
     "output_type": "execute_result"
    }
   ],
   "source": [
    "test_param(min_child_weight=1)"
   ]
  },
  {
   "cell_type": "code",
   "execution_count": 123,
   "metadata": {},
   "outputs": [
    {
     "data": {
      "text/plain": [
       "(0.9866298681386078, 0.9636571755615968)"
      ]
     },
     "execution_count": 123,
     "metadata": {},
     "output_type": "execute_result"
    }
   ],
   "source": [
    "test_param(min_child_weight=3)"
   ]
  },
  {
   "cell_type": "markdown",
   "metadata": {},
   "source": [
    "min_child_weight parameter can be fixed at 2 as it gives a higher accuracy "
   ]
  },
  {
   "cell_type": "code",
   "execution_count": 124,
   "metadata": {},
   "outputs": [
    {
     "data": {
      "text/plain": [
       "1.0"
      ]
     },
     "execution_count": 124,
     "metadata": {},
     "output_type": "execute_result"
    }
   ],
   "source": [
    "xgb_final=XGBClassifier(random_state=42, n_estimators=250, learning_rate=0.5,max_depth=8, min_child_weight=2)\n",
    "xgb_final.fit(train_inputs,train_target)\n",
    "xgb_final.score(train_inputs,train_target)"
   ]
  },
  {
   "cell_type": "code",
   "execution_count": 125,
   "metadata": {},
   "outputs": [
    {
     "data": {
      "text/plain": [
       "0.9655172413793104"
      ]
     },
     "execution_count": 125,
     "metadata": {},
     "output_type": "execute_result"
    }
   ],
   "source": [
    "xgb_final.score(test_inputs,test_target)"
   ]
  },
  {
   "cell_type": "code",
   "execution_count": 126,
   "metadata": {},
   "outputs": [],
   "source": [
    "model_accuracy['XGBCLassifier After Tuning']=round((xgb_final.score(test_inputs,test_target))*100,2)"
   ]
  },
  {
   "cell_type": "code",
   "execution_count": 127,
   "metadata": {},
   "outputs": [
    {
     "data": {
      "image/png": "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\n",
      "text/plain": [
       "<Figure size 432x288 with 2 Axes>"
      ]
     },
     "metadata": {
      "needs_background": "light"
     },
     "output_type": "display_data"
    }
   ],
   "source": [
    "xgb_final_pred=xgb_final.predict(test_inputs)\n",
    "\n",
    "xgb_final_pred=xgb_final.predict(test_inputs)\n",
    "\n",
    "xgb_cf_matrix2=confusion_matrix(test_target,xgb_final_pred)\n",
    "ax = sns.heatmap(xgb_cf_matrix2/np.sum(xgb_cf_matrix2), annot=True, cmap='Blues')\n",
    "\n",
    "ax.set_title('Seaborn Confusion Matrix with labels\\n\\n');\n",
    "ax.set_xlabel('\\nPredicted Values')\n",
    "ax.set_ylabel('Actual Values ');\n",
    "\n",
    "## Ticket labels - List must be in alphabetical order\n",
    "ax.xaxis.set_ticklabels(['False','True'])\n",
    "ax.yaxis.set_ticklabels(['False','True'])\n",
    "\n",
    "## Display the visualization of the Confusion Matrix.\n",
    "plt.show()"
   ]
  },
  {
   "cell_type": "markdown",
   "metadata": {},
   "source": [
    "# Model Comparison"
   ]
  },
  {
   "cell_type": "code",
   "execution_count": 128,
   "metadata": {},
   "outputs": [
    {
     "data": {
      "text/plain": [
       "{'Model': ['Logistic Regression Before Tuning',\n",
       "  'Logistic Regression After Tuning',\n",
       "  'RandomForestClassifier Before Tuning',\n",
       "  'RandomForestClassifier After Tuning',\n",
       "  'XGBCLassifier Before Tuning',\n",
       "  'XGBCLassifier After Tuning'],\n",
       " 'Accuracy': [85.23, 85.18, 90.97, 94.83, 95.38, 96.55]}"
      ]
     },
     "execution_count": 128,
     "metadata": {},
     "output_type": "execute_result"
    }
   ],
   "source": [
    "model_accuracy_={'Model':list(model_accuracy.keys()),'Accuracy':list(model_accuracy.values())}\n",
    "model_accuracy_"
   ]
  },
  {
   "cell_type": "code",
   "execution_count": 129,
   "metadata": {},
   "outputs": [
    {
     "data": {
      "text/html": [
       "<div>\n",
       "<style scoped>\n",
       "    .dataframe tbody tr th:only-of-type {\n",
       "        vertical-align: middle;\n",
       "    }\n",
       "\n",
       "    .dataframe tbody tr th {\n",
       "        vertical-align: top;\n",
       "    }\n",
       "\n",
       "    .dataframe thead th {\n",
       "        text-align: right;\n",
       "    }\n",
       "</style>\n",
       "<table border=\"1\" class=\"dataframe\">\n",
       "  <thead>\n",
       "    <tr style=\"text-align: right;\">\n",
       "      <th></th>\n",
       "      <th>Model</th>\n",
       "      <th>Accuracy</th>\n",
       "    </tr>\n",
       "  </thead>\n",
       "  <tbody>\n",
       "    <tr>\n",
       "      <th>0</th>\n",
       "      <td>Logistic Regression Before Tuning</td>\n",
       "      <td>85.23</td>\n",
       "    </tr>\n",
       "    <tr>\n",
       "      <th>1</th>\n",
       "      <td>Logistic Regression After Tuning</td>\n",
       "      <td>85.18</td>\n",
       "    </tr>\n",
       "    <tr>\n",
       "      <th>2</th>\n",
       "      <td>RandomForestClassifier Before Tuning</td>\n",
       "      <td>90.97</td>\n",
       "    </tr>\n",
       "    <tr>\n",
       "      <th>3</th>\n",
       "      <td>RandomForestClassifier After Tuning</td>\n",
       "      <td>94.83</td>\n",
       "    </tr>\n",
       "    <tr>\n",
       "      <th>4</th>\n",
       "      <td>XGBCLassifier Before Tuning</td>\n",
       "      <td>95.38</td>\n",
       "    </tr>\n",
       "    <tr>\n",
       "      <th>5</th>\n",
       "      <td>XGBCLassifier After Tuning</td>\n",
       "      <td>96.55</td>\n",
       "    </tr>\n",
       "  </tbody>\n",
       "</table>\n",
       "</div>"
      ],
      "text/plain": [
       "                                  Model  Accuracy\n",
       "0     Logistic Regression Before Tuning     85.23\n",
       "1      Logistic Regression After Tuning     85.18\n",
       "2  RandomForestClassifier Before Tuning     90.97\n",
       "3   RandomForestClassifier After Tuning     94.83\n",
       "4           XGBCLassifier Before Tuning     95.38\n",
       "5            XGBCLassifier After Tuning     96.55"
      ]
     },
     "execution_count": 129,
     "metadata": {},
     "output_type": "execute_result"
    }
   ],
   "source": [
    "accuracy = pd.DataFrame.from_dict(model_accuracy_)\n",
    "accuracy"
   ]
  },
  {
   "cell_type": "markdown",
   "metadata": {},
   "source": [
    "#### From the initial models and the final ones after tuning hyperparameters we find that XGB Classifier after tuning gave the highest accuracy."
   ]
  },
  {
   "cell_type": "markdown",
   "metadata": {},
   "source": [
    "# Summary"
   ]
  },
  {
   "cell_type": "markdown",
   "metadata": {},
   "source": [
    "With the given dataset, first we cleaned the data, removed unwanted columns, dropped missing data rows and balanced data. All these steps come under preprocessing data. This helps us set up the stage to apply the models for classification.\n",
    "\n",
    "For classification, we use three different types of models: Logistic Regression, Random FOrest Classifier, XGBClassifier. By recognizing import hyper parameters, we tuned the parameters, and found the model with higher accuracy."
   ]
  },
  {
   "cell_type": "markdown",
   "metadata": {},
   "source": [
    "# Future Work"
   ]
  },
  {
   "cell_type": "markdown",
   "metadata": {},
   "source": [
    "The best model's accuracy is pretty good for a classification. We can try same classification processes to a bigger dataset of stellar classification or a more challenging problem with more features ."
   ]
  },
  {
   "cell_type": "markdown",
   "metadata": {},
   "source": [
    "# References"
   ]
  },
  {
   "cell_type": "markdown",
   "metadata": {},
   "source": [
    "* JOVIAN COURSES\n",
    "* TOP PROJECTS LISTED IN THE JOVIAN COURSE PAGE\n",
    "* KAGGLE COURSES"
   ]
  },
  {
   "cell_type": "code",
   "execution_count": 130,
   "metadata": {},
   "outputs": [
    {
     "name": "stdout",
     "output_type": "stream",
     "text": [
      "Note: you may need to restart the kernel to use updated packages.\n"
     ]
    }
   ],
   "source": [
    "pip install jovian --upgrade --quiet"
   ]
  },
  {
   "cell_type": "code",
   "execution_count": 131,
   "metadata": {},
   "outputs": [],
   "source": [
    "import jovian"
   ]
  },
  {
   "cell_type": "code",
   "execution_count": null,
   "metadata": {},
   "outputs": [
    {
     "data": {
      "application/javascript": [
       "window.require && require([\"base/js/namespace\"],function(Jupyter){Jupyter.notebook.save_checkpoint()})"
      ],
      "text/plain": [
       "<IPython.core.display.Javascript object>"
      ]
     },
     "metadata": {},
     "output_type": "display_data"
    }
   ],
   "source": [
    "jovian.commit()"
   ]
  },
  {
   "cell_type": "code",
   "execution_count": null,
   "metadata": {},
   "outputs": [],
   "source": []
  }
 ],
 "metadata": {
  "language_info": {
   "codemirror_mode": {
    "name": "ipython",
    "version": 3
   },
   "file_extension": ".py",
   "mimetype": "text/x-python",
   "name": "python",
   "nbconvert_exporter": "python",
   "pygments_lexer": "ipython3",
   "version": "3.9.12"
  }
 },
 "nbformat": 4,
 "nbformat_minor": 4
}
